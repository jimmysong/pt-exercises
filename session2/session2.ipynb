{
 "cells": [
  {
   "cell_type": "code",
   "execution_count": null,
   "id": "b9ba0184",
   "metadata": {
    "slideshow": {
     "slide_type": "skip"
    }
   },
   "outputs": [],
   "source": [
    "############## PLEASE RUN THIS CELL FIRST! ###################\n",
    "\n",
    "# import everything and define a test runner function\n",
    "from importlib import reload\n",
    "from helper import run\n",
    "import ecc, op, script, taproot"
   ]
  },
  {
   "cell_type": "markdown",
   "id": "81894a08",
   "metadata": {
    "slideshow": {
     "slide_type": "slide"
    }
   },
   "source": [
    "# Spending plan\n",
    "* We have 20,000 sats in this output: 871864d7631024465fc210e553fa9f50e7f0f2359288ad121aa733d65e366995:0\n",
    "* We want to spend all of it to tb1ptaqplrhnyh3kq85n7dtm5vcpgstt0ev80f4wd8ngeppch4fzu8mquchufq\n",
    "* 1 input/1 output transaction\n"
   ]
  },
  {
   "cell_type": "code",
   "execution_count": null,
   "id": "95bd477e",
   "metadata": {
    "slideshow": {
     "slide_type": "slide"
    }
   },
   "outputs": [],
   "source": [
    "# Spending from a p2tr\n",
    "from ecc import PrivateKey, N\n",
    "from hash import sha256\n",
    "from helper import big_endian_to_int\n",
    "from script import address_to_script_pubkey\n",
    "from tx import Tx, TxIn, TxOut\n",
    "my_email = b\"jimmy@programmingblockchain.com\"\n",
    "my_secret = big_endian_to_int(sha256(my_email))\n",
    "priv = PrivateKey(my_secret)\n",
    "prev_tx = bytes.fromhex(\"871864d7631024465fc210e553fa9f50e7f0f2359288ad121aa733d65e366995\")\n",
    "prev_index = 0\n",
    "target_address = \"tb1ptaqplrhnyh3kq85n7dtm5vcpgstt0ev80f4wd8ngeppch4fzu8mquchufq\"\n",
    "fee = 500\n",
    "tx_in = TxIn(prev_tx, prev_index)\n",
    "target_script_pubkey = address_to_script_pubkey(target_address)\n",
    "target_amount = tx_in.value(network=\"signet\") - fee\n",
    "tx_out = TxOut(target_amount, target_script_pubkey)\n",
    "tx_obj = Tx(1, [tx_in], [tx_out], network=\"signet\", segwit=True)\n",
    "tweaked_secret = (priv.secret + big_endian_to_int(priv.point.tweak())) % N\n",
    "tweaked_key = PrivateKey(tweaked_secret)\n",
    "tx_obj.sign_p2tr_keypath(0, tweaked_key)\n",
    "print(tx_obj.serialize().hex())"
   ]
  },
  {
   "cell_type": "markdown",
   "id": "c71c9e5b",
   "metadata": {
    "slideshow": {
     "slide_type": "slide"
    }
   },
   "source": [
    "### Exercise 1\n",
    "\n",
    "\n",
    "\n",
    "\n",
    "#### Make [this test](/edit/session2/ecc.py) pass: `ecc.py:PrivateKeyTest:test_tweaked_key`"
   ]
  },
  {
   "cell_type": "code",
   "execution_count": null,
   "id": "f6ec19e1",
   "metadata": {},
   "outputs": [],
   "source": [
    "# Exercise 1\n",
    "\n",
    "reload(ecc)\n",
    "run(ecc.PrivateKeyTest('test_tweaked_key'))"
   ]
  },
  {
   "cell_type": "markdown",
   "id": "2e2a5537",
   "metadata": {
    "slideshow": {
     "slide_type": "slide"
    }
   },
   "source": [
    "### Exercise 2\n",
    "\n",
    "## Checkpoint Exercise\n",
    "\n",
    "You have been sent 100,000 sats to your address on Signet. Send 40,000 sats back to <code>tb1q7kn55vf3mmd40gyj46r245lw87dc6us5n50lrg</code>, the rest to yourself.\n",
    "\n",
    "Use <a href=\"https://mempool.space/signet/tx/push\" target=\"_mempool\">Mempool Signet</a> to broadcast your transaction\n",
    "\n"
   ]
  },
  {
   "cell_type": "code",
   "execution_count": null,
   "id": "3386f700",
   "metadata": {},
   "outputs": [],
   "source": [
    "# Exercise 2\n",
    "\n",
    "from ecc import PrivateKey\n",
    "from hash import sha256\n",
    "from helper import big_endian_to_int\n",
    "from script import address_to_script_pubkey\n",
    "from tx import Tx, TxIn, TxOut\n",
    "my_email = b\"<fill this in with your email>\"\n",
    "my_secret = big_endian_to_int(sha256(my_email))\n",
    "priv = PrivateKey(my_secret)\n",
    "target_address = \"tb1q7kn55vf3mmd40gyj46r245lw87dc6us5n50lrg\"\n",
    "target_amount = 40000\n",
    "fee = 500\n",
    "# fill the next two variables from the block explorer\n",
    "prev_tx = bytes.fromhex(\"<fill in from block explorer>\")\n",
    "prev_index = -1\n",
    "# create the one input\n",
    "\n",
    "# use the address_to_script_pubkey to get the ScriptPubKey\n",
    "\n",
    "# create the target output\n",
    "\n",
    "# calculate the change amount\n",
    "\n",
    "# use the private key's point's p2tr_script method to get the change ScriptPubkey\n",
    "\n",
    "# create the change output\n",
    "\n",
    "# create the transaction\n",
    "\n",
    "# sign the transaction using the tweaked key and the sign_p2tr_keypath method\n",
    "\n",
    "# print the serialized hex\n"
   ]
  },
  {
   "cell_type": "markdown",
   "id": "c495b89f",
   "metadata": {
    "slideshow": {
     "slide_type": "slide"
    }
   },
   "source": [
    "# OP_CHECKSIGADD\n",
    "* Consumes the top three elements: a pubkey, a number, and a signature.\n",
    "* Valid sig, returns the number+1 to the stack\n",
    "* Invalid sig, returns the number back to the stack\n"
   ]
  },
  {
   "cell_type": "code",
   "execution_count": null,
   "id": "e3fe5c7e",
   "metadata": {
    "slideshow": {
     "slide_type": "slide"
    }
   },
   "outputs": [],
   "source": [
    "def op_checksigadd_schnorr(stack, tx_obj, input_index):\n",
    "    # check to see if there's at least 3 elements\n",
    "    if len(stack) < 3:\n",
    "        return False\n",
    "    # pop off the pubkey\n",
    "    pubkey = stack.pop()\n",
    "    # pop off the n and do decode_num on it\n",
    "    n = decode_num(stack.pop())\n",
    "    # pop off the signature\n",
    "    sig = stack.pop()\n",
    "    # parse the pubkey\n",
    "    point = S256Point.parse_xonly(pubkey)\n",
    "    # if the signature has 0 length, it is not valid\n",
    "    # so put encode_num(n) back on stack and return True\n",
    "    if len(sig) == 0:\n",
    "        stack.append(encode_num(n))\n",
    "        return True\n",
    "    # use the get_signature_and_hashtype function on the sig\n",
    "    schnorr, hash_type = get_signature_and_hashtype(sig)\n",
    "    # get the message from the tx_obj.sig_hash using input index and hash type\n",
    "    msg = tx_obj.sig_hash(input_index, hash_type)\n",
    "    # verify the Schnorr signature\n",
    "    if point.verify_schnorr(msg, schnorr):\n",
    "        # if valid, increment the n, encode_num it and push back on stack\n",
    "        stack.append(encode_num(n + 1))\n",
    "    else:\n",
    "        # if invalid, encode_num on n and push back on stack\n",
    "        stack.append(encode_num(n))\n",
    "    # return True for successful execution\n",
    "    return True"
   ]
  },
  {
   "cell_type": "markdown",
   "id": "8054cddc",
   "metadata": {
    "slideshow": {
     "slide_type": "slide"
    }
   },
   "source": [
    "# Example TapScripts\n",
    "* 1-of-1 (pay-to-pubkey) [pubkey, OP_CHECKSIG]\n",
    "* 2-of-2 [pubkey A, OP_CHECKSIGVERIFY, pubkey B, OP_CHECKSIG]\n",
    "* 2-of-3 [pubkey A, OP_CHECKSIG, pubkey B, OP_CHECKSIGADD, pubkey C, OP_CHECKSIGADD, OP_2, OP_EQUAL]\n",
    "* halvening timelock 1-of-1 [840000, OP_CHECKLOCKTIMEVERIFY, OP_DROP, pubkey, OP_CHECKSIG]\n"
   ]
  },
  {
   "cell_type": "code",
   "execution_count": null,
   "id": "7d7134b0",
   "metadata": {
    "slideshow": {
     "slide_type": "slide"
    }
   },
   "outputs": [],
   "source": [
    "# Example TapScripts\n",
    "from ecc import PrivateKey\n",
    "from op import encode_minimal_num\n",
    "from taproot import TapScript\n",
    "pubkey_a = PrivateKey(11111111).point.xonly()\n",
    "pubkey_b = PrivateKey(22222222).point.xonly()\n",
    "pubkey_c = PrivateKey(33333333).point.xonly()\n",
    "# 1-of-1 (0xAC is OP_CHECKSIG)\n",
    "tap_script = TapScript([pubkey_a, 0xAC])\n",
    "print(tap_script)\n",
    "# 2-of-2 (0xAD is OP_CHECKSIGVERIFY)\n",
    "tap_script = TapScript([pubkey_a, 0xAD, pubkey_b, 0xAC])\n",
    "print(tap_script)\n",
    "# 2-of-3 (0xBA is OP_CHECKSIGADD, 0x52 is OP_2, 0x87 is OP_EQUAL)\n",
    "tap_script = TapScript([pubkey_a, 0xAC, pubkey_b, 0xBA, pubkey_c, 0xBA, 0x52, 0x87])\n",
    "print(tap_script)\n",
    "# halvening timelock 1-of-1 (0xB1 is OP_CLTV, 0x75 is OP_DROP)\n",
    "tap_script = TapScript([encode_minimal_num(840000), 0xB1, 0x75, pubkey_a, 0xAC])\n",
    "print(tap_script)"
   ]
  },
  {
   "cell_type": "markdown",
   "id": "3d7e6f9d",
   "metadata": {
    "slideshow": {
     "slide_type": "slide"
    }
   },
   "source": [
    "### Exercise 3\n",
    "\n",
    "Make a TapScript for 4-of-4 using pubkeys from private keys which correspond to 10101, 20202, 30303, 40404\n",
    "\n"
   ]
  },
  {
   "cell_type": "code",
   "execution_count": null,
   "id": "1a08eade",
   "metadata": {},
   "outputs": [],
   "source": [
    "# Exercise 3\n",
    "\n",
    "from ecc import PrivateKey\n",
    "from taproot import TapScript\n",
    "pubkey_1 = PrivateKey(10101).point.xonly()\n",
    "pubkey_2 = PrivateKey(20202).point.xonly()\n",
    "pubkey_3 = PrivateKey(30303).point.xonly()\n",
    "pubkey_4 = PrivateKey(40404).point.xonly()\n",
    "# create a 4-of-4 tapscript that uses OP_CHECKSIGVERIFY (0xad) and OP_CHECKSIG (0xac)\n",
    "\n",
    "# print the TapScript\n"
   ]
  },
  {
   "cell_type": "markdown",
   "id": "a5426457",
   "metadata": {
    "slideshow": {
     "slide_type": "slide"
    }
   },
   "source": [
    "# TapLeaf\n",
    "* These are the leaves of the Merkle Tree\n",
    "* Has a TapLeaf Version (<code>0xc0</code>) and TapScript\n",
    "* Any Leaf can be executed to satisfy the Taproot Script Path\n",
    "* Hash of a TapLeaf is a Tagged Hash (TapLeaf) of the version + TapScript\n"
   ]
  },
  {
   "cell_type": "code",
   "execution_count": null,
   "id": "6dda86f9",
   "metadata": {
    "slideshow": {
     "slide_type": "slide"
    }
   },
   "outputs": [],
   "source": [
    "# Example of making a TapLeaf and calculating the hash\n",
    "from ecc import PrivateKey\n",
    "from hash import hash_tapleaf\n",
    "from helper import int_to_byte\n",
    "from taproot import TapScript, TapLeaf\n",
    "pubkey_a = PrivateKey(11111111).point.xonly()\n",
    "pubkey_b = PrivateKey(22222222).point.xonly()\n",
    "tap_script = TapScript([pubkey_a, 0xAD, pubkey_b, 0xAC])\n",
    "tap_leaf = TapLeaf(tap_script)\n",
    "h = hash_tapleaf(int_to_byte(tap_leaf.tapleaf_version) + tap_leaf.tap_script.serialize())\n",
    "print(h.hex())"
   ]
  },
  {
   "cell_type": "markdown",
   "id": "350c7089",
   "metadata": {
    "slideshow": {
     "slide_type": "slide"
    }
   },
   "source": [
    "### Exercise 4\n",
    "\n",
    "Calculate the TapLeaf hash whose TapScript is a 2-of-4 using pubkeys from private keys which correspond to 10101, 20202, 30303, 40404\n",
    "\n"
   ]
  },
  {
   "cell_type": "code",
   "execution_count": null,
   "id": "1e39808d",
   "metadata": {},
   "outputs": [],
   "source": [
    "# Exercise 4\n",
    "\n",
    "from ecc import PrivateKey\n",
    "from hash import hash_tapleaf\n",
    "from helper import int_to_byte\n",
    "from taproot import TapScript, TapLeaf\n",
    "pubkey_1 = PrivateKey(10101).point.xonly()\n",
    "pubkey_2 = PrivateKey(20202).point.xonly()\n",
    "pubkey_3 = PrivateKey(30303).point.xonly()\n",
    "pubkey_4 = PrivateKey(40404).point.xonly()\n",
    "# create a 2-of-4 TapScript that uses OP_CHECKSIG (0xac), OP_CHECKSIGADD (0xba), OP_2 (0x52) and OP_EQUAL (0x87)\n",
    "\n",
    "# create the TapLeaf with the TapScript\n",
    "\n",
    "# calculate the hash by using hash_tapleaf on the tapleaf version and the tap script\n",
    "\n",
    "# print the hash hex\n"
   ]
  },
  {
   "cell_type": "markdown",
   "id": "b29af461",
   "metadata": {
    "slideshow": {
     "slide_type": "slide"
    }
   },
   "source": [
    "### Exercise 5\n",
    "\n",
    "\n",
    "\n",
    "\n",
    "#### Make [this test](/edit/session2/taproot.py) pass: `taproot.py:TapRootTest:test_tapleaf_hash`"
   ]
  },
  {
   "cell_type": "code",
   "execution_count": null,
   "id": "dfd8aeb0",
   "metadata": {},
   "outputs": [],
   "source": [
    "# Exercise 5\n",
    "\n",
    "reload(taproot)\n",
    "run(taproot.TapRootTest('test_tapleaf_hash'))"
   ]
  },
  {
   "cell_type": "markdown",
   "id": "13b4d08c",
   "metadata": {
    "slideshow": {
     "slide_type": "slide"
    }
   },
   "source": [
    "# TapBranch\n",
    "* These are the branches of the Merkle Tree\n",
    "* These connect a left child and a right child.\n",
    "* Each child is a TapLeaf or TapBranch\n",
    "* Hash of a TapBranch is a Tagged Hash (TapBranch) of the left hash and right hash, sorted\n"
   ]
  },
  {
   "cell_type": "code",
   "execution_count": null,
   "id": "d54afad9",
   "metadata": {
    "slideshow": {
     "slide_type": "slide"
    }
   },
   "outputs": [],
   "source": [
    "# Example of making a TapBranch and calculating the hash\n",
    "from ecc import PrivateKey\n",
    "from hash import hash_tapbranch\n",
    "from helper import int_to_byte\n",
    "from taproot import TapScript, TapLeaf, TapBranch\n",
    "pubkey_1 = PrivateKey(11111111).point.xonly()\n",
    "pubkey_2 = PrivateKey(22222222).point.xonly()\n",
    "tap_script_1 = TapScript([pubkey_1, 0xAC])\n",
    "tap_script_2 = TapScript([pubkey_2, 0xAC])\n",
    "tap_leaf_1 = TapLeaf(tap_script_1)\n",
    "tap_leaf_2 = TapLeaf(tap_script_2)\n",
    "tap_branch = TapBranch(tap_leaf_1, tap_leaf_2)\n",
    "left_hash = tap_branch.left.hash()\n",
    "right_hash = tap_branch.right.hash()\n",
    "if left_hash > right_hash:\n",
    "    h = hash_tapbranch(left_hash + right_hash)\n",
    "else:\n",
    "    h = hash_tapbranch(right_hash + left_hash)\n",
    "print(h.hex())"
   ]
  },
  {
   "cell_type": "markdown",
   "id": "ad4d49e8",
   "metadata": {
    "slideshow": {
     "slide_type": "slide"
    }
   },
   "source": [
    "### Exercise 6\n",
    "\n",
    "TabBranch Calculation\n",
    "\n",
    "Calculate the TabBranch hash whose left and right nodes are TapLeafs whose TapScripts are for a 1-of-2 using pubkeys from private keys which correspond to (10101, 20202) for the left, (30303, 40404) for the right\n",
    "\n"
   ]
  },
  {
   "cell_type": "code",
   "execution_count": null,
   "id": "13bdaa28",
   "metadata": {},
   "outputs": [],
   "source": [
    "# Exercise 6\n",
    "\n",
    "from ecc import PrivateKey\n",
    "from hash import hash_tapbranch\n",
    "from helper import int_to_byte\n",
    "from taproot import TapScript, TapLeaf, TapBranch\n",
    "pubkey_1 = PrivateKey(10101).point.xonly()\n",
    "pubkey_2 = PrivateKey(20202).point.xonly()\n",
    "pubkey_3 = PrivateKey(30303).point.xonly()\n",
    "pubkey_4 = PrivateKey(40404).point.xonly()\n",
    "# create two 1-of-2 TapScripts\n",
    "\n",
    "\n",
    "# create two TapLeafs with the TapScripts\n",
    "\n",
    "\n",
    "# create the branch\n",
    "\n",
    "# get the left and right hashes\n",
    "\n",
    "\n",
    "# calculate the hash using the sorted order with hash_tapbranch\n",
    "\n",
    "\n",
    "\n",
    "\n",
    "# print the hex of the hash\n"
   ]
  },
  {
   "cell_type": "markdown",
   "id": "772eaa58",
   "metadata": {
    "slideshow": {
     "slide_type": "slide"
    }
   },
   "source": [
    "### Exercise 7\n",
    "\n",
    "\n",
    "\n",
    "\n",
    "#### Make [this test](/edit/session2/taproot.py) pass: `taproot.py:TapRootTest:test_tapbranch_hash`"
   ]
  },
  {
   "cell_type": "code",
   "execution_count": null,
   "id": "a11fc80c",
   "metadata": {},
   "outputs": [],
   "source": [
    "# Exercise 7\n",
    "\n",
    "reload(taproot)\n",
    "run(taproot.TapRootTest('test_tapbranch_hash'))"
   ]
  },
  {
   "cell_type": "markdown",
   "id": "7ef00515",
   "metadata": {
    "slideshow": {
     "slide_type": "slide"
    }
   },
   "source": [
    "# Computing the Merkle Root\n",
    "* The Merkle Root is the hash of the root element of the Merkle Tree\n",
    "* For TapLeaf: TapLeafHash(version + TapScript serialization)\n",
    "* For TapBranch: TapBranchHash(sorted(left, right))\n",
    "* It doesn't have to be the hash of anything, just has to be 32 bytes\n"
   ]
  },
  {
   "cell_type": "code",
   "execution_count": null,
   "id": "4129628f",
   "metadata": {
    "slideshow": {
     "slide_type": "slide"
    }
   },
   "outputs": [],
   "source": [
    "# Example of Comupting the Merkle Root\n",
    "from ecc import PrivateKey\n",
    "from hash import hash_tapbranch\n",
    "from helper import int_to_byte\n",
    "from taproot import TapScript, TapLeaf, TapBranch\n",
    "pubkey_1 = PrivateKey(11111111).point.xonly()\n",
    "pubkey_2 = PrivateKey(22222222).point.xonly()\n",
    "pubkey_3 = PrivateKey(33333333).point.xonly()\n",
    "tap_script_1 = TapScript([pubkey_1, 0xAC])\n",
    "tap_script_2 = TapScript([pubkey_2, 0xAC])\n",
    "tap_script_3 = TapScript([pubkey_3, 0xAC])\n",
    "tap_leaf_1 = TapLeaf(tap_script_1)\n",
    "tap_leaf_2 = TapLeaf(tap_script_2)\n",
    "tap_leaf_3 = TapLeaf(tap_script_3)\n",
    "tap_branch_1 = TapBranch(tap_leaf_1, tap_leaf_2)\n",
    "tap_root = TapBranch(tap_branch_1, tap_leaf_3)\n",
    "merkle_root = tap_root.hash()\n",
    "print(merkle_root.hex())"
   ]
  },
  {
   "cell_type": "markdown",
   "id": "67593535",
   "metadata": {
    "slideshow": {
     "slide_type": "slide"
    }
   },
   "source": [
    "### Exercise 8\n",
    "\n",
    "Calculate the External PubKey for a Taproot output whose internal pubkey is 90909 and whose Merkle Root is from two TapBranches, each of which is a single signature TapLeaf. The private keys corresponding to the left TapBranch's TapLeafs are 10101 and 20202. The private keys corresponding to the right TapBranch's TapLeafs are 30303 and 40404.\n",
    "\n"
   ]
  },
  {
   "cell_type": "code",
   "execution_count": null,
   "id": "9a65bec4",
   "metadata": {},
   "outputs": [],
   "source": [
    "# Exercise 8\n",
    "\n",
    "from ecc import PrivateKey\n",
    "from helper import big_endian_to_int\n",
    "from taproot import TapScript, TapLeaf, TapBranch\n",
    "internal_pubkey = PrivateKey(90909).point\n",
    "pubkey_1 = PrivateKey(10101).point.xonly()\n",
    "pubkey_2 = PrivateKey(20202).point.xonly()\n",
    "pubkey_3 = PrivateKey(30303).point.xonly()\n",
    "pubkey_4 = PrivateKey(40404).point.xonly()\n",
    "# create four tap scripts [pubkey, 0xac] one for each pubkey\n",
    "\n",
    "\n",
    "\n",
    "\n",
    "# create four TapLeafs with the TapScripts\n",
    "\n",
    "\n",
    "\n",
    "\n",
    "# create two TapBranches that have these TapLeafs\n",
    "\n",
    "\n",
    "# create another TapBranch that corresponds to the merkle root and get its hash\n",
    "\n",
    "# the external public key is the internal public key tweaked with the Merkle Root\n",
    "\n",
    "# print the hex of the xonly of the external pubkey\n"
   ]
  },
  {
   "cell_type": "markdown",
   "id": "55c5bbf9",
   "metadata": {
    "slideshow": {
     "slide_type": "slide"
    }
   },
   "source": [
    "# Control Block\n",
    "* Required for spending a TapScript, last element of Witness\n",
    "* TapScript Version (<code>0xc0</code> or <code>0xc1</code>)\n",
    "* The last bit expresses the parity of the external pubkey, which is necessary for batch verification\n",
    "* Internal PubKey $P$\n",
    "* Merkle Proof (list of hashes to combine to get to the Merkle Root)\n"
   ]
  },
  {
   "cell_type": "markdown",
   "id": "d7e16cc2",
   "metadata": {
    "slideshow": {
     "slide_type": "slide"
    }
   },
   "source": [
    "# Merkle Proof\n",
    "* List of hashes\n",
    "* Combine each with the hash of the TapScript, sorting them each time\n",
    "* The result is the Merkle Root $m$, which is combined with the Internal PubKey $P$ to get the tweak $t$ with the formula $t=H_{taptweak}(P+m)$\n",
    "* If the result of $P+tG=Q$ where $Q$ is the External PubKey from the UTXO, this is a valid TapScript\n"
   ]
  },
  {
   "cell_type": "code",
   "execution_count": null,
   "id": "e4ef9634",
   "metadata": {
    "slideshow": {
     "slide_type": "slide"
    }
   },
   "outputs": [],
   "source": [
    "# Example of Control Block Validation\n",
    "from ecc import PrivateKey, S256Point\n",
    "from hash import hash_tapbranch\n",
    "from helper import int_to_byte\n",
    "from taproot import TapScript, TapLeaf, TapBranch\n",
    "external_pubkey_xonly = bytes.fromhex(\"cbe433288ae1eede1f24818f08046d4e647fef808cfbbffc7d10f24a698eecfd\")\n",
    "pubkey_2 = bytes.fromhex(\"027aa71d9cdb31cd8fe037a6f441e624fe478a2deece7affa840312b14e971a4\")\n",
    "tap_script_2 = TapScript([pubkey_2, 0xAC])\n",
    "tap_leaf_2 = TapLeaf(tap_script_2)\n",
    "tap_leaf_1_hash = bytes.fromhex(\"76f5c1cdfc8b07dc8edca5bef2b4991201c5a0e18b1dbbcfe00ef2295b8f6dff\")\n",
    "tap_leaf_3_hash = bytes.fromhex(\"5dd270ec91aa5644d907059400edfd98e307a6f1c6fe3a2d1d4550674ff6bc6e\")\n",
    "internal_pubkey = S256Point.parse(bytes.fromhex(\"407910a4cfa5fe195ad4844b6069489fcb429f27dff811c65e99f7d776e943e5\"))\n",
    "current = tap_leaf_2.hash()\n",
    "for h in (tap_leaf_1_hash, tap_leaf_3_hash):\n",
    "    if h < current:\n",
    "        current = hash_tapbranch(h + current)\n",
    "    else:\n",
    "        current = hash_tapbranch(current + h)\n",
    "print(internal_pubkey.tweaked_key(current).xonly() == external_pubkey_xonly)\n",
    "print(internal_pubkey.p2tr_address(current, network=\"signet\"))"
   ]
  },
  {
   "cell_type": "markdown",
   "id": "6b83d02f",
   "metadata": {
    "slideshow": {
     "slide_type": "slide"
    }
   },
   "source": [
    "### Exercise 9\n",
    "\n",
    "Validate the Control Block for the pubkey whose private key is 40404 for the external pubkey from the last exercise\n",
    "\n"
   ]
  },
  {
   "cell_type": "code",
   "execution_count": null,
   "id": "521590cd",
   "metadata": {},
   "outputs": [],
   "source": [
    "# Exercise 9\n",
    "\n",
    "from ecc import PrivateKey, S256Point\n",
    "from helper import big_endian_to_int\n",
    "from taproot import TapScript, TapLeaf, TapBranch\n",
    "external_pubkey_xonly = bytes.fromhex(\"8b9f09cd4a33e62b0c9d086056bbdeb7a218c1e4830291b9be56841b31d94ccb\")\n",
    "internal_pubkey = PrivateKey(90909).point\n",
    "hash_1 = bytes.fromhex(\"22cac0b60bc7344152a8736425efd62532ee4d83e3de473ed82a64383b4e1208\")\n",
    "hash_2 = bytes.fromhex(\"a41d343d7419b99bfe8e66752fc3c45fd14aa2cc5ef5bf9073ed28dfc60e2e34\")\n",
    "pubkey_4 = bytes.fromhex(\"9e5f5a5c29d33c32185a3dc0a9ccb3e72743744dd869dd40b6265a23fd84a402\")\n",
    "# create the TapScript and TapLeaf for pubkey 4 using [pubkey, 0xac]\n",
    "\n",
    "\n",
    "# set the current hash to the TapLeaf's hash\n",
    "\n",
    "# loop through hash_1 and hash_2\n",
    "\n",
    "    # update current hash to be the hash_tapbranch of h and the current hash, sorted alphabetically\n",
    "\n",
    "\n",
    "\n",
    "\n",
    "# get the external pubkey is the internal pubkey's tweaked_key method with the current hash\n",
    "\n",
    "# check to see if the external pubkey's xonly is correct\n"
   ]
  },
  {
   "cell_type": "markdown",
   "id": "21e8c4a9",
   "metadata": {
    "slideshow": {
     "slide_type": "slide"
    }
   },
   "source": [
    "### Exercise 10\n",
    "\n",
    "\n",
    "\n",
    "\n",
    "#### Make [this test](/edit/session2/taproot.py) pass: `taproot.py:TapRootTest:test_control_block`"
   ]
  },
  {
   "cell_type": "code",
   "execution_count": null,
   "id": "313e0871",
   "metadata": {},
   "outputs": [],
   "source": [
    "# Exercise 10\n",
    "\n",
    "reload(taproot)\n",
    "run(taproot.TapRootTest('test_control_block'))"
   ]
  },
  {
   "cell_type": "markdown",
   "id": "294f9001",
   "metadata": {
    "slideshow": {
     "slide_type": "slide"
    }
   },
   "source": [
    "### Exercise 11\n",
    "\n",
    "Create a Signet P2TR address with these Script Spend conditions:\n",
    "\n",
    "1. Internal Public Key is <code>cd04c1bf88ca891af152fc57c36523ab59efb16b7ec07caca0cfc4a1f2051d9e</code>\n",
    "2. Leaf 1 and Leaf 2 make Branch 1, Branch 1 and Leaf 3 make Branch 2, which is the Merkle Root\n",
    "3. All TapLeaf are single key locked TapScripts (pubkey, OP_CHECKSIG)\n",
    "4. Leaf 1 uses your xonly pubkey\n",
    "5. Leaf 2 uses this xonly pubkey: <code>331a8f6a14e1b41a6b523ddb505fbc0662a6446bd42408692497297d3474aeec</code>\n",
    "6. Leaf 3 uses this xonly pubkey: <code>158a49d62c384c539a453e41a70214cfb85184954ae5c8df4b47eb74d58ff16f</code>\n",
    "\n"
   ]
  },
  {
   "cell_type": "code",
   "execution_count": null,
   "id": "2818b223",
   "metadata": {},
   "outputs": [],
   "source": [
    "# Exercise 11\n",
    "\n",
    "from ecc import PrivateKey, S256Point\n",
    "from hash import sha256\n",
    "from helper import big_endian_to_int\n",
    "from taproot import TapScript, TapLeaf, TapBranch\n",
    "my_secret = b\"<fill this in with your email>\"\n",
    "my_secret = big_endian_to_int(sha256(my_email))\n",
    "internal_pubkey = S256Point.parse(bytes.fromhex(\"cd04c1bf88ca891af152fc57c36523ab59efb16b7ec07caca0cfc4a1f2051d9e\"))\n",
    "pubkey_2 = bytes.fromhex(\"331a8f6a14e1b41a6b523ddb505fbc0662a6446bd42408692497297d3474aeec\")\n",
    "pubkey_3 = bytes.fromhex(\"158a49d62c384c539a453e41a70214cfb85184954ae5c8df4b47eb74d58ff16f\")\n",
    "# get your xonly pubkey using PrivateKey\n",
    "\n",
    "# make the first TapScript and TapLeaf using your xonly and OP_CHECKSIG (0xAC)\n",
    "\n",
    "\n",
    "# make the second and third TapLeaves using pubkey_2 and pubkey_3 respectively\n",
    "\n",
    "\n",
    "\n",
    "\n",
    "# make a TapBranch with leaf 1 and 2\n",
    "\n",
    "# make a TapBranch with branch 1 and leaf 3\n",
    "\n",
    "# get the hash of this branch, this is the Merkle Root\n",
    "\n",
    "# print the address using the p2tr_address method of internal_pubkey and specify signet\n"
   ]
  },
  {
   "cell_type": "markdown",
   "id": "23500860",
   "metadata": {
    "slideshow": {
     "slide_type": "slide"
    }
   },
   "source": [
    "### Exercise 12\n",
    "\n",
    "Send yourself the rest of the coins from the output of the previous exercise to the address you just created\n",
    "\n",
    "Use <a href=\"https://mempool.space/signet/tx/push\" target=\"_mempool\">Mempool Signet</a> to broadcast your transaction\n",
    "\n"
   ]
  },
  {
   "cell_type": "code",
   "execution_count": null,
   "id": "7f93107c",
   "metadata": {},
   "outputs": [],
   "source": [
    "# Exercise 12\n",
    "\n",
    "from ecc import PrivateKey, S256Point\n",
    "from hash import sha256\n",
    "from helper import big_endian_to_int\n",
    "from script import address_to_script_pubkey\n",
    "from taproot import TapScript, TapLeaf, TapBranch\n",
    "from tx import Tx, TxIn, TxOut\n",
    "my_secret = b\"<fill this in with your email>\"\n",
    "my_secret = big_endian_to_int(sha256(my_email))\n",
    "my_private_key = PrivateKey(my_secret)\n",
    "prev_tx = bytes.fromhex(\"<fill this in with the tx where you spent last time>\")\n",
    "prev_index = 1\n",
    "target_address = \"<fill this in with the address from the last exercise>\"\n",
    "fee = 500\n",
    "# create a transaction input\n",
    "\n",
    "# calculate the target amount\n",
    "\n",
    "\n",
    "# create a transaction output\n",
    "\n",
    "# create a transaction, segwit=True and network=\"signet\"\n",
    "\n",
    "# calculate the tweaked key from your private key\n",
    "\n",
    "# sign the transaction using sign_p2tr_keypath\n",
    "\n",
    "# print the serialized hex\n"
   ]
  },
  {
   "cell_type": "markdown",
   "id": "3a19503f",
   "metadata": {
    "slideshow": {
     "slide_type": "slide"
    }
   },
   "source": [
    "### Exercise 13\n",
    "\n",
    "Now spend this output using the script path from the second TapLeaf send it all to <code>tb1q7kn55vf3mmd40gyj46r245lw87dc6us5n50lrg</code>\n",
    "\n",
    "Use <a href=\"https://mempool.space/signet/tx/push to broadcast your transaction\" target=\"_mempool\">Mempool Signet</a> to broadcast your transaction\n",
    "\n"
   ]
  },
  {
   "cell_type": "code",
   "execution_count": null,
   "id": "99897719",
   "metadata": {},
   "outputs": [],
   "source": [
    "# Exercise 13\n",
    "\n",
    "from ecc import PrivateKey, S256Point\n",
    "from hash import sha256\n",
    "from helper import big_endian_to_int\n",
    "from script import address_to_script_pubkey\n",
    "from taproot import TapScript, TapLeaf, TapBranch\n",
    "from tx import Tx, TxIn, TxOut\n",
    "from witness import Witness\n",
    "my_email = b\"<fill this in with your email>\"\n",
    "my_secret = big_endian_to_int(sha256(my_email))\n",
    "my_private_key = PrivateKey(my_secret)\n",
    "internal_pubkey = S256Point.parse(bytes.fromhex(\"cd04c1bf88ca891af152fc57c36523ab59efb16b7ec07caca0cfc4a1f2051d9e\"))\n",
    "pubkey_2 = bytes.fromhex(\"331a8f6a14e1b41a6b523ddb505fbc0662a6446bd42408692497297d3474aeec\")\n",
    "pubkey_3 = bytes.fromhex(\"158a49d62c384c539a453e41a70214cfb85184954ae5c8df4b47eb74d58ff16f\")\n",
    "my_xonly = my_private_key.point.xonly()\n",
    "tap_script_1 = TapScript([my_xonly, 0xAC])\n",
    "tap_leaf_1 = TapLeaf(tap_script_1)\n",
    "tap_script_2 = TapScript([pubkey_2, 0xAC])\n",
    "tap_leaf_2 = TapLeaf(tap_script_2)\n",
    "tap_script_3 = TapScript([pubkey_3, 0xAC])\n",
    "tap_leaf_3 = TapLeaf(tap_script_3)\n",
    "prev_tx = bytes.fromhex(\"<fill this in with the tx you just submitted>\")\n",
    "prev_index = 0\n",
    "target_address = \"tb1q7kn55vf3mmd40gyj46r245lw87dc6us5n50lrg\"\n",
    "fee = 500\n",
    "# create the two branches needed (leaf 1, leaf 2), (branch 1, leaf 3)\n",
    "\n",
    "\n",
    "# create a transaction input\n",
    "\n",
    "# calculate the target amount\n",
    "\n",
    "# calculate the target script\n",
    "\n",
    "# create a transaction output\n",
    "\n",
    "# create a transaction, segwit=True and network=\"signet\"\n",
    "\n",
    "# create the control block from the TapBranch control_block method with internal_pubkey and tap_leaf_1\n",
    "cb = tap_branch_2.control_block(internal_pubkey, tap_leaf_1)\n",
    "# set the tx's witness to be the tap_script_1.raw_serialize() and control block, serialized\n",
    "tx_in.witness = Witness([tap_script_1.raw_serialize(), cb.serialize()])\n",
    "# set the message to be the transaction's sig_hash at index 0\n",
    "msg = tx_obj.sig_hash(0)\n",
    "# use sign_schnorr with yoru private key on the message and serialize it to get the signature\n",
    "sig = my_private_key.sign_schnorr(msg).serialize()\n",
    "# insert the sig in front of the other elements in the witness using tx_in.witness.items.insert\n",
    "tx_in.witness.items.insert(0, sig)\n",
    "# verify the transaction\n",
    "print(tx_obj.verify())\n",
    "# print the serialized hex\n",
    "print(tx_obj.serialize().hex())"
   ]
  }
 ],
 "metadata": {},
 "nbformat": 4,
 "nbformat_minor": 5
}
