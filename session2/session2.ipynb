{
 "cells": [
  {
   "cell_type": "code",
   "execution_count": null,
   "id": "8d9cfcc5",
   "metadata": {
    "slideshow": {
     "slide_type": "skip"
    }
   },
   "outputs": [],
   "source": [
    "############## PLEASE RUN THIS CELL FIRST! ###################\n",
    "\n",
    "# import everything and define a test runner function\n",
    "from importlib import reload\n",
    "from helper import run\n",
    "import ecc, op, script, taproot"
   ]
  },
  {
   "cell_type": "markdown",
   "id": "2eec0e0a",
   "metadata": {
    "slideshow": {
     "slide_type": "slide"
    }
   },
   "source": [
    "# Spending plan\n",
    "* We have 20,000 sats in this output: 871864d7631024465fc210e553fa9f50e7f0f2359288ad121aa733d65e366995:0\n",
    "* We want to spend all of it to tb1ptaqplrhnyh3kq85n7dtm5vcpgstt0ev80f4wd8ngeppch4fzu8mquchufq\n",
    "* 1 input/1 output transaction\n"
   ]
  },
  {
   "cell_type": "code",
   "execution_count": null,
   "id": "07a86d10",
   "metadata": {
    "slideshow": {
     "slide_type": "slide"
    }
   },
   "outputs": [],
   "source": [
    "# Spending from a p2tr\n",
    "from ecc import PrivateKey, N\n",
    "from hash import sha256\n",
    "from helper import big_endian_to_int\n",
    "from script import address_to_script_pubkey\n",
    "from tx import Tx, TxIn, TxOut\n",
    "my_email = b\"jimmy@programmingblockchain.com\"\n",
    "my_secret = big_endian_to_int(sha256(my_email))\n",
    "priv = PrivateKey(my_secret)\n",
    "prev_tx = bytes.fromhex(\"871864d7631024465fc210e553fa9f50e7f0f2359288ad121aa733d65e366995\")\n",
    "prev_index = 0\n",
    "target_address = \"tb1ptaqplrhnyh3kq85n7dtm5vcpgstt0ev80f4wd8ngeppch4fzu8mquchufq\"\n",
    "fee = 500\n",
    "tx_in = TxIn(prev_tx, prev_index)\n",
    "target_script_pubkey = address_to_script_pubkey(target_address)\n",
    "target_amount = tx_in.value(network=\"signet\") - fee\n",
    "tx_out = TxOut(target_amount, target_script_pubkey)\n",
    "tx_obj = Tx(1, [tx_in], [tx_out], network=\"signet\", segwit=True)\n",
    "tweaked_secret = (priv.secret + big_endian_to_int(priv.point.tweak())) % N\n",
    "tweaked_key = PrivateKey(tweaked_secret)\n",
    "tx_obj.sign_p2tr_keypath(0, tweaked_key)\n",
    "print(tx_obj.serialize().hex())"
   ]
  },
  {
   "cell_type": "markdown",
   "id": "07cf8511",
   "metadata": {
    "slideshow": {
     "slide_type": "slide"
    }
   },
   "source": [
    "### Exercise 1\n",
    "\n",
    "\n",
    "\n",
    "\n",
    "#### Make [this test](/edit/session2/ecc.py) pass: `ecc.py:TapRootTest:test_tweaked_key`"
   ]
  },
  {
   "cell_type": "code",
   "execution_count": null,
   "id": "8dd617b1",
   "metadata": {},
   "outputs": [],
   "source": [
    "# Exercise 1\n",
    "\n",
    "reload(ecc)\n",
    "run(ecc.TapRootTest('test_tweaked_key'))"
   ]
  },
  {
   "cell_type": "markdown",
   "id": "bb186f80",
   "metadata": {
    "slideshow": {
     "slide_type": "slide"
    }
   },
   "source": [
    "### Exercise 2\n",
    "\n",
    "## Checkpoint Exercise\n",
    "\n",
    "You have been sent 100,000 sats to your address on Signet. Send 40,000 sats back to <code>tb1q7kn55vf3mmd40gyj46r245lw87dc6us5n50lrg</code>, the rest to yourself.\n",
    "\n",
    "Use <a href=\"https://mempool.space/signet/tx/push\" target=\"_mempool\">Mempool Signet</a> to broadcast your transaction\n",
    "\n"
   ]
  },
  {
   "cell_type": "code",
   "execution_count": null,
   "id": "1fb2009c",
   "metadata": {},
   "outputs": [],
   "source": [
    "# Exercise 2\n",
    "\n",
    "from ecc import PrivateKey\n",
    "from hash import sha256\n",
    "from helper import big_endian_to_int\n",
    "from script import address_to_script_pubkey\n",
    "from tx import Tx, TxIn, TxOut\n",
    "my_email = b\"<fill this in with your email>\"\n",
    "my_secret = big_endian_to_int(sha256(my_email))\n",
    "priv = PrivateKey(my_secret)\n",
    "target_address = \"tb1q7kn55vf3mmd40gyj46r245lw87dc6us5n50lrg\"\n",
    "target_amount = 40000\n",
    "fee = 500\n",
    "# fill the next two variables from the block explorer\n",
    "prev_tx = bytes.fromhex(\"<fill in from block explorer>\")\n",
    "prev_index = -1\n",
    "# create the one input\n",
    "\n",
    "# use the address_to_script_pubkey to get the ScriptPubKey\n",
    "\n",
    "# create the target output\n",
    "\n",
    "# calculate the change amount\n",
    "\n",
    "# use the private key's point's p2tr_script method to get the change ScriptPubkey\n",
    "\n",
    "# create the change output\n",
    "\n",
    "# create the transaction\n",
    "\n",
    "# sign the transaction using the tweaked key and the sign_p2tr_keypath method\n",
    "\n",
    "# print the serialized hex\n"
   ]
  },
  {
   "cell_type": "markdown",
   "id": "3278c27e",
   "metadata": {
    "slideshow": {
     "slide_type": "slide"
    }
   },
   "source": [
    "# OP_CHECKSIGADD\n",
    "* Consumes the top three elements: a pubkey, a number, and a signature.\n",
    "* Valid sig, returns the number+1 to the stack\n",
    "* Invalid sig, returns the number back to the stack\n"
   ]
  },
  {
   "cell_type": "code",
   "execution_count": null,
   "id": "c6f0fb72",
   "metadata": {
    "slideshow": {
     "slide_type": "slide"
    }
   },
   "outputs": [],
   "source": [
    "def op_checksigadd_schnorr(stack, tx_obj, input_index):\n",
    "    # check to see if there's at least 3 elements\n",
    "    if len(stack) < 3:\n",
    "        return False\n",
    "    # pop off the pubkey\n",
    "    pubkey = stack.pop()\n",
    "    # pop off the n and do decode_num on it\n",
    "    n = decode_num(stack.pop())\n",
    "    # pop off the signature\n",
    "    sig = stack.pop()\n",
    "    # parse the pubkey\n",
    "    point = S256Point.parse_xonly(pubkey)\n",
    "    # if the signature has 0 length, it is not valid\n",
    "    # so put encode_num(n) back on stack and return True\n",
    "    if len(sig) == 0:\n",
    "        stack.append(encode_num(n))\n",
    "        return True\n",
    "    # use the get_signature_and_hashtype function on the sig\n",
    "    schnorr, hash_type = get_signature_and_hashtype(sig)\n",
    "    # get the message from the tx_obj.sig_hash using input index and hash type\n",
    "    msg = tx_obj.sig_hash(input_index, hash_type)\n",
    "    # verify the Schnorr signature\n",
    "    if point.verify_schnorr(msg, schnorr):\n",
    "        # if valid, increment the n, encode_num it and push back on stack\n",
    "        stack.append(encode_num(n + 1))\n",
    "    else:\n",
    "        # if invalid, encode_num on n and push back on stack\n",
    "        stack.append(encode_num(n))\n",
    "    # return True for successful execution\n",
    "    return True"
   ]
  },
  {
   "cell_type": "markdown",
   "id": "d7d438f0",
   "metadata": {
    "slideshow": {
     "slide_type": "slide"
    }
   },
   "source": [
    "# Example TapScripts\n",
    "* 1-of-1 (pay-to-pubkey) [pubkey, OP_CHECKSIG]\n",
    "* 2-of-2 [pubkey A, OP_CHECKSIGVERIFY, pubkey B, OP_CHECKSIG]\n",
    "* 2-of-3 [pubkey A, OP_CHECKSIG, pubkey B, OP_CHECKSIGADD, pubkey C, OP_CHECKSIGADD, OP_2, OP_EQUAL]\n",
    "* halvening timelock 1-of-1 [840000, OP_CHECKLOCKTIMEVERIFY, OP_DROP, pubkey, OP_CHECKSIG]\n"
   ]
  },
  {
   "cell_type": "code",
   "execution_count": null,
   "id": "a44d4f28",
   "metadata": {
    "slideshow": {
     "slide_type": "slide"
    }
   },
   "outputs": [],
   "source": [
    "# Example TapScripts\n",
    "from ecc import PrivateKey\n",
    "from op import encode_minimal_num\n",
    "from taproot import TapScript\n",
    "pubkey_a = PrivateKey(11111111).point.xonly()\n",
    "pubkey_b = PrivateKey(22222222).point.xonly()\n",
    "pubkey_c = PrivateKey(33333333).point.xonly()\n",
    "# 1-of-1 (0xAC is OP_CHECKSIG)\n",
    "tap_script = TapScript([pubkey_a, 0xAC])\n",
    "print(tap_script)\n",
    "# 2-of-2 (0xAD is OP_CHECKSIGVERIFY)\n",
    "tap_script = TapScript([pubkey_a, 0xAD, pubkey_b, 0xAC])\n",
    "print(tap_script)\n",
    "# 2-of-3 (0xBA is OP_CHECKSIGADD, 0x52 is OP_2, 0x87 is OP_EQUAL)\n",
    "tap_script = TapScript([pubkey_a, 0xAC, pubkey_b, 0xBA, pubkey_c, 0xBA, 0x52, 0x87])\n",
    "print(tap_script)\n",
    "# halvening timelock 1-of-1 (0xB1 is OP_CLTV, 0x75 is OP_DROP)\n",
    "tap_script = TapScript([encode_minimal_num(840000), 0xB1, 0x75, pubkey_a, 0xAC])\n",
    "print(tap_script)"
   ]
  },
  {
   "cell_type": "markdown",
   "id": "a24776f5",
   "metadata": {
    "slideshow": {
     "slide_type": "slide"
    }
   },
   "source": [
    "### Exercise 3\n",
    "\n",
    "Make a TapScript for 4-of-4 using pubkeys from private keys which correspond to 10101, 20202, 30303, 40404\n",
    "\n"
   ]
  },
  {
   "cell_type": "code",
   "execution_count": null,
   "id": "74aa797b",
   "metadata": {},
   "outputs": [],
   "source": [
    "# Exercise 3\n",
    "\n",
    "from ecc import PrivateKey\n",
    "from taproot import TapScript\n",
    "pubkey_1 = PrivateKey(10101).point.xonly()\n",
    "pubkey_2 = PrivateKey(20202).point.xonly()\n",
    "pubkey_3 = PrivateKey(30303).point.xonly()\n",
    "pubkey_4 = PrivateKey(40404).point.xonly()\n",
    "# create a 4-of-4 tapscript that uses OP_CHECKSIGVERIFY (0xad) and OP_CHECKSIG (0xac)\n",
    "\n",
    "# print the TapScript\n"
   ]
  },
  {
   "cell_type": "markdown",
   "id": "cd1f5acb",
   "metadata": {
    "slideshow": {
     "slide_type": "slide"
    }
   },
   "source": [
    "# TapLeaf\n",
    "* Leaves of the Merkle Tree which contain TapScripts\n",
    "* Contains TapLeaf Version (<code>0xc0</code>) and TapScript\n",
    "* Any Leaf can successfully execute its TapScript to spend using the Taproot Script Path\n",
    "* Hash of a TapLeaf is a Tagged Hash (TapLeaf) of the version + TapScript\n"
   ]
  },
  {
   "cell_type": "code",
   "execution_count": null,
   "id": "25e2c593",
   "metadata": {
    "slideshow": {
     "slide_type": "slide"
    }
   },
   "outputs": [],
   "source": [
    "# Example of making a TapLeaf and calculating the hash\n",
    "from ecc import PrivateKey\n",
    "from hash import hash_tapleaf\n",
    "from helper import int_to_byte\n",
    "from taproot import TapScript, TapLeaf\n",
    "pubkey_a = PrivateKey(11111111).point.xonly()\n",
    "pubkey_b = PrivateKey(22222222).point.xonly()\n",
    "tap_script = TapScript([pubkey_a, 0xAD, pubkey_b, 0xAC])\n",
    "tap_leaf = TapLeaf(tap_script)\n",
    "h = hash_tapleaf(int_to_byte(tap_leaf.tapleaf_version) + tap_leaf.tap_script.serialize())\n",
    "print(h.hex())"
   ]
  },
  {
   "cell_type": "markdown",
   "id": "83d4e5ab",
   "metadata": {
    "slideshow": {
     "slide_type": "slide"
    }
   },
   "source": [
    "### Exercise 4\n",
    "\n",
    "Calculate the TapLeaf hash whose TapScript is a 2-of-4 using pubkeys from private keys which correspond to 10101, 20202, 30303, 40404\n",
    "\n"
   ]
  },
  {
   "cell_type": "code",
   "execution_count": null,
   "id": "3c051b5c",
   "metadata": {},
   "outputs": [],
   "source": [
    "# Exercise 4\n",
    "\n",
    "from ecc import PrivateKey\n",
    "from hash import hash_tapleaf\n",
    "from helper import int_to_byte\n",
    "from taproot import TapScript, TapLeaf\n",
    "pubkey_1 = PrivateKey(10101).point.xonly()\n",
    "pubkey_2 = PrivateKey(20202).point.xonly()\n",
    "pubkey_3 = PrivateKey(30303).point.xonly()\n",
    "pubkey_4 = PrivateKey(40404).point.xonly()\n",
    "# create a 2-of-4 TapScript that uses OP_CHECKSIG (0xac), OP_CHECKSIGADD (0xba), OP_2 (0x52) and OP_EQUAL (0x87)\n",
    "\n",
    "# create the TapLeaf with the TapScript\n",
    "\n",
    "# calculate the hash by using hash_tapleaf on the tapleaf version and the tap script\n",
    "\n",
    "# print the hash hex\n"
   ]
  },
  {
   "cell_type": "markdown",
   "id": "3534f7ac",
   "metadata": {
    "slideshow": {
     "slide_type": "slide"
    }
   },
   "source": [
    "### Exercise 5\n",
    "\n",
    "\n",
    "\n",
    "\n",
    "#### Make [this test](/edit/session2/taproot.py) pass: `taproot.py:TapRootTest:test_tapleaf_hash`"
   ]
  },
  {
   "cell_type": "code",
   "execution_count": null,
   "id": "973ddb83",
   "metadata": {},
   "outputs": [],
   "source": [
    "# Exercise 5\n",
    "\n",
    "reload(taproot)\n",
    "run(taproot.TapRootTest('test_tapleaf_hash'))"
   ]
  },
  {
   "cell_type": "markdown",
   "id": "1015563d",
   "metadata": {
    "slideshow": {
     "slide_type": "slide"
    }
   },
   "source": [
    "# TapBranch\n",
    "* Branches of the Merkle Tree\n",
    "* Contains a left child and a right child.\n",
    "* Each child is a TapLeaf or TapBranch\n",
    "* Hash of a TapBranch is a Tagged Hash (TapBranch) of the left hash and right hash, sorted\n",
    "* Sorting makes verification of the merkle root much easier\n"
   ]
  },
  {
   "cell_type": "code",
   "execution_count": null,
   "id": "934bc0e4",
   "metadata": {
    "slideshow": {
     "slide_type": "slide"
    }
   },
   "outputs": [],
   "source": [
    "# Example of making a TapBranch and calculating the hash\n",
    "from ecc import PrivateKey\n",
    "from hash import hash_tapbranch\n",
    "from helper import int_to_byte\n",
    "from taproot import TapScript, TapLeaf, TapBranch\n",
    "pubkey_1 = PrivateKey(11111111).point.xonly()\n",
    "pubkey_2 = PrivateKey(22222222).point.xonly()\n",
    "tap_script_1 = TapScript([pubkey_1, 0xAC])\n",
    "tap_script_2 = TapScript([pubkey_2, 0xAC])\n",
    "tap_leaf_1 = TapLeaf(tap_script_1)\n",
    "tap_leaf_2 = TapLeaf(tap_script_2)\n",
    "tap_branch = TapBranch(tap_leaf_1, tap_leaf_2)\n",
    "left_hash = tap_branch.left.hash()\n",
    "right_hash = tap_branch.right.hash()\n",
    "if left_hash > right_hash:\n",
    "    h = hash_tapbranch(left_hash + right_hash)\n",
    "else:\n",
    "    h = hash_tapbranch(right_hash + left_hash)\n",
    "print(h.hex())"
   ]
  },
  {
   "cell_type": "markdown",
   "id": "5ff5eaec",
   "metadata": {
    "slideshow": {
     "slide_type": "slide"
    }
   },
   "source": [
    "### Exercise 6\n",
    "\n",
    "TabBranch Calculation\n",
    "\n",
    "Calculate the TabBranch hash whose left and right nodes are TapLeafs whose TapScripts are for a 1-of-2 using pubkeys from private keys which correspond to (10101, 20202) for the left, (30303, 40404) for the right\n",
    "\n"
   ]
  },
  {
   "cell_type": "code",
   "execution_count": null,
   "id": "63e181af",
   "metadata": {},
   "outputs": [],
   "source": [
    "# Exercise 6\n",
    "\n",
    "from ecc import PrivateKey\n",
    "from hash import hash_tapbranch\n",
    "from helper import int_to_byte\n",
    "from taproot import TapScript, TapLeaf, TapBranch\n",
    "pubkey_1 = PrivateKey(10101).point.xonly()\n",
    "pubkey_2 = PrivateKey(20202).point.xonly()\n",
    "pubkey_3 = PrivateKey(30303).point.xonly()\n",
    "pubkey_4 = PrivateKey(40404).point.xonly()\n",
    "# create two 1-of-2 TapScripts\n",
    "\n",
    "\n",
    "# create two TapLeafs with the TapScripts\n",
    "\n",
    "\n",
    "# create the branch\n",
    "\n",
    "# get the left and right hashes\n",
    "\n",
    "\n",
    "# calculate the hash using the sorted order with hash_tapbranch\n",
    "\n",
    "\n",
    "\n",
    "\n",
    "# print the hex of the hash\n"
   ]
  },
  {
   "cell_type": "markdown",
   "id": "ebab5979",
   "metadata": {
    "slideshow": {
     "slide_type": "slide"
    }
   },
   "source": [
    "### Exercise 7\n",
    "\n",
    "\n",
    "\n",
    "\n",
    "#### Make [this test](/edit/session2/taproot.py) pass: `taproot.py:TapRootTest:test_tapbranch_hash`"
   ]
  },
  {
   "cell_type": "code",
   "execution_count": null,
   "id": "1c58ca88",
   "metadata": {},
   "outputs": [],
   "source": [
    "# Exercise 7\n",
    "\n",
    "reload(taproot)\n",
    "run(taproot.TapRootTest('test_tapbranch_hash'))"
   ]
  },
  {
   "cell_type": "markdown",
   "id": "2d47a1bc",
   "metadata": {
    "slideshow": {
     "slide_type": "slide"
    }
   },
   "source": [
    "# Computing the Merkle Root\n",
    "* Merkle Root is the hash of the root element of the Merkle Tree which may be TapLeaf, TapBranch or nothing\n",
    "* TapLeaf Hash is hash_tapleaf(version + TapScript serialization)\n",
    "* TapBranch Hash is hash_tapbranch(sorted(left, right))\n",
    "* It doesn't have to be a hash of anything, just any 32 bytes\n",
    "* Means addresses can be changed at will\n"
   ]
  },
  {
   "cell_type": "code",
   "execution_count": null,
   "id": "be14153c",
   "metadata": {
    "slideshow": {
     "slide_type": "slide"
    }
   },
   "outputs": [],
   "source": [
    "# Example of Comupting the Merkle Root\n",
    "from ecc import PrivateKey\n",
    "from hash import hash_tapbranch\n",
    "from helper import int_to_byte\n",
    "from taproot import TapScript, TapLeaf, TapBranch\n",
    "pubkey_1 = PrivateKey(11111111).point.xonly()\n",
    "pubkey_2 = PrivateKey(22222222).point.xonly()\n",
    "pubkey_3 = PrivateKey(33333333).point.xonly()\n",
    "tap_script_1 = TapScript([pubkey_1, 0xAC])\n",
    "tap_script_2 = TapScript([pubkey_2, 0xAC])\n",
    "tap_script_3 = TapScript([pubkey_3, 0xAC])\n",
    "tap_leaf_1 = TapLeaf(tap_script_1)\n",
    "tap_leaf_2 = TapLeaf(tap_script_2)\n",
    "tap_leaf_3 = TapLeaf(tap_script_3)\n",
    "tap_branch_1 = TapBranch(tap_leaf_1, tap_leaf_2)\n",
    "tap_root = TapBranch(tap_branch_1, tap_leaf_3)\n",
    "merkle_root = tap_root.hash()\n",
    "print(merkle_root.hex())"
   ]
  },
  {
   "cell_type": "markdown",
   "id": "25233da5",
   "metadata": {
    "slideshow": {
     "slide_type": "slide"
    }
   },
   "source": [
    "### Exercise 8\n",
    "\n",
    "Calculate the External PubKey for a Taproot output whose internal pubkey is 90909 and whose Merkle Root is from two TapBranches, each of which is a single signature TapLeaf. The private keys corresponding to the left TapBranch's TapLeafs are 10101 and 20202. The private keys corresponding to the right TapBranch's TapLeafs are 30303 and 40404.\n",
    "\n"
   ]
  },
  {
   "cell_type": "code",
   "execution_count": null,
   "id": "4da16524",
   "metadata": {},
   "outputs": [],
   "source": [
    "# Exercise 8\n",
    "\n",
    "from ecc import PrivateKey\n",
    "from helper import big_endian_to_int\n",
    "from taproot import TapScript, TapLeaf, TapBranch\n",
    "internal_pubkey = PrivateKey(90909).point\n",
    "pubkey_1 = PrivateKey(10101).point.xonly()\n",
    "pubkey_2 = PrivateKey(20202).point.xonly()\n",
    "pubkey_3 = PrivateKey(30303).point.xonly()\n",
    "pubkey_4 = PrivateKey(40404).point.xonly()\n",
    "# create four tap scripts [pubkey, 0xac] one for each pubkey\n",
    "\n",
    "\n",
    "\n",
    "\n",
    "# create four TapLeafs with the TapScripts\n",
    "\n",
    "\n",
    "\n",
    "\n",
    "# create two TapBranches that have these TapLeafs\n",
    "\n",
    "\n",
    "# create another TapBranch that corresponds to the merkle root and get its hash\n",
    "\n",
    "# the external public key is the internal public key tweaked with the Merkle Root\n",
    "\n",
    "# print the hex of the xonly of the external pubkey\n"
   ]
  },
  {
   "cell_type": "markdown",
   "id": "5feefc0a",
   "metadata": {
    "slideshow": {
     "slide_type": "slide"
    }
   },
   "source": [
    "# Control Block Serialization\n",
    "* Start with TapScript Version (<code>0xc0</code> or <code>0xc1</code>)\n",
    "* The last bit of the TapScript Version expresses the parity of the external pubkey, which is necessary for batch verification\n",
    "* $x$-only serialization of the Internal PubKey $P$ (32 bytes)\n",
    "* Merkle Proof as a list of 32-byte hashes\n"
   ]
  },
  {
   "cell_type": "markdown",
   "id": "07390090",
   "metadata": {
    "slideshow": {
     "slide_type": "slide"
    }
   },
   "source": [
    "# Merkle Proof\n",
    "* Hash the TapScript version and the TapScript to get the TapLeaf's hash\n",
    "* Hash the TapLeaf hash and the first Merkle Proof hash sorted\n",
    "* Hash the current hash and the next Merkle Proof hash sorted, until there are no hashes left\n",
    "* The result is the Merkle Root $m$. Then compute the tweak: $t=\\mathcal{H(P||m)$ where $\\mathcal{H}$ is <code>hash_taptweak</code>\n",
    "* Internal Public Key $P$ is used to compute external public key $Q=P+tG$. If Q matches the UTXO, TapScript is valid.\n",
    "* Verify the other elements of Witness satisfy the TapScript\n"
   ]
  },
  {
   "cell_type": "code",
   "execution_count": null,
   "id": "aa6182b0",
   "metadata": {
    "slideshow": {
     "slide_type": "slide"
    }
   },
   "outputs": [],
   "source": [
    "# Example of Control Block Validation\n",
    "from ecc import PrivateKey, S256Point\n",
    "from hash import hash_tapbranch\n",
    "from taproot import TapScript, TapLeaf, TapBranch\n",
    "q_xonly = bytes.fromhex(\"cbe433288ae1eede1f24818f08046d4e647fef808cfbbffc7d10f24a698eecfd\")\n",
    "pubkey_2 = bytes.fromhex(\"027aa71d9cdb31cd8fe037a6f441e624fe478a2deece7affa840312b14e971a4\")\n",
    "tap_script_2 = TapScript([pubkey_2, 0xAC])\n",
    "tap_leaf_2 = TapLeaf(tap_script_2)\n",
    "tap_leaf_1_hash = bytes.fromhex(\"76f5c1cdfc8b07dc8edca5bef2b4991201c5a0e18b1dbbcfe00ef2295b8f6dff\")\n",
    "tap_leaf_3_hash = bytes.fromhex(\"5dd270ec91aa5644d907059400edfd98e307a6f1c6fe3a2d1d4550674ff6bc6e\")\n",
    "p = S256Point.parse(bytes.fromhex(\"407910a4cfa5fe195ad4844b6069489fcb429f27dff811c65e99f7d776e943e5\"))\n",
    "current = tap_leaf_2.hash()\n",
    "for h in (tap_leaf_1_hash, tap_leaf_3_hash):\n",
    "    if h < current:\n",
    "        current = hash_tapbranch(h + current)\n",
    "    else:\n",
    "        current = hash_tapbranch(current + h)\n",
    "m = current\n",
    "q = p.tweaked_key(m)\n",
    "print(q.xonly() == q_xonly)\n",
    "print(p.p2tr_address(m, network=\"signet\"))"
   ]
  },
  {
   "cell_type": "markdown",
   "id": "7bd66b4f",
   "metadata": {
    "slideshow": {
     "slide_type": "slide"
    }
   },
   "source": [
    "### Exercise 9\n",
    "\n",
    "Verify the Control Block for the pubkey whose private key is 40404 for the external pubkey from the last exercise\n",
    "\n"
   ]
  },
  {
   "cell_type": "code",
   "execution_count": null,
   "id": "b3c25a47",
   "metadata": {},
   "outputs": [],
   "source": [
    "# Exercise 9\n",
    "\n",
    "from ecc import PrivateKey, S256Point\n",
    "from helper import big_endian_to_int\n",
    "from taproot import TapScript, TapLeaf, TapBranch\n",
    "q_xonly = bytes.fromhex(\"8b9f09cd4a33e62b0c9d086056bbdeb7a218c1e4830291b9be56841b31d94ccb\")\n",
    "p = PrivateKey(90909).point\n",
    "hash_1 = bytes.fromhex(\"22cac0b60bc7344152a8736425efd62532ee4d83e3de473ed82a64383b4e1208\")\n",
    "hash_2 = bytes.fromhex(\"a41d343d7419b99bfe8e66752fc3c45fd14aa2cc5ef5bf9073ed28dfc60e2e34\")\n",
    "pubkey_4 = bytes.fromhex(\"9e5f5a5c29d33c32185a3dc0a9ccb3e72743744dd869dd40b6265a23fd84a402\")\n",
    "# create the TapScript and TapLeaf for pubkey 4 using [pubkey, 0xac]\n",
    "\n",
    "\n",
    "# set the current hash to the TapLeaf's hash\n",
    "\n",
    "# loop through hash_1 and hash_2\n",
    "\n",
    "    # update current hash to be the hash_tapbranch of h and the current hash, sorted alphabetically\n",
    "\n",
    "\n",
    "\n",
    "\n",
    "# set the merkle root m to be the current hash\n",
    "\n",
    "# q is p tweaked with m\n",
    "\n",
    "# check to see if the external pubkey's xonly is correct\n"
   ]
  },
  {
   "cell_type": "markdown",
   "id": "308b66ae",
   "metadata": {
    "slideshow": {
     "slide_type": "slide"
    }
   },
   "source": [
    "### Exercise 10\n",
    "\n",
    "\n",
    "\n",
    "\n",
    "#### Make [this test](/edit/session2/taproot.py) pass: `taproot.py:TapRootTest:test_control_block`"
   ]
  },
  {
   "cell_type": "code",
   "execution_count": null,
   "id": "6e00b1a1",
   "metadata": {},
   "outputs": [],
   "source": [
    "# Exercise 10\n",
    "\n",
    "reload(taproot)\n",
    "run(taproot.TapRootTest('test_control_block'))"
   ]
  },
  {
   "cell_type": "markdown",
   "id": "cfc671e3",
   "metadata": {
    "slideshow": {
     "slide_type": "slide"
    }
   },
   "source": [
    "### Exercise 11\n",
    "\n",
    "Create a Signet P2TR address with these Script Spend conditions:\n",
    "\n",
    "1. Internal Public Key is <code>cd04c1bf88ca891af152fc57c36523ab59efb16b7ec07caca0cfc4a1f2051d9e</code>\n",
    "2. Leaf 1 and Leaf 2 make Branch 1, Branch 1 and Leaf 3 make Branch 2, which is the Merkle Root\n",
    "3. All TapLeaf are single key locked TapScripts (pubkey, OP_CHECKSIG)\n",
    "4. Leaf 1 uses your xonly pubkey\n",
    "5. Leaf 2 uses this xonly pubkey: <code>331a8f6a14e1b41a6b523ddb505fbc0662a6446bd42408692497297d3474aeec</code>\n",
    "6. Leaf 3 uses this xonly pubkey: <code>158a49d62c384c539a453e41a70214cfb85184954ae5c8df4b47eb74d58ff16f</code>\n",
    "\n"
   ]
  },
  {
   "cell_type": "code",
   "execution_count": null,
   "id": "78cc9b3f",
   "metadata": {},
   "outputs": [],
   "source": [
    "# Exercise 11\n",
    "\n",
    "from ecc import PrivateKey, S256Point\n",
    "from hash import sha256\n",
    "from helper import big_endian_to_int\n",
    "from taproot import TapScript, TapLeaf, TapBranch\n",
    "my_secret = b\"<fill this in with your email>\"\n",
    "my_secret = big_endian_to_int(sha256(my_email))\n",
    "internal_pubkey = S256Point.parse(bytes.fromhex(\"cd04c1bf88ca891af152fc57c36523ab59efb16b7ec07caca0cfc4a1f2051d9e\"))\n",
    "pubkey_2 = bytes.fromhex(\"331a8f6a14e1b41a6b523ddb505fbc0662a6446bd42408692497297d3474aeec\")\n",
    "pubkey_3 = bytes.fromhex(\"158a49d62c384c539a453e41a70214cfb85184954ae5c8df4b47eb74d58ff16f\")\n",
    "# get your xonly pubkey using PrivateKey\n",
    "\n",
    "# make the first TapScript and TapLeaf using your xonly and OP_CHECKSIG (0xAC)\n",
    "\n",
    "\n",
    "# make the second and third TapLeaves using pubkey_2 and pubkey_3 respectively\n",
    "\n",
    "\n",
    "\n",
    "\n",
    "# make a TapBranch with leaf 1 and 2\n",
    "\n",
    "# make a TapBranch with branch 1 and leaf 3\n",
    "\n",
    "# get the hash of this branch, this is the Merkle Root\n",
    "\n",
    "print(merkle_root.hex())\n",
    "# print the address using the p2tr_address method of internal_pubkey and specify signet\n"
   ]
  }
 ],
 "metadata": {},
 "nbformat": 4,
 "nbformat_minor": 5
}
