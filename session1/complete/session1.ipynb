{
 "cells": [
  {
   "cell_type": "code",
   "execution_count": 1,
   "id": "d332e5b1",
   "metadata": {
    "slideshow": {
     "slide_type": "skip"
    }
   },
   "outputs": [],
   "source": [
    "############## PLEASE RUN THIS CELL FIRST! ###################\n",
    "\n",
    "# import everything and define a test runner function\n",
    "from importlib import reload\n",
    "from helper import run\n",
    "import ecc, hash, op, script, taproot"
   ]
  },
  {
   "cell_type": "markdown",
   "id": "fe25d53b",
   "metadata": {
    "slideshow": {
     "slide_type": "slide"
    }
   },
   "source": [
    "# Schnorr Verification\n",
    "* $eG=P$, $m$ message, $kG=R$, $H$ is a hash function\n",
    "* Signature is $(R,s)$ where $s=k + e H(R||P||m)$\n",
    "$$-H(R||P||m)P+sG$$\n",
    "$$=-H(R||P||m)P+(k+e H(R||P||m))G$$\n",
    "$$=-H(R||P||m)P+kG+H(R||P||m)(eG)$$\n",
    "$$=R+H(R||P||m)P-H(R||P||m)P=R$$\n"
   ]
  },
  {
   "cell_type": "code",
   "execution_count": 2,
   "id": "cefb2eef",
   "metadata": {
    "slideshow": {
     "slide_type": "slide"
    }
   },
   "outputs": [
    {
     "name": "stdout",
     "output_type": "stream",
     "text": [
      "True\n"
     ]
    }
   ],
   "source": [
    "from ecc import S256Point, SchnorrSignature, G, N\n",
    "from helper import big_endian_to_int\n",
    "from hash import sha256, hash_challenge\n",
    "msg = sha256(b\"I attest to understanding Schnorr Signatures\")\n",
    "sig_raw = bytes.fromhex(\"f3626c99fe36167e5fef6b95e5ed6e5687caa4dc828986a7de8f9423c0f77f9bc73091ed86085ce43de0e255b3d0afafc7eee41ddc9970c3dc8472acfcdfd39a\")\n",
    "sig = SchnorrSignature.parse(sig_raw)\n",
    "xonly = bytes.fromhex(\"f01d6b9018ab421dd410404cb869072065522bf85734008f105cf385a023a80f\")\n",
    "point = S256Point.parse(xonly)\n",
    "commitment = sig.r.xonly() + point.xonly() + msg\n",
    "challenge = big_endian_to_int(hash_challenge(commitment)) % N\n",
    "target = -challenge * point + sig.s * G\n",
    "print(target == sig.r)"
   ]
  },
  {
   "cell_type": "markdown",
   "id": "ff5c4490",
   "metadata": {
    "slideshow": {
     "slide_type": "slide"
    }
   },
   "source": [
    "### Exercise 1\n",
    "\n",
    "Verify this Schnorr Signature\n",
    "\n",
    "Pubkey = cbaa648dbfe734646ce958e2f14a874149fae4010fdeabde4bae6a732537fd91\n",
    "Signature = 2ae68f873376a0ff302258964632f7b98b21e3bbc72dcc8fb31de8acf01696b951f3dbb6fc5532558219472fb63e061f9a4c7d1760cc588da551c74374cd0de4\n",
    "Message = 1a84547db188f0b1d2c9f0beac230afebbd5e6e6c1a46fc69841815194bf8612\n",
    "\n"
   ]
  },
  {
   "cell_type": "code",
   "execution_count": 3,
   "id": "ce85663b",
   "metadata": {},
   "outputs": [
    {
     "name": "stdout",
     "output_type": "stream",
     "text": [
      "True\n"
     ]
    }
   ],
   "source": [
    "# Exercise 1\n",
    "\n",
    "from ecc import SchnorrSignature, S256Point, N, G\n",
    "from hash import hash_challenge\n",
    "from helper import big_endian_to_int\n",
    "p_raw = bytes.fromhex(\"cbaa648dbfe734646ce958e2f14a874149fae4010fdeabde4bae6a732537fd91\")\n",
    "p = S256Point.parse(p_raw)\n",
    "sig_raw = bytes.fromhex(\"2ae68f873376a0ff302258964632f7b98b21e3bbc72dcc8fb31de8acf01696b951f3dbb6fc5532558219472fb63e061f9a4c7d1760cc588da551c74374cd0de4\")\n",
    "sig = SchnorrSignature.parse(sig_raw)\n",
    "msg = bytes.fromhex(\"1a84547db188f0b1d2c9f0beac230afebbd5e6e6c1a46fc69841815194bf8612\")\n",
    "# create the commitment: R || P || m (points should be xonly)\n",
    "commitment = sig.r.xonly() + p.xonly() + msg\n",
    "# h is the hash_challenge of the commitment as a big endian int\n",
    "h = big_endian_to_int(hash_challenge(commitment))\n",
    "# check that -hP+sG=R\n",
    "print(-h*p + sig.s*G  == sig.r)"
   ]
  },
  {
   "cell_type": "markdown",
   "id": "9ed011e5",
   "metadata": {
    "slideshow": {
     "slide_type": "slide"
    }
   },
   "source": [
    "### Exercise 2\n",
    "\n",
    "\n",
    "\n",
    "\n",
    "#### Make [this test](/edit/session1/ecc.py) pass: `ecc.py:SchnorrTest:test_verify`"
   ]
  },
  {
   "cell_type": "code",
   "execution_count": 4,
   "id": "6820ba9f",
   "metadata": {},
   "outputs": [
    {
     "name": "stderr",
     "output_type": "stream",
     "text": [
      ".\n",
      "----------------------------------------------------------------------\n",
      "Ran 1 test in 0.108s\n",
      "\n",
      "OK\n"
     ]
    }
   ],
   "source": [
    "# Exercise 2\n",
    "\n",
    "reload(ecc)\n",
    "run(ecc.SchnorrTest('test_verify'))"
   ]
  },
  {
   "cell_type": "markdown",
   "id": "c9d28fc3",
   "metadata": {
    "slideshow": {
     "slide_type": "slide"
    }
   },
   "source": [
    "# Schnorr Signing\n",
    "* $eG=P$, $m$ message, $k$ random\n",
    "* $kG=R$, $H$ is <code>hash_challenge</code.\n",
    "* $s=k+e H(R||P||m)$ where $R$ and $P$ are $x$-only\n",
    "* Signature is $(R,s)$\n"
   ]
  },
  {
   "cell_type": "code",
   "execution_count": 5,
   "id": "fc1c8128",
   "metadata": {
    "slideshow": {
     "slide_type": "slide"
    }
   },
   "outputs": [
    {
     "name": "stdout",
     "output_type": "stream",
     "text": [
      "f3626c99fe36167e5fef6b95e5ed6e5687caa4dc828986a7de8f9423c0f77f9bc73091ed86085ce43de0e255b3d0afafc7eee41ddc9970c3dc8472acfcdfd39a\n"
     ]
    }
   ],
   "source": [
    "# Example Signing\n",
    "from ecc import PrivateKey, N, G\n",
    "from hash import sha256, hash_challenge\n",
    "from helper import big_endian_to_int\n",
    "priv = PrivateKey(12345)\n",
    "e = priv.even_secret()\n",
    "msg = sha256(b\"I attest to understanding Schnorr Signatures\")\n",
    "k = 21016020145315867006318399104346325815084469783631925097217883979013588851039\n",
    "r = k * G\n",
    "if r.parity:\n",
    "    k = N - k\n",
    "    r = k * G\n",
    "commitment = r.xonly() + priv.point.xonly() + msg\n",
    "h = big_endian_to_int(hash_challenge(commitment)) % N\n",
    "s = (k + e * h) % N\n",
    "sig = SchnorrSignature(r, s)\n",
    "if not priv.point.verify_schnorr(msg, sig):\n",
    "    raise RuntimeError(\"Bad Signature\")\n",
    "print(sig.serialize().hex())"
   ]
  },
  {
   "cell_type": "markdown",
   "id": "d05687d0",
   "metadata": {
    "slideshow": {
     "slide_type": "slide"
    }
   },
   "source": [
    "### Exercise 3\n",
    "\n",
    "Sign the message b\"I'm learning Taproot!\" with the private key 21,000,000\n",
    "\n"
   ]
  },
  {
   "cell_type": "code",
   "execution_count": 6,
   "id": "93c1e5a4",
   "metadata": {},
   "outputs": [
    {
     "name": "stdout",
     "output_type": "stream",
     "text": [
      "5ad2703f5b4f4b9dea4c28fa30d86d3781d28e09dd51aae1208de80bb6155bee7d9dee36de5540efd633445a8d743816cbbc15fb8a1c7768984190d5b873a341\n"
     ]
    }
   ],
   "source": [
    "# Exercise 3\n",
    "\n",
    "from ecc import PrivateKey, N, G\n",
    "from hash import sha256, hash_challenge\n",
    "from helper import big_endian_to_int\n",
    "priv = PrivateKey(21000000)\n",
    "msg = sha256(b\"I'm learning Taproot!\")\n",
    "# We'll learn more about k later, for now use 987654321\n",
    "k = 987654321\n",
    "# get e using the even_secret method on the private key\n",
    "e = priv.even_secret() #/\n",
    "# calculate R which is kG\n",
    "r = k * G\n",
    "# if R's y coordinate is odd (use the parity property), flip the k\n",
    "if r.parity:\n",
    "    # set k to N - k\n",
    "    k = N - k\n",
    "    # recalculate R\n",
    "    r = k * G\n",
    "# calculate the commitment which is: R || P || msg\n",
    "commitment = r.xonly() + priv.point.xonly() + msg\n",
    "# h is the hash_challenge of the commitment as a big endian integer mod N\n",
    "h = big_endian_to_int(hash_challenge(commitment)) % N\n",
    "# calculate s which is (k+eh) mod N\n",
    "s = (k + e * h) % N\n",
    "# create a SchnorrSignature object using the R and s\n",
    "schnorr = SchnorrSignature(r, s)\n",
    "# check that this schnorr signature verifies\n",
    "if not priv.point.verify_schnorr(msg, schnorr):\n",
    "    raise RuntimeError(\"Bad Signature\")\n",
    "# print the serialized hex of the signature\n",
    "print(schnorr.serialize().hex())"
   ]
  },
  {
   "cell_type": "markdown",
   "id": "792fe653",
   "metadata": {
    "slideshow": {
     "slide_type": "slide"
    }
   },
   "source": [
    "### Exercise 4\n",
    "\n",
    "\n",
    "\n",
    "\n",
    "#### Make [this test](/edit/session1/ecc.py) pass: `ecc.py:SchnorrTest:test_sign`"
   ]
  },
  {
   "cell_type": "code",
   "execution_count": 7,
   "id": "db3c331e",
   "metadata": {},
   "outputs": [
    {
     "name": "stderr",
     "output_type": "stream",
     "text": [
      ".\n",
      "----------------------------------------------------------------------\n",
      "Ran 1 test in 0.223s\n",
      "\n",
      "OK\n"
     ]
    }
   ],
   "source": [
    "# Exercise 4\n",
    "\n",
    "reload(ecc)\n",
    "run(ecc.SchnorrTest('test_sign'))"
   ]
  },
  {
   "cell_type": "markdown",
   "id": "09d196f1",
   "metadata": {
    "slideshow": {
     "slide_type": "slide"
    }
   },
   "source": [
    "# $k$-generation\n",
    "* Start with a number calle the auxillary\n",
    "* Then xor auxillary with the secret\n",
    "* Then hash the result with the message to make the $k$\n",
    "* $k$ is unique to the secret and the message\n",
    "* 32 0-bytes can be used to create a deterministic $k$\n"
   ]
  },
  {
   "cell_type": "code",
   "execution_count": 8,
   "id": "a0d33673",
   "metadata": {
    "slideshow": {
     "slide_type": "slide"
    }
   },
   "outputs": [
    {
     "name": "stdout",
     "output_type": "stream",
     "text": [
      "31125149427820969131614127332922859178956822599511456797208167813464334338237\n"
     ]
    }
   ],
   "source": [
    "# Example Signing\n",
    "from ecc import PrivateKey, N\n",
    "from hash import sha256, hash_aux, hash_nonce\n",
    "from helper import big_endian_to_int, int_to_big_endian, xor_bytes\n",
    "aux = bytes([0] * 32)\n",
    "private_key = PrivateKey(21000000)\n",
    "e = priv.even_secret()\n",
    "msg = sha256(b\"k-generation is cool!\")\n",
    "# t contains the secret, msg is added so it's unique to the message and private key\n",
    "t = xor_bytes(int_to_big_endian(e, 32), hash_aux(aux))\n",
    "k = big_endian_to_int(hash_nonce(t + private_key.point.xonly())) % N\n",
    "print(k)"
   ]
  },
  {
   "cell_type": "markdown",
   "id": "b266b36e",
   "metadata": {
    "slideshow": {
     "slide_type": "slide"
    }
   },
   "source": [
    "### Exercise 5\n",
    "\n",
    "Sign the message b\"Deterministic k generation!\" with the private key 837,120,557\n",
    "\n"
   ]
  },
  {
   "cell_type": "code",
   "execution_count": 9,
   "id": "0da521c7",
   "metadata": {},
   "outputs": [
    {
     "name": "stdout",
     "output_type": "stream",
     "text": [
      "78133dcb92fd79c8928d4c3e498c41e431b137d418805e2455ecb39ff4da9b71f547d4bb87c6353e15b0b85837a515574533ab5f3e002dcf10448d475e848594\n"
     ]
    }
   ],
   "source": [
    "# Exercise 5\n",
    "\n",
    "from ecc import PrivateKey, N, G\n",
    "from hash import sha256, hash_aux, hash_nonce\n",
    "from helper import big_endian_to_int, int_to_big_endian, xor_bytes\n",
    "priv = PrivateKey(21000000)\n",
    "msg = sha256(b\"Deterministic k generation\")\n",
    "# get e using the even_secret method on the private key\n",
    "e = priv.even_secret() #/\n",
    "# use the 32-bytes of 0's for the auxillary\n",
    "aux = bytes([0] * 32) #/\n",
    "# xor the even secret and the hash of the aux\n",
    "t = xor_bytes(int_to_big_endian(e, 32), hash_aux(aux)) #/\n",
    "# k is the hash_nonce of the result and the x-only pubkey as a big endian integer\n",
    "k = big_endian_to_int(hash_nonce(t + private_key.point.xonly())) % N #/\n",
    "# calculate R which is kG\n",
    "r = k * G\n",
    "# if R's y coordinate is odd (use the parity property), flip the k\n",
    "if r.parity:\n",
    "    # set k to N - k\n",
    "    k = N - k\n",
    "    # recalculate R\n",
    "    r = k * G\n",
    "# calculate the commitment which is: R || P || msg\n",
    "commitment = r.xonly() + priv.point.xonly() + msg\n",
    "# h is the hash_challenge of the commitment as a big endian integer mod N\n",
    "h = big_endian_to_int(hash_challenge(commitment)) % N\n",
    "# calculate s which is (k+eh) mod N\n",
    "s = (k + e * h) % N\n",
    "# create a SchnorrSignature object using the R and s\n",
    "schnorr = SchnorrSignature(r, s)\n",
    "# check that this schnorr signature verifies\n",
    "if not priv.point.verify_schnorr(msg, schnorr):\n",
    "    raise RuntimeError(\"Bad Signature\")\n",
    "# print the serialized hex of the signature\n",
    "print(schnorr.serialize().hex())"
   ]
  },
  {
   "cell_type": "markdown",
   "id": "3ed0afe5",
   "metadata": {
    "slideshow": {
     "slide_type": "slide"
    }
   },
   "source": [
    "### Exercise 6\n",
    "\n",
    "\n",
    "\n",
    "\n",
    "#### Make [this test](/edit/session1/ecc.py) pass: `ecc.py:SchnorrTest:test_bip340_k`"
   ]
  },
  {
   "cell_type": "code",
   "execution_count": 10,
   "id": "7fb07599",
   "metadata": {},
   "outputs": [
    {
     "name": "stderr",
     "output_type": "stream",
     "text": [
      ".\n",
      "----------------------------------------------------------------------\n",
      "Ran 1 test in 0.007s\n",
      "\n",
      "OK\n"
     ]
    }
   ],
   "source": [
    "# Exercise 6\n",
    "\n",
    "reload(ecc)\n",
    "run(ecc.SchnorrTest('test_bip340_k'))"
   ]
  },
  {
   "cell_type": "markdown",
   "id": "1e238d1f",
   "metadata": {
    "slideshow": {
     "slide_type": "slide"
    }
   },
   "source": [
    "# Batch Verification\n",
    "* $e_iG=P_i$, $m_i$ message, $H$\n",
    "* Signatures are $(R_i,s_i)$, $h_i=H(R_i||P_i||m_i)$\n",
    "* $-h_1 P_1+s_1G=R_1$\n",
    "* $-h_2 P_2+s_2G=R_2$\n",
    "* $-h_1 P_1-h_2 P_2+(s_1+s_2)G=R_1+R_2$\n",
    "* $(s_1+s_2)G=R_1+R_2+h_1 P_1+h_2 P_2$\n"
   ]
  },
  {
   "cell_type": "markdown",
   "id": "ede93dd9",
   "metadata": {
    "slideshow": {
     "slide_type": "slide"
    }
   },
   "source": [
    "### Exercise 7\n",
    "\n",
    "Batch Verify these two Schnorr Signatures\n",
    "\n",
    "Pubkey 1 = cbaa648dbfe734646ce958e2f14a874149fae4010fdeabde4bae6a732537fd91\n",
    "Pubkey 2 = e79c4eb45764bd015542f6779cc70fef44b7a2432f839264768288efab886291\n",
    "\n",
    "Signature 1 = 2ae68f873376a0ff302258964632f7b98b21e3bbc72dcc8fb31de8acf01696b951f3dbb6fc5532558219472fb63e061f9a4c7d1760cc588da551c74374cd0de4\n",
    "Signature 2 = b6e52f38bc24f1420c4fdae8fa0f04b9b0374a12f18fd4699b06df53eb1386bfa88c1835cd19470cf8c76550eb549c988f9c8fac00cc56fadd4fcc3bf9d8800e\n",
    "\n",
    "Message 1 = 1a84547db188f0b1d2c9f0beac230afebbd5e6e6c1a46fc69841815194bf8612\n",
    "Message 2 = af1c325abcb0cced3a4166ce67be1db659ae1dd574fe49b0f2941d8d4882d62c\n",
    "\n"
   ]
  },
  {
   "cell_type": "code",
   "execution_count": 11,
   "id": "d8d794a8",
   "metadata": {},
   "outputs": [
    {
     "name": "stdout",
     "output_type": "stream",
     "text": [
      "True\n"
     ]
    }
   ],
   "source": [
    "# Exercise 7\n",
    "\n",
    "from ecc import SchnorrSignature, S256Point, N, G\n",
    "from hash import hash_challenge\n",
    "from helper import big_endian_to_int\n",
    "p1_raw = bytes.fromhex(\"cbaa648dbfe734646ce958e2f14a874149fae4010fdeabde4bae6a732537fd91\")\n",
    "p2_raw = bytes.fromhex(\"e79c4eb45764bd015542f6779cc70fef44b7a2432f839264768288efab886291\")\n",
    "p1 = S256Point.parse(p1_raw)\n",
    "p2 = S256Point.parse(p2_raw)\n",
    "sig1_raw = bytes.fromhex(\"2ae68f873376a0ff302258964632f7b98b21e3bbc72dcc8fb31de8acf01696b951f3dbb6fc5532558219472fb63e061f9a4c7d1760cc588da551c74374cd0de4\")\n",
    "sig2_raw = bytes.fromhex(\"b6e52f38bc24f1420c4fdae8fa0f04b9b0374a12f18fd4699b06df53eb1386bfa88c1835cd19470cf8c76550eb549c988f9c8fac00cc56fadd4fcc3bf9d8800e\")\n",
    "sig1 = SchnorrSignature.parse(sig1_raw)\n",
    "sig2 = SchnorrSignature.parse(sig2_raw)\n",
    "msg1 = bytes.fromhex(\"1a84547db188f0b1d2c9f0beac230afebbd5e6e6c1a46fc69841815194bf8612\")\n",
    "msg2 = bytes.fromhex(\"af1c325abcb0cced3a4166ce67be1db659ae1dd574fe49b0f2941d8d4882d62c\")\n",
    "# define s as the s_i sum (make sure to mod by N)\n",
    "s = (sig1.s + sig2.s) % N\n",
    "# define r as the signatures' r sum\n",
    "r = sig1.r + sig2.r\n",
    "# create the commitments: R_i||P_i||m_i\n",
    "commitment_1 = sig1.r.xonly() + p1.xonly() + msg1\n",
    "commitment_2 = sig2.r.xonly() + p2.xonly() + msg2\n",
    "# h_i are the hash_challenge of the commitment as big endian ints mod N\n",
    "h1 = big_endian_to_int(hash_challenge(commitment_1)) % N\n",
    "h2 = big_endian_to_int(hash_challenge(commitment_2)) % N\n",
    "# h is the sum of the h_i P_i's\n",
    "h = h1*p1 + h2*p2\n",
    "# check that sG=R+h\n",
    "print(s*G == r+h)"
   ]
  },
  {
   "cell_type": "markdown",
   "id": "ab8a4957",
   "metadata": {
    "slideshow": {
     "slide_type": "slide"
    }
   },
   "source": [
    "# Spending from the KeyPath\n",
    "* $m$ is the Merkle Root $m$ of the ScriptPath\n",
    "* Tweak $t$ and $P$ create $Q$, the external pubkey\n",
    "* $t=H(P||m)$ where $H$ is <code>hash_taptweak</code>\n",
    "* $Q=P+tG$, and $eG=P$ which means $Q=eG+tG$ and $Q=(e+t)G$\n",
    "* $e+t$ is your private key, which can sign for the $Q$\n",
    "* Witness has a single element, the Schnorr Signature\n",
    "* If you don't want a script path, $m$ is the empty string\n"
   ]
  },
  {
   "cell_type": "code",
   "execution_count": 12,
   "id": "c3c6d540",
   "metadata": {
    "slideshow": {
     "slide_type": "slide"
    }
   },
   "outputs": [
    {
     "name": "stdout",
     "output_type": "stream",
     "text": [
      "OP_1 578444b411276eee17e2f69988d192b7e728f4375525a868f4a9c2b78e12af16\n"
     ]
    }
   ],
   "source": [
    "# Example Q calculation for a single-key\n",
    "from ecc import S256Point, G\n",
    "from hash import hash_taptweak\n",
    "from helper import big_endian_to_int\n",
    "from script import P2TRScriptPubKey\n",
    "internal_pubkey_raw = bytes.fromhex(\"cbaa648dbfe734646ce958e2f14a874149fae4010fdeabde4bae6a732537fd91\")\n",
    "internal_pubkey = S256Point.parse(internal_pubkey_raw)\n",
    "t = big_endian_to_int(hash_taptweak(internal_pubkey_raw))\n",
    "external_pubkey = internal_pubkey + t * G\n",
    "script_pubkey = P2TRScriptPubKey(external_pubkey)\n",
    "print(script_pubkey)"
   ]
  },
  {
   "cell_type": "markdown",
   "id": "b4adb2c3",
   "metadata": {
    "slideshow": {
     "slide_type": "slide"
    }
   },
   "source": [
    "### Exercise 8\n",
    "\n",
    "Make a P2TR ScriptPubKey using the private key 9284736473\n",
    "\n"
   ]
  },
  {
   "cell_type": "code",
   "execution_count": 13,
   "id": "c1045839",
   "metadata": {},
   "outputs": [
    {
     "name": "stdout",
     "output_type": "stream",
     "text": [
      "OP_1 a6b9f4b7999f9c6de76165342c9feac354d5d3062a41761ed1616eaf9e3c38ec\n"
     ]
    }
   ],
   "source": [
    "# Exercise 8\n",
    "\n",
    "from ecc import PrivateKey, G\n",
    "from hash import hash_taptweak\n",
    "from helper import big_endian_to_int\n",
    "from script import P2TRScriptPubKey\n",
    "priv = PrivateKey(9284736473)\n",
    "# get the internal pubkey\n",
    "internal_pubkey = priv.point\n",
    "# t is the hash_taptweak of the internal pubkey xonly as a big endian integer\n",
    "t = big_endian_to_int(hash_taptweak(internal_pubkey.xonly()))\n",
    "# Q = P + tG\n",
    "external_pubkey = internal_pubkey + t * G\n",
    "# use P2TRScriptPubKey to create the ScriptPubKey\n",
    "script_pubkey = P2TRScriptPubKey(external_pubkey)\n",
    "# print the ScriptPubKey\n",
    "print(script_pubkey)"
   ]
  },
  {
   "cell_type": "markdown",
   "id": "2a11742c",
   "metadata": {
    "slideshow": {
     "slide_type": "slide"
    }
   },
   "source": [
    "### Exercise 9\n",
    "\n",
    "\n",
    "\n",
    "\n",
    "#### Make [this test](/edit/session1/ecc.py) pass: `ecc.py:TapRootTest:test_default_tweak`"
   ]
  },
  {
   "cell_type": "code",
   "execution_count": 14,
   "id": "a6a0cfab",
   "metadata": {},
   "outputs": [
    {
     "name": "stderr",
     "output_type": "stream",
     "text": [
      ".\n",
      "----------------------------------------------------------------------\n",
      "Ran 1 test in 0.000s\n",
      "\n",
      "OK\n"
     ]
    }
   ],
   "source": [
    "# Exercise 9\n",
    "\n",
    "reload(ecc)\n",
    "run(ecc.TapRootTest('test_default_tweak'))"
   ]
  },
  {
   "cell_type": "markdown",
   "id": "8449351b",
   "metadata": {
    "slideshow": {
     "slide_type": "slide"
    }
   },
   "source": [
    "### Exercise 10\n",
    "\n",
    "\n",
    "\n",
    "\n",
    "#### Make [this test](/edit/session1/ecc.py) pass: `ecc.py:TapRootTest:test_tweaked_key`"
   ]
  },
  {
   "cell_type": "code",
   "execution_count": 15,
   "id": "991c2325",
   "metadata": {},
   "outputs": [
    {
     "name": "stderr",
     "output_type": "stream",
     "text": [
      ".\n",
      "----------------------------------------------------------------------\n",
      "Ran 1 test in 0.053s\n",
      "\n",
      "OK\n"
     ]
    }
   ],
   "source": [
    "# Exercise 10\n",
    "\n",
    "reload(ecc)\n",
    "run(ecc.TapRootTest('test_tweaked_key'))"
   ]
  },
  {
   "cell_type": "markdown",
   "id": "5ff56204",
   "metadata": {
    "slideshow": {
     "slide_type": "slide"
    }
   },
   "source": [
    "### Exercise 11\n",
    "\n",
    "\n",
    "\n",
    "\n",
    "#### Make [this test](/edit/session1/ecc.py) pass: `ecc.py:TapRootTest:test_private_tweaked_key`"
   ]
  },
  {
   "cell_type": "code",
   "execution_count": 16,
   "id": "3b9bafcc",
   "metadata": {},
   "outputs": [
    {
     "name": "stderr",
     "output_type": "stream",
     "text": [
      ".\n",
      "----------------------------------------------------------------------\n",
      "Ran 1 test in 0.156s\n",
      "\n",
      "OK\n"
     ]
    }
   ],
   "source": [
    "# Exercise 11\n",
    "\n",
    "reload(ecc)\n",
    "run(ecc.TapRootTest('test_private_tweaked_key'))"
   ]
  },
  {
   "cell_type": "markdown",
   "id": "2cf09063",
   "metadata": {
    "slideshow": {
     "slide_type": "slide"
    }
   },
   "source": [
    "### Exercise 12\n",
    "\n",
    "\n",
    "\n",
    "\n",
    "#### Make [this test](/edit/session1/ecc.py) pass: `ecc.py:TapRootTest:test_p2tr_script`"
   ]
  },
  {
   "cell_type": "code",
   "execution_count": 17,
   "id": "f33c5cbd",
   "metadata": {},
   "outputs": [
    {
     "name": "stderr",
     "output_type": "stream",
     "text": [
      ".\n",
      "----------------------------------------------------------------------\n",
      "Ran 1 test in 0.053s\n",
      "\n",
      "OK\n"
     ]
    }
   ],
   "source": [
    "# Exercise 12\n",
    "\n",
    "reload(ecc)\n",
    "run(ecc.TapRootTest('test_p2tr_script'))"
   ]
  },
  {
   "cell_type": "markdown",
   "id": "eb6fe721",
   "metadata": {
    "slideshow": {
     "slide_type": "slide"
    }
   },
   "source": [
    "# P2TR Addresses\n",
    "* Segwit v0 uses Bech32\n",
    "* Taproot (Segwit v1) uses Bech32m\n",
    "* Bech32m is different than Bech32 (BIP350)\n",
    "* Has error correcting capability and uses 32 letters/numbers\n",
    "* Segwit v0 addresses start with <code>bc1q</code> and p2wpkh is shorter than p2wsh\n",
    "* Segwit v1 addresses start with <code>bc1p</code> and they're all one length\n"
   ]
  },
  {
   "cell_type": "code",
   "execution_count": 18,
   "id": "6cb1d313",
   "metadata": {
    "slideshow": {
     "slide_type": "slide"
    }
   },
   "outputs": [
    {
     "name": "stdout",
     "output_type": "stream",
     "text": [
      "bc1p27zyfdq3yahwu9lz76vc35vjklnj3aph25j6s68548pt0rsj4utql46j72\n",
      "tb1p27zyfdq3yahwu9lz76vc35vjklnj3aph25j6s68548pt0rsj4utqgavay9\n"
     ]
    }
   ],
   "source": [
    "# Example of getting a p2tr address\n",
    "from ecc import S256Point\n",
    "internal_pubkey_raw = bytes.fromhex(\"cbaa648dbfe734646ce958e2f14a874149fae4010fdeabde4bae6a732537fd91\")\n",
    "internal_pubkey = S256Point.parse(internal_pubkey_raw)\n",
    "print(internal_pubkey.p2tr_address())\n",
    "print(internal_pubkey.p2tr_address(network=\"signet\"))"
   ]
  },
  {
   "cell_type": "markdown",
   "id": "ca2e17f0",
   "metadata": {
    "slideshow": {
     "slide_type": "slide"
    }
   },
   "source": [
    "### Exercise 13\n",
    "\n",
    "Make your own Signet P2TR Address\n",
    "\n",
    "Submit your address at [this link]()\n",
    "\n"
   ]
  },
  {
   "cell_type": "code",
   "execution_count": 19,
   "id": "053ecdf7",
   "metadata": {},
   "outputs": [
    {
     "name": "stdout",
     "output_type": "stream",
     "text": [
      "tb1pfx2ys8pzcg0mdufk9v25hphv85zgjpv5kyn6uevdmfmvdsw0ea0qyvv87u\n"
     ]
    }
   ],
   "source": [
    "# Exercise 13\n",
    "\n",
    "from ecc import PrivateKey\n",
    "from hash import sha256\n",
    "from helper import big_endian_to_int\n",
    "my_email = b\"jimmy@programmingblockchain.com\"\n",
    "my_secret = big_endian_to_int(sha256(my_email))\n",
    "# create the private key object\n",
    "priv = PrivateKey(my_secret)\n",
    "# get the public point\n",
    "point = priv.point\n",
    "# print the p2tr_address with network set to \"signet\"\n",
    "print(point.p2tr_address(network=\"signet\"))"
   ]
  }
 ],
 "metadata": {
  "kernelspec": {
   "display_name": "Python 3 (ipykernel)",
   "language": "python",
   "name": "python3"
  },
  "language_info": {
   "codemirror_mode": {
    "name": "ipython",
    "version": 3
   },
   "file_extension": ".py",
   "mimetype": "text/x-python",
   "name": "python",
   "nbconvert_exporter": "python",
   "pygments_lexer": "ipython3",
   "version": "3.11.5"
  }
 },
 "nbformat": 4,
 "nbformat_minor": 5
}
