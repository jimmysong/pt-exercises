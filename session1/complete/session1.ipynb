{
 "cells": [
  {
   "cell_type": "code",
   "execution_count": 1,
   "id": "41829d50",
   "metadata": {
    "slideshow": {
     "slide_type": "skip"
    }
   },
   "outputs": [],
   "source": [
    "############## PLEASE RUN THIS CELL FIRST! ###################\n",
    "\n",
    "# import everything and define a test runner function\n",
    "from importlib import reload\n",
    "from helper import run\n",
    "import ecc"
   ]
  },
  {
   "cell_type": "markdown",
   "id": "d306e365",
   "metadata": {
    "slideshow": {
     "slide_type": "slide"
    }
   },
   "source": [
    "# Schnorr Verification\n",
    "* $e$ is the private key, $eG=P$, $z$ is the message, $k$ is the nonce, $kG=R$\n",
    "* $\\mathcal{H}$ is a tagged hash (BIP0340/challenge)\n",
    "* $d$ challenge, $d=\\mathcal{H}(R||P||z)$\n",
    "* Signature is $(R,s)$ where $s=k + e d$\n",
    "* Verify $R=sG-dP$\n",
    "* $$sG-dP =(k+e d)G-dP =kG+d(eG)-dP=R+dP-dP=R$$\n"
   ]
  },
  {
   "cell_type": "code",
   "execution_count": 2,
   "id": "238a33ce",
   "metadata": {
    "slideshow": {
     "slide_type": "slide"
    }
   },
   "outputs": [
    {
     "name": "stdout",
     "output_type": "stream",
     "text": [
      "True\n"
     ]
    }
   ],
   "source": [
    "from ecc import S256Point, SchnorrSignature, G, N\n",
    "from hash import hash_challenge\n",
    "from helper import big_endian_to_int\n",
    "msg = b\"I'm learning Schnorr Signatures!\"\n",
    "sig_raw = bytes.fromhex(\"3b5b656f623e314fcff97b44f93d4452992856e65fe0268a77a9a94c626eb1b11e8bcea138a15c185633fd66a7c1683843daa332c9d9e27a7178389d338521ab\")\n",
    "sig = SchnorrSignature.parse(sig_raw)\n",
    "xonly = bytes.fromhex(\"a8a28557947025fe0646660677c09a757a3bce148d99fac9368439a13df6ea1a\")\n",
    "p = S256Point.parse(xonly)\n",
    "commitment = sig.r.xonly() + p.xonly() + msg\n",
    "d = big_endian_to_int(hash_challenge(commitment)) % N\n",
    "target = sig.s * G - d * p\n",
    "print(target == sig.r)"
   ]
  },
  {
   "cell_type": "markdown",
   "id": "062bf991",
   "metadata": {
    "slideshow": {
     "slide_type": "slide"
    }
   },
   "source": [
    "### Exercise 1\n",
    "\n",
    "Verify this Schnorr Signature\n",
    "\n",
    "Pubkey = cbaa648dbfe734646ce958e2f14a874149fae4010fdeabde4bae6a732537fd91\n",
    "Signature = 2ae68f873376a0ff302258964632f7b98b21e3bbc72dcc8fb31de8acf01696b951f3dbb6fc5532558219472fb63e061f9a4c7d1760cc588da551c74374cd0de4\n",
    "Message = 1a84547db188f0b1d2c9f0beac230afebbd5e6e6c1a46fc69841815194bf8612\n",
    "\n"
   ]
  },
  {
   "cell_type": "code",
   "execution_count": 3,
   "id": "c7149a54",
   "metadata": {},
   "outputs": [
    {
     "name": "stdout",
     "output_type": "stream",
     "text": [
      "True\n"
     ]
    }
   ],
   "source": [
    "# Exercise 1\n",
    "\n",
    "from ecc import SchnorrSignature, S256Point, N, G\n",
    "from hash import hash_challenge\n",
    "from helper import big_endian_to_int\n",
    "p_raw = bytes.fromhex(\"cbaa648dbfe734646ce958e2f14a874149fae4010fdeabde4bae6a732537fd91\")\n",
    "p = S256Point.parse(p_raw)\n",
    "sig_raw = bytes.fromhex(\"2ae68f873376a0ff302258964632f7b98b21e3bbc72dcc8fb31de8acf01696b951f3dbb6fc5532558219472fb63e061f9a4c7d1760cc588da551c74374cd0de4\")\n",
    "sig = SchnorrSignature.parse(sig_raw)\n",
    "msg = bytes.fromhex(\"1a84547db188f0b1d2c9f0beac230afebbd5e6e6c1a46fc69841815194bf8612\")\n",
    "# create the commitment: R || P || z (points should be xonly)\n",
    "commitment = sig.r.xonly() + p.xonly() + msg\n",
    "# d is the hash_challenge of the commitment as a big endian int\n",
    "d = big_endian_to_int(hash_challenge(commitment))\n",
    "# check that R=sG-dP\n",
    "print(sig.r == sig.s*G - d*p)"
   ]
  },
  {
   "cell_type": "markdown",
   "id": "6fa523fc",
   "metadata": {
    "slideshow": {
     "slide_type": "slide"
    }
   },
   "source": [
    "### Exercise 2\n",
    "\n",
    "\n",
    "\n",
    "\n",
    "#### Make [this test](/edit/session1/ecc.py) pass: `ecc.py:SchnorrTest:test_verify`"
   ]
  },
  {
   "cell_type": "code",
   "execution_count": 4,
   "id": "2e46f8e1",
   "metadata": {},
   "outputs": [
    {
     "name": "stderr",
     "output_type": "stream",
     "text": [
      ".\n",
      "----------------------------------------------------------------------\n",
      "Ran 1 test in 0.226s\n",
      "\n",
      "OK\n"
     ]
    }
   ],
   "source": [
    "# Exercise 2\n",
    "\n",
    "reload(ecc)\n",
    "run(ecc.SchnorrTest('test_verify'))"
   ]
  },
  {
   "cell_type": "markdown",
   "id": "b00c9119",
   "metadata": {
    "slideshow": {
     "slide_type": "slide"
    }
   },
   "source": [
    "# Schnorr Signing\n",
    "* $eG=P$, $m$ message, $k$ random\n",
    "* $kG=R$, $H$ is <code>hash_challenge</code.\n",
    "* $s=k+e H(R||P||m)$ where $R$ and $P$ are $x$-only\n",
    "* Signature is $(R,s)$\n"
   ]
  },
  {
   "cell_type": "code",
   "execution_count": 5,
   "id": "4bb2b786",
   "metadata": {
    "slideshow": {
     "slide_type": "slide"
    }
   },
   "outputs": [
    {
     "name": "stdout",
     "output_type": "stream",
     "text": [
      "f3626c99fe36167e5fef6b95e5ed6e5687caa4dc828986a7de8f9423c0f77f9bfc080c38ae75e45d7d3ba652d979b78d4b00520c834552653f7819af7b60ae71\n"
     ]
    }
   ],
   "source": [
    "from ecc import PrivateKey, N, G\n",
    "from hash import hash_challenge\n",
    "from helper import big_endian_to_int\n",
    "priv = PrivateKey(12345)\n",
    "e = priv.even_secret()\n",
    "msg = b\"I'm learning Schnorr Signatures!\"\n",
    "k = 21016020145315867006318399104346325815084469783631925097217883979013588851039\n",
    "r = k * G\n",
    "if not r.even:\n",
    "    k = N - k\n",
    "    r = k * G\n",
    "challenge = r.xonly() + priv.point.xonly() + msg\n",
    "d = big_endian_to_int(hash_challenge(challenge)) % N\n",
    "s = (k + e * d) % N\n",
    "sig = SchnorrSignature(r, s)\n",
    "if not priv.point.verify_schnorr(msg, sig):\n",
    "    raise RuntimeError(\"Bad Signature\")\n",
    "print(sig.serialize().hex())"
   ]
  },
  {
   "cell_type": "markdown",
   "id": "23e2f2f3",
   "metadata": {
    "slideshow": {
     "slide_type": "slide"
    }
   },
   "source": [
    "### Exercise 3\n",
    "\n",
    "Sign the message b\"Schnorr Signatures adopt Taproot\" with the private key 21,000,000\n",
    "\n"
   ]
  },
  {
   "cell_type": "code",
   "execution_count": 6,
   "id": "05ea9d42",
   "metadata": {},
   "outputs": [
    {
     "name": "stdout",
     "output_type": "stream",
     "text": [
      "5ad2703f5b4f4b9dea4c28fa30d86d3781d28e09dd51aae1208de80bb6155bee012724e78be1a84fe7bbb14f3d8cbc6edd715e572b5b2c09e8838edfd53521db\n"
     ]
    }
   ],
   "source": [
    "# Exercise 3\n",
    "\n",
    "from ecc import PrivateKey, N, G\n",
    "from hash import hash_challenge\n",
    "from helper import big_endian_to_int\n",
    "priv = PrivateKey(21000000)\n",
    "msg = b\"Schnorr Signatures adopt Taproot\"\n",
    "k = 987654321\n",
    "# get e using the even_secret method on the private key\n",
    "e = priv.even_secret() #/\n",
    "# calculate the nonce point R which is kG\n",
    "r = k * G\n",
    "# if R's not even, negate the k and recalculate R\n",
    "if not r.even:\n",
    "    # set k to N - k\n",
    "    k = N - k\n",
    "    # recalculate R\n",
    "    r = k * G\n",
    "# calculate the commitment which is: R || P || msg\n",
    "commitment = r.xonly() + priv.point.xonly() + msg\n",
    "# d is the hash_challenge of the commitment as a big endian integer mod N\n",
    "d = big_endian_to_int(hash_challenge(commitment)) % N\n",
    "# calculate s = (k+ed) mod N\n",
    "s = (k + e * d) % N\n",
    "# create a SchnorrSignature object using the R and s\n",
    "sig = SchnorrSignature(r, s)\n",
    "# check that this schnorr signature verifies\n",
    "if not priv.point.verify_schnorr(msg, sig):\n",
    "    raise RuntimeError(\"Bad Signature\")\n",
    "# print the serialized hex of the signature\n",
    "print(sig.serialize().hex())"
   ]
  },
  {
   "cell_type": "markdown",
   "id": "e651f9fd",
   "metadata": {
    "slideshow": {
     "slide_type": "slide"
    }
   },
   "source": [
    "### Exercise 4\n",
    "\n",
    "\n",
    "\n",
    "\n",
    "#### Make [this test](/edit/session1/ecc.py) pass: `ecc.py:SchnorrTest:test_sign`"
   ]
  },
  {
   "cell_type": "code",
   "execution_count": 7,
   "id": "a4b15708",
   "metadata": {},
   "outputs": [
    {
     "name": "stderr",
     "output_type": "stream",
     "text": [
      ".\n",
      "----------------------------------------------------------------------\n",
      "Ran 1 test in 0.282s\n",
      "\n",
      "OK\n"
     ]
    }
   ],
   "source": [
    "# Exercise 4\n",
    "\n",
    "reload(ecc)\n",
    "run(ecc.SchnorrTest('test_sign'))"
   ]
  },
  {
   "cell_type": "markdown",
   "id": "b110cd61",
   "metadata": {
    "slideshow": {
     "slide_type": "slide"
    }
   },
   "source": [
    "# Nonce ($k$) Creation\n",
    "* Start with a random number $a$, which is then hashed\n",
    "* Xor the result $\\mathcal{H_1}(a)$ with the secret $e$\n",
    "* Then hash with the message $z$ to generate the $k$\n",
    "* $P=eG$, $\\mathcal{H_1}$ is <code>hash_aux</code>, $\\mathcal{H_2}$ is <code>hash_nonce</code>\n",
    "* $x = \\mathcal{H_1}(a) \\oplus e$, $k=\\mathcal{H_2}(x||P||z)$\n",
    "* $k$ is unique to both the secret and the message\n",
    "* 32 0-bytes $a$ can be used to create a deterministic $k$\n"
   ]
  },
  {
   "cell_type": "code",
   "execution_count": 8,
   "id": "b931a8f2",
   "metadata": {
    "slideshow": {
     "slide_type": "slide"
    }
   },
   "outputs": [
    {
     "name": "stdout",
     "output_type": "stream",
     "text": [
      "0x862c62948caca77dc46ef04e3124c0542d838ae79172d5709a9edfb799c67e58\n"
     ]
    }
   ],
   "source": [
    "# example of nonce creation\n",
    "from ecc import PrivateKey, N\n",
    "from hash import sha256, hash_aux, hash_nonce\n",
    "from helper import big_endian_to_int, int_to_big_endian, xor_bytes\n",
    "aux = bytes([0] * 32)\n",
    "private_key = PrivateKey(21000000)\n",
    "p = private_key.point\n",
    "e = private_key.even_secret()\n",
    "msg = sha256(b\"Nonce generation is spectacular!\")\n",
    "x = xor_bytes(int_to_big_endian(e, 32), hash_aux(aux))\n",
    "k = big_endian_to_int(hash_nonce(x + p.xonly() + msg)) % N\n",
    "print(hex(k))"
   ]
  },
  {
   "cell_type": "markdown",
   "id": "78990db3",
   "metadata": {
    "slideshow": {
     "slide_type": "slide"
    }
   },
   "source": [
    "### Exercise 5\n",
    "\n",
    "Sign the message b\"Secure Deterministic Nonce made!\" with the private key 837,120,557\n",
    "\n"
   ]
  },
  {
   "cell_type": "code",
   "execution_count": 9,
   "id": "8ffff343",
   "metadata": {},
   "outputs": [
    {
     "name": "stdout",
     "output_type": "stream",
     "text": [
      "3ea160fe0a9fcd6277ce5225e02fd17ae0778a62a684332740eb91c29c0f3a01b1cf2b2eaf18140861755e154d43e6385e7faeb4cf1fa8ff563886be68ff78f0\n"
     ]
    }
   ],
   "source": [
    "# Exercise 5\n",
    "\n",
    "from ecc import PrivateKey, N, G\n",
    "from hash import sha256, hash_aux, hash_nonce\n",
    "from helper import big_endian_to_int, int_to_big_endian, xor_bytes\n",
    "priv = PrivateKey(21000000)\n",
    "point = priv.point\n",
    "msg = b\"Secure Deterministic Nonce made!\"\n",
    "# get e using the even_secret method on the private key\n",
    "e = priv.even_secret() #/\n",
    "# use the 32-bytes of 0's for the auxillary\n",
    "a = bytes([0] * 32) #/\n",
    "# x=e⊕H(a) where ⊕ is xor_bytes, H is hash_aux and a is the auxillary\n",
    "x = xor_bytes(int_to_big_endian(e, 32), hash_aux(a)) #/\n",
    "# k=H(x||P||z) where H is hash_nonce, P is the xonly of the point and z is the message\n",
    "k = big_endian_to_int(hash_nonce(x + point.xonly() + msg)) % N #/\n",
    "# calculate R which is kG\n",
    "r = k * G\n",
    "# if R is not even negate the k\n",
    "if not r.even:\n",
    "    # set k to N - k\n",
    "    k = N - k\n",
    "    # recalculate R\n",
    "    r = k * G\n",
    "# calculate the commitment which is: R || P || msg\n",
    "commitment = r.xonly() + point.xonly() + msg\n",
    "# d=H(commitment) where H is the hash_challenge\n",
    "d = big_endian_to_int(hash_challenge(commitment)) % N\n",
    "# s=(k+ed) mod N\n",
    "s = (k + e * d) % N\n",
    "# create a SchnorrSignature object using the R and s\n",
    "sig = SchnorrSignature(r, s)\n",
    "# check that this schnorr signature verifies\n",
    "if not point.verify_schnorr(msg, sig):\n",
    "    raise RuntimeError(\"Bad Signature\")\n",
    "# print the serialized hex of the signature\n",
    "print(sig.serialize().hex())"
   ]
  },
  {
   "cell_type": "markdown",
   "id": "94e4ac8c",
   "metadata": {
    "slideshow": {
     "slide_type": "slide"
    }
   },
   "source": [
    "### Exercise 6\n",
    "\n",
    "\n",
    "\n",
    "\n",
    "#### Make [this test](/edit/session1/ecc.py) pass: `ecc.py:SchnorrTest:test_bip340_k`"
   ]
  },
  {
   "cell_type": "code",
   "execution_count": 10,
   "id": "7718240e",
   "metadata": {},
   "outputs": [
    {
     "name": "stderr",
     "output_type": "stream",
     "text": [
      ".\n",
      "----------------------------------------------------------------------\n",
      "Ran 1 test in 0.007s\n",
      "\n",
      "OK\n"
     ]
    }
   ],
   "source": [
    "# Exercise 6\n",
    "\n",
    "reload(ecc)\n",
    "run(ecc.SchnorrTest('test_bip340_k'))"
   ]
  },
  {
   "cell_type": "markdown",
   "id": "4ba4b96c",
   "metadata": {
    "slideshow": {
     "slide_type": "slide"
    }
   },
   "source": [
    "# Batch Verification\n",
    "* Pubkeys are $P_i$, Signatures are $(R_i,s_i)$\n",
    "* Challenges are $d_i=\\mathcal{H}(R_i||P_i||z_i)$\n",
    "* $R_i=s_iG-d_iP_i$\n",
    "* $\\sum{R_i}=\\sum{s_iG}-\\sum{d_iP_i}$\n",
    "* $(\\sum{s_i})G=\\sum{R_i}+\\sum{d_iP_i}$\n",
    "* Fewer total operations!\n"
   ]
  },
  {
   "cell_type": "markdown",
   "id": "1d47ce1e",
   "metadata": {
    "slideshow": {
     "slide_type": "slide"
    }
   },
   "source": [
    "### Exercise 7\n",
    "\n",
    "Batch Verify these two Schnorr Signatures\n",
    "\n",
    "Pubkey 1 = cbaa648dbfe734646ce958e2f14a874149fae4010fdeabde4bae6a732537fd91\n",
    "Pubkey 2 = e79c4eb45764bd015542f6779cc70fef44b7a2432f839264768288efab886291\n",
    "\n",
    "Signature 1 = 2ae68f873376a0ff302258964632f7b98b21e3bbc72dcc8fb31de8acf01696b951f3dbb6fc5532558219472fb63e061f9a4c7d1760cc588da551c74374cd0de4\n",
    "Signature 2 = b6e52f38bc24f1420c4fdae8fa0f04b9b0374a12f18fd4699b06df53eb1386bfa88c1835cd19470cf8c76550eb549c988f9c8fac00cc56fadd4fcc3bf9d8800e\n",
    "\n",
    "Message 1 = 1a84547db188f0b1d2c9f0beac230afebbd5e6e6c1a46fc69841815194bf8612\n",
    "Message 2 = af1c325abcb0cced3a4166ce67be1db659ae1dd574fe49b0f2941d8d4882d62c\n",
    "\n"
   ]
  },
  {
   "cell_type": "code",
   "execution_count": 11,
   "id": "45b585c1",
   "metadata": {},
   "outputs": [
    {
     "name": "stdout",
     "output_type": "stream",
     "text": [
      "True\n"
     ]
    }
   ],
   "source": [
    "# Exercise 7\n",
    "\n",
    "from ecc import SchnorrSignature, S256Point, N, G\n",
    "from hash import hash_challenge\n",
    "from helper import big_endian_to_int\n",
    "p1_raw = bytes.fromhex(\"cbaa648dbfe734646ce958e2f14a874149fae4010fdeabde4bae6a732537fd91\")\n",
    "p2_raw = bytes.fromhex(\"e79c4eb45764bd015542f6779cc70fef44b7a2432f839264768288efab886291\")\n",
    "p1 = S256Point.parse(p1_raw)\n",
    "p2 = S256Point.parse(p2_raw)\n",
    "sig1_raw = bytes.fromhex(\"2ae68f873376a0ff302258964632f7b98b21e3bbc72dcc8fb31de8acf01696b951f3dbb6fc5532558219472fb63e061f9a4c7d1760cc588da551c74374cd0de4\")\n",
    "sig2_raw = bytes.fromhex(\"b6e52f38bc24f1420c4fdae8fa0f04b9b0374a12f18fd4699b06df53eb1386bfa88c1835cd19470cf8c76550eb549c988f9c8fac00cc56fadd4fcc3bf9d8800e\")\n",
    "sig1 = SchnorrSignature.parse(sig1_raw)\n",
    "sig2 = SchnorrSignature.parse(sig2_raw)\n",
    "msg1 = bytes.fromhex(\"1a84547db188f0b1d2c9f0beac230afebbd5e6e6c1a46fc69841815194bf8612\")\n",
    "msg2 = bytes.fromhex(\"af1c325abcb0cced3a4166ce67be1db659ae1dd574fe49b0f2941d8d4882d62c\")\n",
    "# define s as the s_i sum (make sure to mod by N)\n",
    "s = (sig1.s + sig2.s) % N\n",
    "# define r as the signatures' r sum\n",
    "r = sig1.r + sig2.r\n",
    "# create the commitments: R_i||P_i||m_i\n",
    "commitment_1 = sig1.r.xonly() + p1.xonly() + msg1\n",
    "commitment_2 = sig2.r.xonly() + p2.xonly() + msg2\n",
    "# d_i are the challenges which are hash_challenge of the commitments as big endian ints mod N\n",
    "d1 = big_endian_to_int(hash_challenge(commitment_1)) % N\n",
    "d2 = big_endian_to_int(hash_challenge(commitment_2)) % N\n",
    "# d is the sum of the d_i P_i's\n",
    "d = d1*p1 + d2*p2\n",
    "# check that sG=R+d\n",
    "print(s*G == r+d)"
   ]
  },
  {
   "cell_type": "markdown",
   "id": "f9f6d2d4",
   "metadata": {
    "slideshow": {
     "slide_type": "slide"
    }
   },
   "source": [
    "# Spending from the KeyPath\n",
    "* $m$ is the Merkle Root of the ScriptPath\n",
    "* Tweak $t$ and $P$ create $Q$, the external pubkey\n",
    "* $t=\\mathcal{H}(P||m)$ where $\\mathcal{H}$ is <code>hash_taptweak</code>\n",
    "* $Q=P+tG$, and $eG=P$ which means $Q=eG+tG$ and $Q=(e+t)G$\n",
    "* $e+t$ is your private key, whose public key is $Q$\n",
    "* Witness has a single element, the Schnorr Signature\n",
    "* If you don't want a script path, $m$ is the empty string\n"
   ]
  },
  {
   "cell_type": "code",
   "execution_count": 12,
   "id": "c39cb5b4",
   "metadata": {
    "slideshow": {
     "slide_type": "slide"
    }
   },
   "outputs": [
    {
     "name": "stdout",
     "output_type": "stream",
     "text": [
      "OP_1 578444b411276eee17e2f69988d192b7e728f4375525a868f4a9c2b78e12af16\n"
     ]
    }
   ],
   "source": [
    "from ecc import S256Point, G\n",
    "from hash import hash_taptweak\n",
    "from helper import big_endian_to_int\n",
    "from script import P2TRScriptPubKey\n",
    "internal_pubkey_raw = bytes.fromhex(\"cbaa648dbfe734646ce958e2f14a874149fae4010fdeabde4bae6a732537fd91\")\n",
    "p = S256Point.parse(internal_pubkey_raw)\n",
    "m = b\"\"\n",
    "t = big_endian_to_int(hash_taptweak(p.xonly() + m))\n",
    "q = p + t * G\n",
    "script_pubkey = P2TRScriptPubKey(q)\n",
    "print(script_pubkey)"
   ]
  },
  {
   "cell_type": "markdown",
   "id": "771ccae1",
   "metadata": {
    "slideshow": {
     "slide_type": "slide"
    }
   },
   "source": [
    "### Exercise 8\n",
    "\n",
    "Make a P2TR ScriptPubKey with no Script Path using the private key 9284736473\n",
    "\n"
   ]
  },
  {
   "cell_type": "code",
   "execution_count": 13,
   "id": "9edf01ce",
   "metadata": {},
   "outputs": [
    {
     "name": "stdout",
     "output_type": "stream",
     "text": [
      "OP_1 a6b9f4b7999f9c6de76165342c9feac354d5d3062a41761ed1616eaf9e3c38ec\n"
     ]
    }
   ],
   "source": [
    "# Exercise 8\n",
    "\n",
    "from ecc import PrivateKey, G\n",
    "from hash import hash_taptweak\n",
    "from helper import big_endian_to_int\n",
    "from script import P2TRScriptPubKey\n",
    "priv = PrivateKey(9284736473)\n",
    "# get the internal pubkey, P\n",
    "p = priv.point\n",
    "# set the merkle root to the empty stning, m\n",
    "m = b\"\"\n",
    "# t is the hash_taptweak of the internal pubkey xonly and the merkle root as a big endian integer\n",
    "t = big_endian_to_int(hash_taptweak(p.xonly() + m))\n",
    "# Q = P + tG\n",
    "q = p + t * G\n",
    "# use P2TRScriptPubKey to create the ScriptPubKey\n",
    "script_pubkey = P2TRScriptPubKey(q)\n",
    "# print the ScriptPubKey\n",
    "print(script_pubkey)"
   ]
  },
  {
   "cell_type": "markdown",
   "id": "2f2770b3",
   "metadata": {
    "slideshow": {
     "slide_type": "slide"
    }
   },
   "source": [
    "### Exercise 9\n",
    "\n",
    "\n",
    "\n",
    "\n",
    "#### Make [this test](/edit/session1/ecc.py) pass: `ecc.py:TapRootTest:test_default_tweak`"
   ]
  },
  {
   "cell_type": "code",
   "execution_count": 14,
   "id": "97389f3f",
   "metadata": {},
   "outputs": [
    {
     "name": "stderr",
     "output_type": "stream",
     "text": [
      ".\n",
      "----------------------------------------------------------------------\n",
      "Ran 1 test in 0.000s\n",
      "\n",
      "OK\n"
     ]
    }
   ],
   "source": [
    "# Exercise 9\n",
    "\n",
    "reload(ecc)\n",
    "run(ecc.TapRootTest('test_default_tweak'))"
   ]
  },
  {
   "cell_type": "markdown",
   "id": "d6c32a9b",
   "metadata": {
    "slideshow": {
     "slide_type": "slide"
    }
   },
   "source": [
    "### Exercise 10\n",
    "\n",
    "\n",
    "\n",
    "\n",
    "#### Make [this test](/edit/session1/ecc.py) pass: `ecc.py:TapRootTest:test_tweaked_key`"
   ]
  },
  {
   "cell_type": "code",
   "execution_count": 15,
   "id": "68ed3d44",
   "metadata": {},
   "outputs": [
    {
     "name": "stderr",
     "output_type": "stream",
     "text": [
      ".\n",
      "----------------------------------------------------------------------\n",
      "Ran 1 test in 0.053s\n",
      "\n",
      "OK\n"
     ]
    }
   ],
   "source": [
    "# Exercise 10\n",
    "\n",
    "reload(ecc)\n",
    "run(ecc.TapRootTest('test_tweaked_key'))"
   ]
  },
  {
   "cell_type": "markdown",
   "id": "8369d3c9",
   "metadata": {
    "slideshow": {
     "slide_type": "slide"
    }
   },
   "source": [
    "### Exercise 11\n",
    "\n",
    "\n",
    "\n",
    "\n",
    "#### Make [this test](/edit/session1/ecc.py) pass: `ecc.py:TapRootTest:test_private_tweaked_key`"
   ]
  },
  {
   "cell_type": "code",
   "execution_count": 16,
   "id": "169d8219",
   "metadata": {},
   "outputs": [
    {
     "name": "stderr",
     "output_type": "stream",
     "text": [
      ".\n",
      "----------------------------------------------------------------------\n",
      "Ran 1 test in 0.160s\n",
      "\n",
      "OK\n"
     ]
    }
   ],
   "source": [
    "# Exercise 11\n",
    "\n",
    "reload(ecc)\n",
    "run(ecc.TapRootTest('test_private_tweaked_key'))"
   ]
  },
  {
   "cell_type": "markdown",
   "id": "7bafcc87",
   "metadata": {
    "slideshow": {
     "slide_type": "slide"
    }
   },
   "source": [
    "### Exercise 12\n",
    "\n",
    "\n",
    "\n",
    "\n",
    "#### Make [this test](/edit/session1/ecc.py) pass: `ecc.py:TapRootTest:test_p2tr_script`"
   ]
  },
  {
   "cell_type": "code",
   "execution_count": 17,
   "id": "98d622a4",
   "metadata": {},
   "outputs": [
    {
     "name": "stderr",
     "output_type": "stream",
     "text": [
      ".\n",
      "----------------------------------------------------------------------\n",
      "Ran 1 test in 0.053s\n",
      "\n",
      "OK\n"
     ]
    }
   ],
   "source": [
    "# Exercise 12\n",
    "\n",
    "reload(ecc)\n",
    "run(ecc.TapRootTest('test_p2tr_script'))"
   ]
  },
  {
   "cell_type": "markdown",
   "id": "f54d2225",
   "metadata": {
    "slideshow": {
     "slide_type": "slide"
    }
   },
   "source": [
    "# P2TR Addresses\n",
    "* Segwit v0 uses Bech32\n",
    "* Taproot (Segwit v1) uses Bech32m\n",
    "* Bech32m is different than Bech32 (BIP350)\n",
    "* Has error correcting capability and uses 32 letters/numbers\n",
    "* Segwit v0 addresses start with <code>bc1q</code> and p2wpkh is shorter than p2wsh\n",
    "* Segwit v1 addresses start with <code>bc1p</code> and they're all one length\n"
   ]
  },
  {
   "cell_type": "code",
   "execution_count": 18,
   "id": "3519622a",
   "metadata": {
    "slideshow": {
     "slide_type": "slide"
    }
   },
   "outputs": [
    {
     "name": "stdout",
     "output_type": "stream",
     "text": [
      "bc1p27zyfdq3yahwu9lz76vc35vjklnj3aph25j6s68548pt0rsj4utql46j72\n",
      "tb1p27zyfdq3yahwu9lz76vc35vjklnj3aph25j6s68548pt0rsj4utqgavay9\n"
     ]
    }
   ],
   "source": [
    "# Example of getting a p2tr address\n",
    "from ecc import S256Point\n",
    "internal_pubkey_raw = bytes.fromhex(\"cbaa648dbfe734646ce958e2f14a874149fae4010fdeabde4bae6a732537fd91\")\n",
    "p = S256Point.parse(internal_pubkey_raw)\n",
    "print(p.p2tr_address())\n",
    "print(p.p2tr_address(network=\"signet\"))"
   ]
  },
  {
   "cell_type": "markdown",
   "id": "c9a18583",
   "metadata": {
    "slideshow": {
     "slide_type": "slide"
    }
   },
   "source": [
    "### Exercise 13\n",
    "\n",
    "Make your own Signet P2TR Address\n",
    "\n",
    "Submit your address at [this link]()\n",
    "\n"
   ]
  },
  {
   "cell_type": "code",
   "execution_count": 19,
   "id": "62386376",
   "metadata": {},
   "outputs": [
    {
     "name": "stdout",
     "output_type": "stream",
     "text": [
      "tb1pfx2ys8pzcg0mdufk9v25hphv85zgjpv5kyn6uevdmfmvdsw0ea0qyvv87u\n"
     ]
    }
   ],
   "source": [
    "# Exercise 13\n",
    "\n",
    "from ecc import PrivateKey\n",
    "from hash import sha256\n",
    "from helper import big_endian_to_int\n",
    "my_email = b\"jimmy@programmingblockchain.com\"\n",
    "my_secret = big_endian_to_int(sha256(my_email))\n",
    "# create the private key object\n",
    "priv = PrivateKey(my_secret)\n",
    "# get the public point\n",
    "point = priv.point\n",
    "# print the p2tr_address with network set to \"signet\"\n",
    "print(point.p2tr_address(network=\"signet\"))"
   ]
  }
 ],
 "metadata": {
  "kernelspec": {
   "display_name": "Python 3 (ipykernel)",
   "language": "python",
   "name": "python3"
  },
  "language_info": {
   "codemirror_mode": {
    "name": "ipython",
    "version": 3
   },
   "file_extension": ".py",
   "mimetype": "text/x-python",
   "name": "python",
   "nbconvert_exporter": "python",
   "pygments_lexer": "ipython3",
   "version": "3.11.5"
  }
 },
 "nbformat": 4,
 "nbformat_minor": 5
}
