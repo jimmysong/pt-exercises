{
 "cells": [
  {
   "cell_type": "code",
   "execution_count": null,
   "id": "0cbdf535",
   "metadata": {
    "slideshow": {
     "slide_type": "skip"
    }
   },
   "outputs": [],
   "source": [
    "############## PLEASE RUN THIS CELL FIRST! ###################\n",
    "\n",
    "# import everything and define a test runner function\n",
    "from importlib import reload\n",
    "from helper import run\n",
    "import ecc"
   ]
  },
  {
   "cell_type": "markdown",
   "id": "b2f4674d",
   "metadata": {
    "slideshow": {
     "slide_type": "slide"
    }
   },
   "source": [
    "# Schnorr Verification\n",
    "* $e$ is the private key, $eG=P$, $z$ is the message, $k$ is the nonce, $kG=R$\n",
    "* $\\mathcal{H}$ is a tagged hash (BIP0340/challenge)\n",
    "* $d$ challenge, $d=\\mathcal{H}(R||P||z)$\n",
    "* Signature is $(R,s)$ where $s=k + e d$\n",
    "* Verify $R=sG-dP$\n",
    "* $=(k+e d)G-dP =kG+d(eG)-dP=R+dP-dP=R$\n"
   ]
  },
  {
   "cell_type": "code",
   "execution_count": null,
   "id": "c7be3d94",
   "metadata": {
    "slideshow": {
     "slide_type": "slide"
    }
   },
   "outputs": [],
   "source": [
    "from ecc import S256Point, SchnorrSignature, G\n",
    "from hash import hash_challenge\n",
    "from helper import big_endian_to_int\n",
    "msg = b\"I'm learning Schnorr Signatures!\"\n",
    "sig_raw = bytes.fromhex(\"3b5b656f623e314fcff97b44f93d4452992856e65fe0268a77a9a94c626eb1b11e8bcea138a15c185633fd66a7c1683843daa332c9d9e27a7178389d338521ab\")\n",
    "sig = SchnorrSignature.parse(sig_raw)\n",
    "xonly = bytes.fromhex(\"a8a28557947025fe0646660677c09a757a3bce148d99fac9368439a13df6ea1a\")\n",
    "p = S256Point.parse(xonly)\n",
    "commitment = sig.r.xonly() + p.xonly() + msg\n",
    "d = big_endian_to_int(hash_challenge(commitment))\n",
    "target = sig.s * G - d * p\n",
    "print(target == sig.r)"
   ]
  },
  {
   "cell_type": "markdown",
   "id": "92ed5c7a",
   "metadata": {
    "slideshow": {
     "slide_type": "slide"
    }
   },
   "source": [
    "### Exercise 1\n",
    "\n",
    "Verify this Schnorr Signature\n",
    "\n",
    "Pubkey = cbaa648dbfe734646ce958e2f14a874149fae4010fdeabde4bae6a732537fd91\n",
    "Signature = 2ae68f873376a0ff302258964632f7b98b21e3bbc72dcc8fb31de8acf01696b951f3dbb6fc5532558219472fb63e061f9a4c7d1760cc588da551c74374cd0de4\n",
    "Message = 1a84547db188f0b1d2c9f0beac230afebbd5e6e6c1a46fc69841815194bf8612\n",
    "\n"
   ]
  },
  {
   "cell_type": "code",
   "execution_count": null,
   "id": "11b50fa0",
   "metadata": {},
   "outputs": [],
   "source": [
    "# Exercise 1\n",
    "\n",
    "from ecc import SchnorrSignature, S256Point, N, G\n",
    "from hash import hash_challenge\n",
    "from helper import big_endian_to_int\n",
    "p_raw = bytes.fromhex(\"cbaa648dbfe734646ce958e2f14a874149fae4010fdeabde4bae6a732537fd91\")\n",
    "p = S256Point.parse(p_raw)\n",
    "sig_raw = bytes.fromhex(\"2ae68f873376a0ff302258964632f7b98b21e3bbc72dcc8fb31de8acf01696b951f3dbb6fc5532558219472fb63e061f9a4c7d1760cc588da551c74374cd0de4\")\n",
    "sig = SchnorrSignature.parse(sig_raw)\n",
    "msg = bytes.fromhex(\"1a84547db188f0b1d2c9f0beac230afebbd5e6e6c1a46fc69841815194bf8612\")\n",
    "# create the commitment: R || P || z (points should be xonly)\n",
    "\n",
    "# d is the hash_challenge of the commitment as a big endian int\n",
    "\n",
    "# check that R=sG-dP\n"
   ]
  },
  {
   "cell_type": "markdown",
   "id": "d55ba108",
   "metadata": {
    "slideshow": {
     "slide_type": "slide"
    }
   },
   "source": [
    "### Exercise 2\n",
    "\n",
    "\n",
    "\n",
    "\n",
    "#### Make [this test](/edit/session1/ecc.py) pass: `ecc.py:SchnorrTest:test_verify_schnorr`"
   ]
  },
  {
   "cell_type": "code",
   "execution_count": null,
   "id": "03df6f58",
   "metadata": {},
   "outputs": [],
   "source": [
    "# Exercise 2\n",
    "\n",
    "reload(ecc)\n",
    "run(ecc.SchnorrTest('test_verify_schnorr'))"
   ]
  },
  {
   "cell_type": "markdown",
   "id": "d828866a",
   "metadata": {
    "slideshow": {
     "slide_type": "slide"
    }
   },
   "source": [
    "# Schnorr Signing\n",
    "* $eG=P$, $m$ message, $k$ random\n",
    "* $kG=R$, $H$ is <code>hash_challenge</code>.\n",
    "* $s=k+e H(R||P||m)$ where $R$ and $P$ are $x$-only\n",
    "* Signature is $(R,s)$\n"
   ]
  },
  {
   "cell_type": "code",
   "execution_count": null,
   "id": "9c7579b8",
   "metadata": {
    "slideshow": {
     "slide_type": "slide"
    }
   },
   "outputs": [],
   "source": [
    "from ecc import PrivateKey, N, G\n",
    "from hash import hash_challenge\n",
    "from helper import big_endian_to_int\n",
    "priv = PrivateKey(12345)\n",
    "e = priv.even_secret()\n",
    "msg = b\"I'm learning Schnorr Signatures!\"\n",
    "k = 21016020145315867006318399104346325815084469783631925097217883979013588851039\n",
    "r = k * G\n",
    "if not r.even:\n",
    "    k = N - k\n",
    "    r = k * G\n",
    "challenge = r.xonly() + priv.point.xonly() + msg\n",
    "d = big_endian_to_int(hash_challenge(challenge))\n",
    "s = (k + e * d) % N\n",
    "sig = SchnorrSignature(r, s)\n",
    "if not priv.point.verify_schnorr(msg, sig):\n",
    "    raise RuntimeError(\"Bad Signature\")\n",
    "print(sig.serialize().hex())"
   ]
  },
  {
   "cell_type": "markdown",
   "id": "4d562713",
   "metadata": {
    "slideshow": {
     "slide_type": "slide"
    }
   },
   "source": [
    "### Exercise 3\n",
    "\n",
    "Sign the message b\"Schnorr Signatures adopt Taproot\" with the private key 21,000,000\n",
    "\n"
   ]
  },
  {
   "cell_type": "code",
   "execution_count": null,
   "id": "86b44ebb",
   "metadata": {},
   "outputs": [],
   "source": [
    "# Exercise 3\n",
    "\n",
    "from ecc import PrivateKey, N, G\n",
    "from hash import hash_challenge\n",
    "from helper import big_endian_to_int\n",
    "priv = PrivateKey(21000000)\n",
    "msg = b\"Schnorr Signatures adopt Taproot\"\n",
    "k = 987654321\n",
    "# get e using the even_secret method on the private key\n",
    "\n",
    "# calculate the nonce point R which is kG\n",
    "\n",
    "# if R's not even, negate the k and recalculate R\n",
    "\n",
    "    # set k to N - k\n",
    "\n",
    "    # recalculate R\n",
    "\n",
    "# calculate the commitment which is: R || P || msg\n",
    "\n",
    "# d is the hash_challenge of the commitment as a big endian integer\n",
    "\n",
    "# calculate s = (k+ed) mod N\n",
    "\n",
    "# create a SchnorrSignature object using the R and s\n",
    "\n",
    "# check that this schnorr signature verifies\n",
    "\n",
    "\n",
    "# print the serialized hex of the signature\n"
   ]
  },
  {
   "cell_type": "markdown",
   "id": "984849ae",
   "metadata": {
    "slideshow": {
     "slide_type": "slide"
    }
   },
   "source": [
    "### Exercise 4\n",
    "\n",
    "\n",
    "\n",
    "\n",
    "#### Make [this test](/edit/session1/ecc.py) pass: `ecc.py:SchnorrTest:test_sign_schnorr`"
   ]
  },
  {
   "cell_type": "code",
   "execution_count": null,
   "id": "029d1689",
   "metadata": {},
   "outputs": [],
   "source": [
    "# Exercise 4\n",
    "\n",
    "reload(ecc)\n",
    "run(ecc.SchnorrTest('test_sign_schnorr'))"
   ]
  },
  {
   "cell_type": "markdown",
   "id": "2f868a03",
   "metadata": {
    "slideshow": {
     "slide_type": "slide"
    }
   },
   "source": [
    "# Nonce ($k$) Creation\n",
    "* Start with a random number $a$, which is then hashed\n",
    "* Xor the result $\\mathcal{H_1}(a)$ with the secret $e$\n",
    "* Then hash with the message $z$ to generate the $k$\n",
    "* $P=eG$, $\\mathcal{H_1}$ is <code>hash_aux</code>, $\\mathcal{H_2}$ is <code>hash_nonce</code>\n",
    "* $x = \\mathcal{H_1}(a) \\oplus e$, $k=\\mathcal{H_2}(x||P||z)$\n",
    "* $k$ is unique to both the secret and the message\n",
    "* 32 0-bytes $a$ can be used to create a deterministic $k$\n"
   ]
  },
  {
   "cell_type": "code",
   "execution_count": null,
   "id": "4ccf7b5a",
   "metadata": {
    "slideshow": {
     "slide_type": "slide"
    }
   },
   "outputs": [],
   "source": [
    "# example of nonce creation\n",
    "from ecc import PrivateKey\n",
    "from hash import sha256, hash_aux, hash_nonce\n",
    "from helper import big_endian_to_int, int_to_big_endian, xor_bytes\n",
    "aux = bytes([0] * 32)\n",
    "private_key = PrivateKey(21000000)\n",
    "p = private_key.point\n",
    "e = private_key.even_secret()\n",
    "msg = sha256(b\"Nonce generation is spectacular!\")\n",
    "x = xor_bytes(int_to_big_endian(e, 32), hash_aux(aux))\n",
    "k = big_endian_to_int(hash_nonce(x + p.xonly() + msg))\n",
    "print(hex(k))"
   ]
  },
  {
   "cell_type": "markdown",
   "id": "a1be7a43",
   "metadata": {
    "slideshow": {
     "slide_type": "slide"
    }
   },
   "source": [
    "### Exercise 5\n",
    "\n",
    "Sign the message b\"Secure Deterministic Nonce made!\" with the private key 837,120,557\n",
    "\n"
   ]
  },
  {
   "cell_type": "code",
   "execution_count": null,
   "id": "d5536bd2",
   "metadata": {},
   "outputs": [],
   "source": [
    "# Exercise 5\n",
    "\n",
    "from ecc import PrivateKey, N, G\n",
    "from hash import sha256, hash_aux, hash_nonce\n",
    "from helper import big_endian_to_int, int_to_big_endian, xor_bytes\n",
    "priv = PrivateKey(21000000)\n",
    "point = priv.point\n",
    "msg = b\"Secure Deterministic Nonce made!\"\n",
    "# get e using the even_secret method on the private key\n",
    "\n",
    "# use the 32-bytes of 0's for the auxillary\n",
    "\n",
    "# x=e⊕H(a) where e is converted to bytes first ⊕ is xor_bytes, H is hash_aux and a is the auxillary\n",
    "\n",
    "# k=H(x||P||z) where H is hash_nonce, P is the xonly of the point and z is the message\n",
    "# convert to integer after the hash\n",
    "\n",
    "# calculate R which is kG\n",
    "\n",
    "# if R is not even negate the k\n",
    "\n",
    "    # set k to N - k\n",
    "\n",
    "    # recalculate R\n",
    "\n",
    "# calculate the commitment which is: R || P || msg\n",
    "\n",
    "# d is the hash_challenge of the commitment as a big endian integer\n",
    "\n",
    "# s=(k+ed) mod N\n",
    "\n",
    "# create a SchnorrSignature object using the R and s\n",
    "\n",
    "# check that this schnorr signature verifies\n",
    "\n",
    "\n",
    "# print the serialized hex of the signature\n"
   ]
  },
  {
   "cell_type": "markdown",
   "id": "5419aade",
   "metadata": {
    "slideshow": {
     "slide_type": "slide"
    }
   },
   "source": [
    "### Exercise 6\n",
    "\n",
    "\n",
    "\n",
    "\n",
    "#### Make [this test](/edit/session1/ecc.py) pass: `ecc.py:SchnorrTest:test_bip340_k`"
   ]
  },
  {
   "cell_type": "code",
   "execution_count": null,
   "id": "b390bc26",
   "metadata": {},
   "outputs": [],
   "source": [
    "# Exercise 6\n",
    "\n",
    "reload(ecc)\n",
    "run(ecc.SchnorrTest('test_bip340_k'))"
   ]
  },
  {
   "cell_type": "markdown",
   "id": "d38c54d7",
   "metadata": {
    "slideshow": {
     "slide_type": "slide"
    }
   },
   "source": [
    "# Batch Verification\n",
    "* Pubkeys are $P_i$, Signatures are $(R_i,s_i)$\n",
    "* Challenges are $d_i=\\mathcal{H}(R_i||P_i||z_i)$\n",
    "* $R_i=s_iG-d_iP_i$\n",
    "* $\\sum{R_i}=\\sum{s_iG}-\\sum{d_iP_i}$\n",
    "* $(\\sum{s_i})G=\\sum{R_i}+\\sum{d_iP_i}$\n",
    "* Fewer total operations!\n"
   ]
  },
  {
   "cell_type": "markdown",
   "id": "4903b63a",
   "metadata": {
    "slideshow": {
     "slide_type": "slide"
    }
   },
   "source": [
    "### Exercise 7\n",
    "\n",
    "Batch Verify these two Schnorr Signatures\n",
    "\n",
    "Pubkey 1 = cbaa648dbfe734646ce958e2f14a874149fae4010fdeabde4bae6a732537fd91\n",
    "Pubkey 2 = e79c4eb45764bd015542f6779cc70fef44b7a2432f839264768288efab886291\n",
    "\n",
    "Signature 1 = 2ae68f873376a0ff302258964632f7b98b21e3bbc72dcc8fb31de8acf01696b951f3dbb6fc5532558219472fb63e061f9a4c7d1760cc588da551c74374cd0de4\n",
    "Signature 2 = b6e52f38bc24f1420c4fdae8fa0f04b9b0374a12f18fd4699b06df53eb1386bfa88c1835cd19470cf8c76550eb549c988f9c8fac00cc56fadd4fcc3bf9d8800e\n",
    "\n",
    "Message 1 = 1a84547db188f0b1d2c9f0beac230afebbd5e6e6c1a46fc69841815194bf8612\n",
    "Message 2 = af1c325abcb0cced3a4166ce67be1db659ae1dd574fe49b0f2941d8d4882d62c\n",
    "\n"
   ]
  },
  {
   "cell_type": "code",
   "execution_count": null,
   "id": "30eb3f12",
   "metadata": {},
   "outputs": [],
   "source": [
    "# Exercise 7\n",
    "\n",
    "from ecc import SchnorrSignature, S256Point, N, G\n",
    "from hash import hash_challenge\n",
    "from helper import big_endian_to_int\n",
    "p1_raw = bytes.fromhex(\"cbaa648dbfe734646ce958e2f14a874149fae4010fdeabde4bae6a732537fd91\")\n",
    "p2_raw = bytes.fromhex(\"e79c4eb45764bd015542f6779cc70fef44b7a2432f839264768288efab886291\")\n",
    "p1 = S256Point.parse(p1_raw)\n",
    "p2 = S256Point.parse(p2_raw)\n",
    "sig1_raw = bytes.fromhex(\"2ae68f873376a0ff302258964632f7b98b21e3bbc72dcc8fb31de8acf01696b951f3dbb6fc5532558219472fb63e061f9a4c7d1760cc588da551c74374cd0de4\")\n",
    "sig2_raw = bytes.fromhex(\"b6e52f38bc24f1420c4fdae8fa0f04b9b0374a12f18fd4699b06df53eb1386bfa88c1835cd19470cf8c76550eb549c988f9c8fac00cc56fadd4fcc3bf9d8800e\")\n",
    "sig1 = SchnorrSignature.parse(sig1_raw)\n",
    "sig2 = SchnorrSignature.parse(sig2_raw)\n",
    "msg1 = bytes.fromhex(\"1a84547db188f0b1d2c9f0beac230afebbd5e6e6c1a46fc69841815194bf8612\")\n",
    "msg2 = bytes.fromhex(\"af1c325abcb0cced3a4166ce67be1db659ae1dd574fe49b0f2941d8d4882d62c\")\n",
    "# define s as the s_i sum (make sure to mod by N)\n",
    "\n",
    "# define r as the signatures' r sum\n",
    "\n",
    "# create the commitments: R_i||P_i||z_i\n",
    "\n",
    "\n",
    "# d_i are the challenges which are hash_challenge of the commitments as big endian integers\n",
    "\n",
    "\n",
    "# D is the sum of the d_i P_i's\n",
    "\n",
    "# check that sG=R+D\n"
   ]
  },
  {
   "cell_type": "markdown",
   "id": "6a851bda",
   "metadata": {
    "slideshow": {
     "slide_type": "slide"
    }
   },
   "source": [
    "# Spending from the KeyPath\n",
    "* $m$ is the Merkle Root of the ScriptPath\n",
    "* Tweak $t$ and $P$ create $Q$, the external pubkey\n",
    "* $t=\\mathcal{H}(P||m)$ where $\\mathcal{H}$ is <code>hash_taptweak</code>\n",
    "* $Q=P+tG$, and $eG=P$ which means $Q=eG+tG$ and $Q=(e+t)G$\n",
    "* $e+t$ is the private key for the public key $Q$\n",
    "* Witness has a single element, the Schnorr Signature\n",
    "* If you don't want a script path, $m$ is the empty string\n"
   ]
  },
  {
   "cell_type": "code",
   "execution_count": null,
   "id": "adb00de4",
   "metadata": {
    "slideshow": {
     "slide_type": "slide"
    }
   },
   "outputs": [],
   "source": [
    "from ecc import S256Point, G\n",
    "from hash import hash_taptweak\n",
    "from helper import big_endian_to_int\n",
    "from script import P2TRScriptPubKey\n",
    "internal_pubkey_raw = bytes.fromhex(\"cbaa648dbfe734646ce958e2f14a874149fae4010fdeabde4bae6a732537fd91\")\n",
    "p = S256Point.parse(internal_pubkey_raw)\n",
    "m = b\"\"\n",
    "t = big_endian_to_int(hash_taptweak(p.xonly() + m))\n",
    "q = p + t * G\n",
    "script_pubkey = P2TRScriptPubKey(q)\n",
    "print(script_pubkey)"
   ]
  },
  {
   "cell_type": "markdown",
   "id": "21253535",
   "metadata": {
    "slideshow": {
     "slide_type": "slide"
    }
   },
   "source": [
    "### Exercise 8\n",
    "\n",
    "Make a P2TR ScriptPubKey with no Script Path using the private key 9284736473\n",
    "\n"
   ]
  },
  {
   "cell_type": "code",
   "execution_count": null,
   "id": "24a058c9",
   "metadata": {},
   "outputs": [],
   "source": [
    "# Exercise 8\n",
    "\n",
    "from ecc import PrivateKey, G\n",
    "from hash import hash_taptweak\n",
    "from helper import big_endian_to_int\n",
    "from script import P2TRScriptPubKey\n",
    "priv = PrivateKey(9284736473)\n",
    "# get the internal pubkey, P\n",
    "\n",
    "# set the merkle root to the empty stning, m\n",
    "\n",
    "# t is the hash_taptweak of the internal pubkey xonly and the merkle root as a big endian integer\n",
    "\n",
    "# Q = P + tG\n",
    "\n",
    "# use P2TRScriptPubKey to create the ScriptPubKey\n",
    "\n",
    "# print the ScriptPubKey\n"
   ]
  },
  {
   "cell_type": "markdown",
   "id": "4a8a0066",
   "metadata": {
    "slideshow": {
     "slide_type": "slide"
    }
   },
   "source": [
    "### Exercise 9\n",
    "\n",
    "\n",
    "\n",
    "\n",
    "#### Make [this test](/edit/session1/ecc.py) pass: `ecc.py:TapRootTest:test_tweak`"
   ]
  },
  {
   "cell_type": "code",
   "execution_count": null,
   "id": "86b34337",
   "metadata": {},
   "outputs": [],
   "source": [
    "# Exercise 9\n",
    "\n",
    "reload(ecc)\n",
    "run(ecc.TapRootTest('test_tweak'))"
   ]
  },
  {
   "cell_type": "markdown",
   "id": "9559aec1",
   "metadata": {
    "slideshow": {
     "slide_type": "slide"
    }
   },
   "source": [
    "### Exercise 10\n",
    "\n",
    "\n",
    "\n",
    "\n",
    "#### Make [this test](/edit/session1/ecc.py) pass: `ecc.py:TapRootTest:test_tweaked_key`"
   ]
  },
  {
   "cell_type": "code",
   "execution_count": null,
   "id": "3dbdf4c3",
   "metadata": {},
   "outputs": [],
   "source": [
    "# Exercise 10\n",
    "\n",
    "reload(ecc)\n",
    "run(ecc.TapRootTest('test_tweaked_key'))"
   ]
  },
  {
   "cell_type": "markdown",
   "id": "e35507f7",
   "metadata": {
    "slideshow": {
     "slide_type": "slide"
    }
   },
   "source": [
    "### Exercise 11\n",
    "\n",
    "\n",
    "\n",
    "\n",
    "#### Make [this test](/edit/session1/ecc.py) pass: `ecc.py:TapRootTest:test_private_tweaked_key`"
   ]
  },
  {
   "cell_type": "code",
   "execution_count": null,
   "id": "672de2e0",
   "metadata": {},
   "outputs": [],
   "source": [
    "# Exercise 11\n",
    "\n",
    "reload(ecc)\n",
    "run(ecc.TapRootTest('test_private_tweaked_key'))"
   ]
  },
  {
   "cell_type": "markdown",
   "id": "d00832a8",
   "metadata": {
    "slideshow": {
     "slide_type": "slide"
    }
   },
   "source": [
    "### Exercise 12\n",
    "\n",
    "\n",
    "\n",
    "\n",
    "#### Make [this test](/edit/session1/ecc.py) pass: `ecc.py:TapRootTest:test_p2tr_script`"
   ]
  },
  {
   "cell_type": "code",
   "execution_count": null,
   "id": "cee06c83",
   "metadata": {},
   "outputs": [],
   "source": [
    "# Exercise 12\n",
    "\n",
    "reload(ecc)\n",
    "run(ecc.TapRootTest('test_p2tr_script'))"
   ]
  },
  {
   "cell_type": "markdown",
   "id": "3061de60",
   "metadata": {
    "slideshow": {
     "slide_type": "slide"
    }
   },
   "source": [
    "# P2TR Addresses\n",
    "* Segwit v0 uses Bech32\n",
    "* Taproot (Segwit v1) uses Bech32m\n",
    "* Bech32m is different than Bech32 (BIP350)\n",
    "* Has error correcting capability and uses 32 letters/numbers\n",
    "* Segwit v0 addresses start with <code>bc1q</code> and p2wpkh is shorter than p2wsh\n",
    "* Segwit v1 addresses start with <code>bc1p</code> and they're all one length\n"
   ]
  },
  {
   "cell_type": "code",
   "execution_count": null,
   "id": "85c67d23",
   "metadata": {
    "slideshow": {
     "slide_type": "slide"
    }
   },
   "outputs": [],
   "source": [
    "# Example of getting a p2tr address\n",
    "from ecc import S256Point\n",
    "internal_pubkey_raw = bytes.fromhex(\"cbaa648dbfe734646ce958e2f14a874149fae4010fdeabde4bae6a732537fd91\")\n",
    "p = S256Point.parse(internal_pubkey_raw)\n",
    "print(p.p2tr_address())\n",
    "print(p.p2tr_address(network=\"signet\"))"
   ]
  },
  {
   "cell_type": "markdown",
   "id": "f1ff3da9",
   "metadata": {
    "slideshow": {
     "slide_type": "slide"
    }
   },
   "source": [
    "### Exercise 13\n",
    "\n",
    "Make your own Signet P2TR Address\n",
    "\n",
    "Submit your address at [this link](https://docs.google.com/spreadsheets/d/1BHqFAzgfThrf64q9pCinwTd7FitJrL5Is3HHBR3UyeI/edit?usp=sharing)\n",
    "\n"
   ]
  },
  {
   "cell_type": "code",
   "execution_count": null,
   "id": "faca6aff",
   "metadata": {},
   "outputs": [],
   "source": [
    "# Exercise 13\n",
    "\n",
    "from ecc import PrivateKey\n",
    "from hash import sha256\n",
    "from helper import big_endian_to_int\n",
    "my_email = b\"<fill this in with your email>\"\n",
    "my_secret = big_endian_to_int(sha256(my_email))\n",
    "# create the private key object\n",
    "\n",
    "# get the public point\n",
    "\n",
    "# print the p2tr_address with network set to \"signet\"\n"
   ]
  }
 ],
 "metadata": {},
 "nbformat": 4,
 "nbformat_minor": 5
}
