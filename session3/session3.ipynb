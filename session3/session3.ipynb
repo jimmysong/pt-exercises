{
 "cells": [
  {
   "cell_type": "code",
   "execution_count": null,
   "id": "b0f8482d",
   "metadata": {
    "slideshow": {
     "slide_type": "skip"
    }
   },
   "outputs": [],
   "source": [
    "############## PLEASE RUN THIS CELL FIRST! ###################\n",
    "\n",
    "# import everything and define a test runner function\n",
    "from importlib import reload\n",
    "from helper import run\n",
    "import ecc, musig"
   ]
  },
  {
   "cell_type": "code",
   "execution_count": null,
   "id": "67643e5e",
   "metadata": {
    "slideshow": {
     "slide_type": "slide"
    }
   },
   "outputs": [],
   "source": [
    "# Example ScriptPath Spend\n",
    "from ecc import PrivateKey, S256Point\n",
    "from hash import sha256\n",
    "from script import address_to_script_pubkey\n",
    "from taproot import TapScript, TapLeaf, TapBranch\n",
    "from tx import Tx, TxIn, TxOut\n",
    "from witness import Witness\n",
    "my_secret = 21000000\n",
    "my_private_key = PrivateKey(my_secret)\n",
    "p = S256Point.parse(bytes.fromhex(\"cd04c1bf88ca891af152fc57c36523ab59efb16b7ec07caca0cfc4a1f2051d9e\"))\n",
    "pubkey_2 = bytes.fromhex(\"331a8f6a14e1b41a6b523ddb505fbc0662a6446bd42408692497297d3474aeec\")\n",
    "pubkey_3 = bytes.fromhex(\"158a49d62c384c539a453e41a70214cfb85184954ae5c8df4b47eb74d58ff16f\")\n",
    "my_xonly = my_private_key.point.xonly()\n",
    "tap_script_1 = TapScript([my_xonly, 0xAC])\n",
    "tap_leaf_1 = TapLeaf(tap_script_1)\n",
    "tap_script_2 = TapScript([pubkey_2, 0xAC])\n",
    "tap_leaf_2 = TapLeaf(tap_script_2)\n",
    "tap_script_3 = TapScript([pubkey_3, 0xAC])\n",
    "tap_leaf_3 = TapLeaf(tap_script_3)\n",
    "prev_tx = bytes.fromhex(\"42251c52fa8c6a6a349eee1729ced9587483ea6d6e210d6c42bb640d33a4da25\")\n",
    "prev_index = 0\n",
    "target_address = \"tb1pxh7kypwsvxnat0z6588pufhx43r2fnqjyn846qj5kx8mgqcamvjsyn5cjg\"\n",
    "fee = 500\n",
    "tap_branch_1 = TapBranch(tap_leaf_1, tap_leaf_2)\n",
    "tap_branch_2 = TapBranch(tap_branch_1, tap_leaf_3)\n",
    "tx_in = TxIn(prev_tx, prev_index)\n",
    "target_amount = tx_in.value(network=\"signet\") - fee\n",
    "target_script = address_to_script_pubkey(target_address)\n",
    "tx_out = TxOut(target_amount, target_script)\n",
    "tx_obj = Tx(1, [tx_in], [tx_out], network=\"signet\", segwit=True)\n",
    "cb = tap_branch_2.control_block(p, tap_leaf_1)\n",
    "tx_in.witness = Witness([tap_script_1.raw_serialize(), cb.serialize()])\n",
    "msg = tx_obj.sig_hash(0)\n",
    "sig = my_private_key.sign_schnorr(msg).serialize()\n",
    "tx_in.witness.items.insert(0, sig)\n",
    "tx_obj.verify()\n",
    "print(tx_obj.serialize().hex())"
   ]
  },
  {
   "cell_type": "markdown",
   "id": "e0e63d70",
   "metadata": {
    "slideshow": {
     "slide_type": "slide"
    }
   },
   "source": [
    "### Exercise 1\n",
    "\n",
    "You have been sent 100,000 sats to the address you created in the last exercise of the last session. Use the TapScript with your pubkey to spend all of it and send everything minus the fee to <code>tb1q7kn55vf3mmd40gyj46r245lw87dc6us5n50lrg</code>. Use <a href=\"https://mempool.space/signet/tx/push to broadcast your transaction\" target=\"_mempool\">Mempool Signet</a> to broadcast your transaction.\n",
    "\n"
   ]
  },
  {
   "cell_type": "code",
   "execution_count": null,
   "id": "a19ab97f",
   "metadata": {},
   "outputs": [],
   "source": [
    "# Exercise 1\n",
    "\n",
    "from ecc import PrivateKey, S256Point\n",
    "from hash import sha256\n",
    "from helper import big_endian_to_int\n",
    "from script import address_to_script_pubkey\n",
    "from taproot import TapScript, TapLeaf, TapBranch\n",
    "from tx import Tx, TxIn, TxOut\n",
    "from witness import Witness\n",
    "my_email = b\"<fill this in with your email>\"\n",
    "my_secret = big_endian_to_int(sha256(my_email))\n",
    "my_private_key = PrivateKey(my_secret)\n",
    "p = S256Point.parse(bytes.fromhex(\"cd04c1bf88ca891af152fc57c36523ab59efb16b7ec07caca0cfc4a1f2051d9e\"))\n",
    "pubkey_2 = bytes.fromhex(\"331a8f6a14e1b41a6b523ddb505fbc0662a6446bd42408692497297d3474aeec\")\n",
    "pubkey_3 = bytes.fromhex(\"158a49d62c384c539a453e41a70214cfb85184954ae5c8df4b47eb74d58ff16f\")\n",
    "my_xonly = my_private_key.point.xonly()\n",
    "tap_script_1 = TapScript([my_xonly, 0xAC])\n",
    "tap_leaf_1 = TapLeaf(tap_script_1)\n",
    "tap_script_2 = TapScript([pubkey_2, 0xAC])\n",
    "tap_leaf_2 = TapLeaf(tap_script_2)\n",
    "tap_script_3 = TapScript([pubkey_3, 0xAC])\n",
    "tap_leaf_3 = TapLeaf(tap_script_3)\n",
    "prev_tx = bytes.fromhex(\"<fill this in with the tx hash of a UTXO that belongs to you>\")\n",
    "# fill in the following with the correct output index from the UTXO\n",
    "prev_index = -1\n",
    "target_address = \"tb1q7kn55vf3mmd40gyj46r245lw87dc6us5n50lrg\"\n",
    "fee = 500\n",
    "# create the two branches needed (leaf 1, leaf 2), (branch 1, leaf 3)\n",
    "\n",
    "\n",
    "# create a transaction input\n",
    "\n",
    "# calculate the target amount\n",
    "\n",
    "# calculate the target script\n",
    "\n",
    "# create a transaction output\n",
    "\n",
    "# create a transaction, segwit=True and network=\"signet\"\n",
    "\n",
    "# create the control block from the TapBranch control_block method with internal_pubkey and tap_leaf_1\n",
    "\n",
    "# set the tx_in's witness to be the tap_script_1.raw_serialize() and control block, serialized\n",
    "\n",
    "# set the message to be the transaction's sig_hash at index 0\n",
    "\n",
    "# use sign_schnorr with yoru private key on the message and serialize it to get the signature\n",
    "\n",
    "# insert the sig in front of the other elements in the witness using tx_in.witness.items.insert\n",
    "\n",
    "# verify the transaction\n",
    "\n",
    "# print the serialized hex\n"
   ]
  },
  {
   "cell_type": "markdown",
   "id": "06e26248",
   "metadata": {
    "slideshow": {
     "slide_type": "slide"
    }
   },
   "source": [
    "# MuSig2 Key Aggregation\n",
    "* Produce a Schnorr Signature $(R,s)$ from a group of $n$ public keys $P_1, P_2,..., P_n$ and present a single public key $P$ to satisfy $sG-\\mathcal{H}(R,P,z)P=R$\n",
    "* Each participant has its own secret $e_iG=P_i$\n",
    "* We create a Group Commitment $L=\\mathcal{H}(P_1||P_2||...||P_n)$\n",
    "* Each Public Key gets its own keyagg coefficient: $\\mathcal{H}(L,P_i)$\n",
    "* The Group Public Key is $P=\\mathcal{H}(L,P_1)P_1+\\mathcal{H}(L,P_2)P_2+...+\\mathcal{H}(L,P_n)P_n$\n"
   ]
  },
  {
   "cell_type": "code",
   "execution_count": null,
   "id": "2822efa5",
   "metadata": {
    "slideshow": {
     "slide_type": "slide"
    }
   },
   "outputs": [],
   "source": [
    "# creating a group public key\n",
    "from ecc import S256Point\n",
    "from hash import hash_keyagglist, hash_keyaggcoef\n",
    "from helper import big_endian_to_int\n",
    "raw_pubkeys = [\"02ed3bace23c5e17652e174c835fb72bf53ee306b3406a26890221b4cef7500f88\", \"03cd5a3be41717d65683fe7a9de8ae5b4b8feced69f26a8b55eeefbcc2e74b75fb\", \"0385a7b790fc9d962493788317e4874a4ab07f1e9c78c773c47f2f6c96df756f05\"]\n",
    "pubkeys = [S256Point.parse(bytes.fromhex(r)) for r in raw_pubkeys]\n",
    "preimage = b\"\"\n",
    "for pubkey in pubkeys:\n",
    "    preimage += pubkey.sec()\n",
    "group_commitment = hash_keyagglist(preimage)\n",
    "terms = []\n",
    "for p_i in pubkeys:\n",
    "    h = hash_keyaggcoef(group_commitment + p_i.sec())\n",
    "    c_i = big_endian_to_int(h)\n",
    "    terms.append(c_i * p_i)\n",
    "p = S256Point.sum(terms)\n",
    "print(p.sec().hex())"
   ]
  },
  {
   "cell_type": "markdown",
   "id": "a793b9d2",
   "metadata": {
    "slideshow": {
     "slide_type": "slide"
    }
   },
   "source": [
    "### Exercise 2\n",
    "\n",
    "Create a new group public key with these component public keys:\n",
    "\n",
    "* 034a5169f673aa632f538aaa128b6348536db2b637fd89073d49b6a23879cdb3ad\n",
    "* 0225fa6a4190ddc87d9f9dd986726cafb901e15c21aafd2ed729efed1200c73de8\n",
    "* 03ed214e8ce499d92a2085e7e6041b4f081c7d29d8770057fc705a131d2918fcdb\n",
    "* 02609ae8d31e3b290e74483776c1c8dfc2756b87d9635d654eb9e1ca95c228b169\n",
    "* 02ffe558e388852f0120e46af2d1b370f85854a8eb0841811ece0e3e03d282d57c\n",
    "* 02d42d696f2c343dc67d80fcd85dbbdb2edef3cac71126625d0cbcacc231a00015\n",
    "\n"
   ]
  },
  {
   "cell_type": "code",
   "execution_count": null,
   "id": "e1dfc3df",
   "metadata": {},
   "outputs": [],
   "source": [
    "# Exercise 2\n",
    "\n",
    "from ecc import S256Point\n",
    "from hash import hash_keyagglist, hash_keyaggcoef\n",
    "from helper import big_endian_to_int\n",
    "raw_pubkeys = [\"034a5169f673aa632f538aaa128b6348536db2b637fd89073d49b6a23879cdb3ad\", \"0225fa6a4190ddc87d9f9dd986726cafb901e15c21aafd2ed729efed1200c73de8\", \"03ed214e8ce499d92a2085e7e6041b4f081c7d29d8770057fc705a131d2918fcdb\", \"02609ae8d31e3b290e74483776c1c8dfc2756b87d9635d654eb9e1ca95c228b169\", \"02ffe558e388852f0120e46af2d1b370f85854a8eb0841811ece0e3e03d282d57c\", \"02d42d696f2c343dc67d80fcd85dbbdb2edef3cac71126625d0cbcacc231a00015\"]\n",
    "# create the pubkeys using S256Point.parse and bytes.fromhex()\n",
    "\n",
    "# The preimage for the group commitment is L=H(P_1||P_2||...||P_n) in sec format\n",
    "\n",
    "# loop through the pubkeys\n",
    "\n",
    "    # add the sec for this key to the preimage\n",
    "\n",
    "# create the commitment hash by doing hash_keyagglist on the preimage\n",
    "\n",
    "# create a list for the terms that will get summed\n",
    "\n",
    "# loop through the pubkeys\n",
    "\n",
    "    # calculate the hash of the group commitment and the sec usig hash_keyaggcoef\n",
    "\n",
    "    # convert the hash to an integer\n",
    "\n",
    "    # add the coefficient * pubkey to the list of terms\n",
    "\n",
    "# the group pubkey is the S256Point.sum of the terms\n",
    "\n",
    "# print the group pubkey's sec in hex\n"
   ]
  },
  {
   "cell_type": "markdown",
   "id": "52da8ac6",
   "metadata": {
    "slideshow": {
     "slide_type": "slide"
    }
   },
   "source": [
    "# BIP327 Key Aggregation\n",
    "* The coefficients would work fine, but there's one optimization made in BIP327\n",
    "* Specifically, the second coefficient is always 1, all other coefficients stay the same\n",
    "* The reason that it's not the first is because of a corner case where all the public keys are the same\n",
    "* There's also the fact that there's the possibility of the group point being odd\n",
    "* The way this is solved is by every participant negating their secret\n"
   ]
  },
  {
   "cell_type": "code",
   "execution_count": null,
   "id": "3430189c",
   "metadata": {
    "slideshow": {
     "slide_type": "slide"
    }
   },
   "outputs": [],
   "source": [
    "# creating a BIP327 group public key\n",
    "from ecc import S256Point\n",
    "from hash import hash_keyagglist, hash_keyaggcoef\n",
    "from helper import big_endian_to_int\n",
    "raw_pubkeys = [\"02ed3bace23c5e17652e174c835fb72bf53ee306b3406a26890221b4cef7500f88\", \"03cd5a3be41717d65683fe7a9de8ae5b4b8feced69f26a8b55eeefbcc2e74b75fb\", \"0385a7b790fc9d962493788317e4874a4ab07f1e9c78c773c47f2f6c96df756f05\"]\n",
    "pubkeys = [S256Point.parse(bytes.fromhex(r)) for r in raw_pubkeys]\n",
    "preimage = b\"\"\n",
    "for pubkey in pubkeys:\n",
    "    preimage += pubkey.sec()\n",
    "group_commitment = hash_keyagglist(preimage)\n",
    "terms = []\n",
    "second_point = None\n",
    "for p_i in pubkeys:\n",
    "    if p_i != pubkeys[0] and second_point is None:\n",
    "        second_point = p_i\n",
    "    if p_i == second_point:\n",
    "        c_i = 1\n",
    "    else:\n",
    "        h = hash_keyaggcoef(group_commitment + p_i.sec())\n",
    "        c_i = big_endian_to_int(h)\n",
    "    terms.append(c_i * p_i)\n",
    "p = S256Point.sum(terms)\n",
    "print(p.sec().hex())"
   ]
  },
  {
   "cell_type": "markdown",
   "id": "bef4849f",
   "metadata": {
    "slideshow": {
     "slide_type": "slide"
    }
   },
   "source": [
    "### Exercise 3\n",
    "\n",
    "Create a BIP327 group public key with these public keys:\n",
    "\n",
    "* 034a5169f673aa632f538aaa128b6348536db2b637fd89073d49b6a23879cdb3ad\n",
    "* 0225fa6a4190ddc87d9f9dd986726cafb901e15c21aafd2ed729efed1200c73de8\n",
    "* 03ed214e8ce499d92a2085e7e6041b4f081c7d29d8770057fc705a131d2918fcdb\n",
    "* 02609ae8d31e3b290e74483776c1c8dfc2756b87d9635d654eb9e1ca95c228b169\n",
    "* 02ffe558e388852f0120e46af2d1b370f85854a8eb0841811ece0e3e03d282d57c\n",
    "* 02d42d696f2c343dc67d80fcd85dbbdb2edef3cac71126625d0cbcacc231a00015\n",
    "\n"
   ]
  },
  {
   "cell_type": "code",
   "execution_count": null,
   "id": "9d13ee4d",
   "metadata": {},
   "outputs": [],
   "source": [
    "# Exercise 3\n",
    "\n",
    "from ecc import S256Point\n",
    "from hash import hash_keyagglist, hash_keyaggcoef\n",
    "from helper import big_endian_to_int\n",
    "raw_pubkeys = [\"034a5169f673aa632f538aaa128b6348536db2b637fd89073d49b6a23879cdb3ad\", \"0225fa6a4190ddc87d9f9dd986726cafb901e15c21aafd2ed729efed1200c73de8\", \"03ed214e8ce499d92a2085e7e6041b4f081c7d29d8770057fc705a131d2918fcdb\", \"02609ae8d31e3b290e74483776c1c8dfc2756b87d9635d654eb9e1ca95c228b169\", \"02ffe558e388852f0120e46af2d1b370f85854a8eb0841811ece0e3e03d282d57c\", \"02d42d696f2c343dc67d80fcd85dbbdb2edef3cac71126625d0cbcacc231a00015\"]\n",
    "# create the pubkeys using S256Point.parse and bytes.fromhex()\n",
    "\n",
    "# The preimage for the group commitment is L=H(P_1||P_2||...||P_n) in sec format\n",
    "\n",
    "# loop through the pubkeys\n",
    "\n",
    "    # add the sec for this key to the preimage\n",
    "\n",
    "# create the commitment hash by doing hash_keyagglist on the preimage\n",
    "\n",
    "# create a list for the terms that will get summed\n",
    "\n",
    "# initialize the second point with None\n",
    "\n",
    "# loop through the pubkeys\n",
    "\n",
    "    # if the second point is None and the pubkey is not the first one\n",
    "\n",
    "        # then designate the second point to be this pubkey\n",
    "\n",
    "    # if the current pubkey is the second point, coefficient is 1\n",
    "\n",
    "\n",
    "    # otherwise\n",
    "\n",
    "        # calculate the hash_keyaggcoef of the group commitment and the sec\n",
    "\n",
    "        # convert the hash to an integer\n",
    "\n",
    "    # add the coefficient * pubkey to the list of terms\n",
    "\n",
    "# the group pubkey is the S256Point.sum of the terms\n",
    "\n",
    "# print the group pubkey's sec in hex\n"
   ]
  },
  {
   "cell_type": "markdown",
   "id": "87c0f5be",
   "metadata": {
    "slideshow": {
     "slide_type": "slide"
    }
   },
   "source": [
    "### Exercise 4\n",
    "\n",
    "\n",
    "\n",
    "\n",
    "#### Make [this test](/edit/session3/musig.py) pass: `musig.py:KeyAggTest:test_compute_group_point`"
   ]
  },
  {
   "cell_type": "code",
   "execution_count": null,
   "id": "bdaf00ed",
   "metadata": {},
   "outputs": [],
   "source": [
    "# Exercise 4\n",
    "\n",
    "reload(musig)\n",
    "run(musig.KeyAggTest('test_compute_group_point'))"
   ]
  },
  {
   "cell_type": "markdown",
   "id": "b50927f3",
   "metadata": {
    "slideshow": {
     "slide_type": "slide"
    }
   },
   "source": [
    "### Exercise 5\n",
    "\n",
    "Create a 2-of-2 BIP327 public key sharing a key with your neighbor.\n",
    "\n"
   ]
  },
  {
   "cell_type": "code",
   "execution_count": null,
   "id": "97b2a66d",
   "metadata": {},
   "outputs": [],
   "source": [
    "# Exercise 5\n",
    "\n",
    "from ecc import PrivateKey, S256Point\n",
    "from helper import big_endian_to_int, sha256\n",
    "from musig import KeyAggregator\n",
    "my_email = b\"<fill this in with your email>\"\n",
    "my_secret = big_endian_to_int(sha256(my_email))\n",
    "my_pubkey = PrivateKey(my_secret).point\n",
    "# print your pubkey in sec format\n",
    "\n",
    "# get your neighbor's sec pubkey\n",
    "neighbor_pubkey = S256Point.parse(bytes.fromhex(\"<your neighbor's sec pubkey>\"))\n",
    "# create the keyaggcontext\n",
    "\n",
    "# now print the group point's sec in hex\n"
   ]
  },
  {
   "cell_type": "markdown",
   "id": "5e9223cb",
   "metadata": {
    "slideshow": {
     "slide_type": "slide"
    }
   },
   "source": [
    "# MuSig2 Nonce Creation\n",
    "* Every participant creates a private nonce share (numbers $l_i$ and $m_i$) and communicates the nonce share points to the coordinator ($l_i * G=S_i, m_i * G=T_i$)\n",
    "* When the nonce share points are gathered, the coordinator communicates nonce point sums to each participant. $S = S_1+S_2+...+S_n, T=T_1+T_2+...+T_n$ along with the message being signed and the key aggregation data.\n",
    "* The nonce coefficient is $b = \\mathcal{H}(S || T || P || z)$ where $P$ is the group point and $z$ is the message being signed\n",
    "* The nonce point for the signature $R = S + b * T$\n",
    "* The same nonce coefficient ($b$) can now be used to determine each participant's nonce ($k$) $k_i = l_i + b * m_i$\n"
   ]
  },
  {
   "cell_type": "code",
   "execution_count": null,
   "id": "56621c6c",
   "metadata": {
    "slideshow": {
     "slide_type": "slide"
    }
   },
   "outputs": [],
   "source": [
    "# Example nonce generation\n",
    "from ecc import N, PrivateKey\n",
    "from hash import hash_musignoncecoef\n",
    "from musig import KeyAggregator, MuSigParticipant, MuSigCoordinator\n",
    "msg = b\"MuSig2 is awesome!\"\n",
    "participants = [MuSigParticipant(PrivateKey(i * 1000)) for i in range(1, 7)]\n",
    "pubkeys = [p.point for p in participants]\n",
    "coor = MuSigCoordinator(pubkeys)\n",
    "for p in participants:\n",
    "    nonce_share = p.generate_nonce_share(msg=msg, rand=b'')\n",
    "    coor.register_nonce_share(p.point.sec(), nonce_share)\n",
    "group_point = coor.keyagg.group_point\n",
    "s = S256Point.sum([n.s for n in coor.nonce_shares.values()])\n",
    "t = S256Point.sum([n.t for n in coor.nonce_shares.values()])\n",
    "h = hash_musignoncecoef(s.sec()+t.sec()+group_point.xonly()+msg)\n",
    "b = big_endian_to_int(h)\n",
    "r = s + b*t\n",
    "print(r.sec().hex())\n",
    "k = (participants[0].nonce_private_share.l + b * participants[0].nonce_private_share.m) % N\n",
    "print(hex(k))"
   ]
  },
  {
   "cell_type": "markdown",
   "id": "71fcbcf9",
   "metadata": {
    "slideshow": {
     "slide_type": "slide"
    }
   },
   "source": [
    "### Exercise 6\n",
    "\n",
    "Calculate the k for participant 1:\n",
    "\n",
    "Participant 1's secret: 1000\n",
    "Participant 2's secret: 2000\n",
    "\n",
    "message: b\"Hello World!\"\n",
    "\n",
    "Participant 1's $l$ and $m$: 3000, 4000\n",
    "Participant 2's $l$ and $m$: 5000, 6000\n",
    "\n"
   ]
  },
  {
   "cell_type": "code",
   "execution_count": null,
   "id": "e2860537",
   "metadata": {},
   "outputs": [],
   "source": [
    "# Exercise 6\n",
    "\n",
    "from ecc import N, PrivateKey\n",
    "from hash import hash_musignoncecoef\n",
    "from helper import big_endian_to_int\n",
    "from musig import KeyAggregator, NoncePrivateShare, MuSigParticipant, MuSigCoordinator\n",
    "participant_1 = MuSigParticipant(PrivateKey(1000))\n",
    "participant_2 = MuSigParticipant(PrivateKey(2000))\n",
    "z = b\"Hello World!\"\n",
    "nonce_share_1 = NoncePrivateShare(3000, 4000, participant_1.point)\n",
    "nonce_share_2 = NoncePrivateShare(5000, 6000, participant_2.point)\n",
    "pubkeys = [participant_1.point, participant_2.point]\n",
    "coor = MuSigCoordinator(pubkeys)\n",
    "coor.register_nonce_share(participant_1.point.sec(), nonce_share_1.public_share)\n",
    "coor.register_nonce_share(participant_2.point.sec(), nonce_share_2.public_share)\n",
    "# grab the group point, p, from coordinator's group_point\n",
    "\n",
    "# calculate s and t by summing the s and t properties from the nonce_shares.values()\n",
    "\n",
    "\n",
    "# calculate the hash_musignoncecoef of s's sec, t's sec, p's xonly and the message, z\n",
    "\n",
    "# the nonce coefficient, b, is the hash interpreted as a big endian integer\n",
    "\n",
    "# the r=S+bT\n",
    "\n",
    "# print the nonce point's sec in hex\n",
    "\n",
    "# k=l+bm (l and m are properties of nonce_share_1) make sure to mod by N\n",
    "\n",
    "# print the hex of k\n"
   ]
  },
  {
   "cell_type": "markdown",
   "id": "43388a71",
   "metadata": {
    "slideshow": {
     "slide_type": "slide"
    }
   },
   "source": [
    "### Exercise 7\n",
    "\n",
    "\n",
    "\n",
    "\n",
    "#### Make [this test](/edit/session3/musig.py) pass: `musig.py:NonceAggTest:test_compute_nonce_point`"
   ]
  },
  {
   "cell_type": "code",
   "execution_count": null,
   "id": "c10dcc15",
   "metadata": {},
   "outputs": [],
   "source": [
    "# Exercise 7\n",
    "\n",
    "reload(musig)\n",
    "run(musig.NonceAggTest('test_compute_nonce_point'))"
   ]
  },
  {
   "cell_type": "markdown",
   "id": "dd8ea22d",
   "metadata": {
    "slideshow": {
     "slide_type": "slide"
    }
   },
   "source": [
    "### Exercise 8\n",
    "\n",
    "Create a nonce point and nonce coefficient with your neighbor for this message: b\"Love thy neighbor\"\n",
    "\n"
   ]
  },
  {
   "cell_type": "code",
   "execution_count": null,
   "id": "2e55ccdb",
   "metadata": {},
   "outputs": [],
   "source": [
    "# Exercise 8\n",
    "\n",
    "from ecc import N, PrivateKey\n",
    "from hash import hash_musignoncecoef\n",
    "from helper import big_endian_to_int, sha256\n",
    "from musig import NoncePrivateShare, NoncePublicShare, MuSigParticipant, MuSigCoordinator\n",
    "msg = b\"Love thy neighbor\"\n",
    "my_secret = big_endian_to_int(sha256(b\"<my email address>\"))\n",
    "me = MuSigParticipant(PrivateKey(my_secret))\n",
    "my_pubkey = me.point\n",
    "neighbor_pubkey = S256Point.parse(bytes.fromhex(\"<my neighbor's sec pubkey>\"))\n",
    "# create the coordinator with me and my neighbor\n",
    "\n",
    "# generate my nonce share using generate_nonce_share\n",
    "\n",
    "# print the nonce share's serialization in hex and share with your neighbor\n",
    "\n",
    "neighbor_share = NoncePublicShare.parse(bytes.fromhex(\"<fill in with your neighbor's hex public nonce share>\"))\n",
    "# register my nonce share to the coordinator\n",
    "\n",
    "# register neighbor's share to the coordinator\n",
    "\n",
    "# compute the nonce point from the coordinator\n",
    "\n",
    "# print the sec format in hex of the nonce point\n"
   ]
  },
  {
   "cell_type": "markdown",
   "id": "84aad723",
   "metadata": {
    "slideshow": {
     "slide_type": "slide"
    }
   },
   "source": [
    "# MuSig2 Partial Signatures\n",
    "* Every participant calculates $k_i=l_i+b m_i$ using the nonce coefficient $b= \\mathcal{H}(S||T||P||z)$\n",
    "* They also need the keyagg coefficient $c_i = \\mathcal{H}(L || P_i)$ and the challenge $d=\\mathcal{H}(R,P,z)$ where $z$ is the message)\n",
    "* The partial signature can then be calculated $s_i = k_i + c_i * d * e_i$ where $e_i$ is the secret\n",
    "* The sum of the partial signatures is the s part of the Schnorr Signature $s=s_1+s_2+...+s_n$\n",
    "* If $R$ is odd, we use $-k_i$ for the signing. Similarly, if $P$ is odd, we use $-e_i$ for signing\n"
   ]
  },
  {
   "cell_type": "code",
   "execution_count": null,
   "id": "30e04f01",
   "metadata": {
    "slideshow": {
     "slide_type": "slide"
    }
   },
   "outputs": [],
   "source": [
    "from ecc import N, PrivateKey\n",
    "from musig import SigningContext, MuSigParticipant, MuSigCoordinator\n",
    "participant_1 = MuSigParticipant(PrivateKey(1000))\n",
    "participant_2 = MuSigParticipant(PrivateKey(2000))\n",
    "msg = b\"MuSig2 is awesome!\"\n",
    "nonce_share_1 = participant_1.generate_nonce_share(msg=msg, rand=b'')\n",
    "nonce_share_2 = participant_2.generate_nonce_share(msg=msg, rand=b'')\n",
    "pubkeys = [participant_1.point, participant_2.point]\n",
    "coor = MuSigCoordinator(pubkeys)\n",
    "coor.register_nonce_share(participant_1.point.sec(), nonce_share_1)\n",
    "coor.register_nonce_share(participant_2.point.sec(), nonce_share_2)\n",
    "context = coor.create_signing_context(msg)\n",
    "if context.nonce_point.even:\n",
    "    k = participant_1.nonce(context.nonce_coef)\n",
    "else:\n",
    "    k = N - participant_1.nonce(context.nonce_coef)\n",
    "if context.group_point.even:\n",
    "    e = participant_1.private_key.secret\n",
    "else:\n",
    "    e = N - participant_1.private_key.secret\n",
    "c = context.keyagg_coef(participant_1.point)\n",
    "d = context.challenge\n",
    "s = (k + c * d * e) % N\n",
    "print(hex(s))"
   ]
  },
  {
   "cell_type": "markdown",
   "id": "da5f12fb",
   "metadata": {
    "slideshow": {
     "slide_type": "slide"
    }
   },
   "source": [
    "# MuSig2 Partial Signature Verification\n",
    "* To verify a partial signature, we need some data from the coordinator: group commitment, message being signed, aggregate nonce point and aggregate pubkey\n",
    "* We also need the participant nonce point and pubkey.\n",
    "* $c_i$ is the aggregate key coefficient $\\mathcal{H}(L||P_i)$ and $d$ is group commitment $\\mathcal{H}(R||P||z)$\n",
    "* $s_i=k_i+c_i d e_i$ so what we check is $s_i G=k_iG+c_i d e_i G=R_i+c_i d P_i$ or $R=s_i G-c_i d P_i$\n"
   ]
  },
  {
   "cell_type": "code",
   "execution_count": null,
   "id": "0d72b8bb",
   "metadata": {
    "slideshow": {
     "slide_type": "slide"
    }
   },
   "outputs": [],
   "source": [
    "# example of verifying a partial signature\n",
    "from ecc import G, N, PrivateKey\n",
    "from musig import SigningContext, MuSigParticipant, MuSigCoordinator\n",
    "participant_1 = MuSigParticipant(PrivateKey(1000))\n",
    "participant_2 = MuSigParticipant(PrivateKey(2000))\n",
    "msg = b\"MuSig2 is awesome!\"\n",
    "nonce_share_1 = participant_1.generate_nonce_share(msg=msg, rand=b'')\n",
    "nonce_share_2 = participant_2.generate_nonce_share(msg=msg, rand=b'')\n",
    "pubkeys = [participant_1.point, participant_2.point]\n",
    "coor = MuSigCoordinator(pubkeys)\n",
    "coor.register_nonce_share(participant_1.point.sec(), nonce_share_1)\n",
    "coor.register_nonce_share(participant_2.point.sec(), nonce_share_2)\n",
    "context = coor.create_signing_context(msg)\n",
    "s = 0xa5aa0ae6ba94c1d8948929b7422d14869476011f4a5904c8f46b276396d4051a\n",
    "if context.nonce_point.even:\n",
    "    r = nonce_share_1.nonce_point(context.nonce_coef)\n",
    "else:\n",
    "    r = -1 * nonce_share_1.nonce_point(context.nonce_coef)\n",
    "if context.group_point.even:\n",
    "    p = participant_1.point\n",
    "else:\n",
    "    p = -1 * participant_1.point\n",
    "c = context.keyagg_coef(participant_1.point)\n",
    "d = context.challenge\n",
    "print(s * G == r + c * d * p)"
   ]
  },
  {
   "cell_type": "markdown",
   "id": "228c4b1b",
   "metadata": {
    "slideshow": {
     "slide_type": "slide"
    }
   },
   "source": [
    "### Exercise 9\n",
    "\n",
    "Calculate the partial signature for participant 2:\n",
    "\n",
    "Participant 1's secret: 1000\n",
    "Participant 2's secret: 2000\n",
    "\n",
    "message: b\"Hello World!\"\n",
    "\n",
    "Participant 1's $l$ and $m$: 3000, 4000\n",
    "Participant 2's $l$ and $m$: 5000, 6000\n",
    "\n"
   ]
  },
  {
   "cell_type": "code",
   "execution_count": null,
   "id": "05362cde",
   "metadata": {},
   "outputs": [],
   "source": [
    "# Exercise 9\n",
    "\n",
    "from ecc import N, PrivateKey\n",
    "from musig import SigningContext, MuSigParticipant, MuSigCoordinator\n",
    "participant_1 = MuSigParticipant(PrivateKey(1000))\n",
    "participant_2 = MuSigParticipant(PrivateKey(2000))\n",
    "msg = b\"Hello World!\"\n",
    "nonce_share_1 = NoncePrivateShare(3000, 4000, participant_1.point)\n",
    "nonce_share_2 = NoncePrivateShare(5000, 6000, participant_2.point)\n",
    "participant_1.nonce_private_share = nonce_share_1\n",
    "participant_2.nonce_private_share = nonce_share_2\n",
    "pubkeys = [participant_1.point, participant_2.point]\n",
    "coor = MuSigCoordinator(pubkeys)\n",
    "coor.register_nonce_share(participant_1.point.sec(), nonce_share_1.public_share)\n",
    "coor.register_nonce_share(participant_2.point.sec(), nonce_share_2.public_share)\n",
    "# create the signing context, which should aggregate the points\n",
    "\n",
    "# determine the second participant's nonce (k_i) from the nonce point's evenness\n",
    "\n",
    "\n",
    "\n",
    "\n",
    "# determine the second participant's secret (e_i) from the group point's evenness\n",
    "\n",
    "\n",
    "\n",
    "\n",
    "# use the context's keylagg_coef method to get the keyagg coefficient (c_i = H(L||P_i))\n",
    "\n",
    "# use the context's challenge method to get the group challenge (d = H(R||P||z))\n",
    "\n",
    "# now get the partial signature s_i = k + c_i * d * e_i\n",
    "\n",
    "# print the hex of the partial signature\n"
   ]
  },
  {
   "cell_type": "markdown",
   "id": "017fc4fa",
   "metadata": {
    "slideshow": {
     "slide_type": "slide"
    }
   },
   "source": [
    "### Exercise 10\n",
    "\n",
    "Verify the partial signature for participant 2\n",
    "\n"
   ]
  },
  {
   "cell_type": "code",
   "execution_count": null,
   "id": "c69ac89c",
   "metadata": {},
   "outputs": [],
   "source": [
    "# Exercise 10\n",
    "\n",
    "from ecc import G, N, PrivateKey\n",
    "from musig import SigningContext, MuSigParticipant, MuSigCoordinator\n",
    "participant_1 = MuSigParticipant(PrivateKey(1000))\n",
    "participant_2 = MuSigParticipant(PrivateKey(2000))\n",
    "msg = b\"Hello World!\"\n",
    "nonce_share_1 = NoncePrivateShare(3000, 4000, participant_1.point)\n",
    "nonce_share_2 = NoncePrivateShare(5000, 6000, participant_2.point)\n",
    "participant_1.nonce_private_share = nonce_share_1\n",
    "participant_2.nonce_private_share = nonce_share_2\n",
    "pubkeys = [participant_1.point, participant_2.point]\n",
    "coor = MuSigCoordinator(pubkeys)\n",
    "coor.register_nonce_share(participant_1.point.sec(), nonce_share_1.public_share)\n",
    "coor.register_nonce_share(participant_2.point.sec(), nonce_share_2.public_share)\n",
    "# fill in what s equals from the last exercise\n",
    "\n",
    "# create the signing context, which should aggregate the points\n",
    "\n",
    "# determine the second participant's nonce point (R_i) from the nonce point's evenness\n",
    "\n",
    "\n",
    "\n",
    "\n",
    "# determine the second participant's pubkey (P_i) from the group point's evenness\n",
    "\n",
    "\n",
    "\n",
    "\n",
    "# get the keyagg coefficient (c) for the second participant\n",
    "\n",
    "# get the challenge for the group (d)\n",
    "\n",
    "# check if s_i * G == R + c * d * P\n"
   ]
  },
  {
   "cell_type": "markdown",
   "id": "718eec45",
   "metadata": {
    "slideshow": {
     "slide_type": "slide"
    }
   },
   "source": [
    "### Exercise 11\n",
    "\n",
    "Sum the partial signatures, create a Schnorr Signature and verify it using the group point\n",
    "\n"
   ]
  },
  {
   "cell_type": "code",
   "execution_count": null,
   "id": "70037f54",
   "metadata": {},
   "outputs": [],
   "source": [
    "# Exercise 11\n",
    "\n",
    "from ecc import G, N, PrivateKey, SchnorrSignature\n",
    "from musig import SigningContext, MuSigParticipant, MuSigCoordinator\n",
    "participant_1 = MuSigParticipant(PrivateKey(1000))\n",
    "participant_2 = MuSigParticipant(PrivateKey(2000))\n",
    "msg = b\"Hello World!\"\n",
    "nonce_share_1 = NoncePrivateShare(3000, 4000, participant_1.point)\n",
    "nonce_share_2 = NoncePrivateShare(5000, 6000, participant_2.point)\n",
    "participant_1.nonce_private_share = nonce_share_1\n",
    "participant_2.nonce_private_share = nonce_share_2\n",
    "pubkeys = [participant_1.point, participant_2.point]\n",
    "coor = MuSigCoordinator(pubkeys)\n",
    "coor.register_nonce_share(participant_1.point.sec(), nonce_share_1.public_share)\n",
    "coor.register_nonce_share(participant_2.point.sec(), nonce_share_2.public_share)\n",
    "context = coor.create_signing_context(msg)\n",
    "s_1 = 0x1aad95d9490e4b8599377ff6a546a1d075fb4242c749dbcbc010589e23c21776\n",
    "s_2 = 0x9d4815237aa9e06f5ae095bef95898c584f835c9df0389ad46e1f94c8034b621\n",
    "# sum the two partial sigs and mod by N\n",
    "\n",
    "# get the nonce point from the context\n",
    "\n",
    "# create the Schnorr Signature using the r and the s\n",
    "\n",
    "# check the validity of the schnorr signature using the group point from the context\n"
   ]
  },
  {
   "cell_type": "markdown",
   "id": "4808263b",
   "metadata": {
    "slideshow": {
     "slide_type": "slide"
    }
   },
   "source": [
    "### Exercise 12\n",
    "\n",
    "\n",
    "\n",
    "\n",
    "#### Make [this test](/edit/session3/musig.py) pass: `musig.py:PartialSigTest:test_verify`"
   ]
  },
  {
   "cell_type": "code",
   "execution_count": null,
   "id": "4b7a54ac",
   "metadata": {},
   "outputs": [],
   "source": [
    "# Exercise 12\n",
    "\n",
    "reload(musig)\n",
    "run(musig.PartialSigTest('test_verify'))"
   ]
  },
  {
   "cell_type": "markdown",
   "id": "1f383918",
   "metadata": {
    "slideshow": {
     "slide_type": "slide"
    }
   },
   "source": [
    "### Exercise 13\n",
    "\n",
    "\n",
    "\n",
    "\n",
    "#### Make [this test](/edit/session3/musig.py) pass: `musig.py:PartialSigTest:test_sign`"
   ]
  },
  {
   "cell_type": "code",
   "execution_count": null,
   "id": "b8626dc1",
   "metadata": {},
   "outputs": [],
   "source": [
    "# Exercise 13\n",
    "\n",
    "reload(musig)\n",
    "run(musig.PartialSigTest('test_sign'))"
   ]
  },
  {
   "cell_type": "markdown",
   "id": "45d59785",
   "metadata": {
    "slideshow": {
     "slide_type": "slide"
    }
   },
   "source": [
    "### Exercise 14\n",
    "\n",
    "Trade partial signatures with your neighbor and verify for the message from Exercise 10.\n",
    "\n"
   ]
  },
  {
   "cell_type": "code",
   "execution_count": null,
   "id": "4a9bf025",
   "metadata": {},
   "outputs": [],
   "source": [
    "# Exercise 14\n",
    "\n",
    "from ecc import N, PrivateKey\n",
    "from hash import hash_musignoncecoef\n",
    "from helper import big_endian_to_int, sha256\n",
    "from musig import NoncePrivateShare, NoncePublicShare, MuSigParticipant, MuSigCoordinator\n",
    "msg = b\"Love thy neighbor\"\n",
    "my_secret = big_endian_to_int(sha256(b\"<my email address>\"))\n",
    "me = MuSigParticipant(PrivateKey(my_secret))\n",
    "my_pubkey = me.point\n",
    "neighbor_pubkey = S256Point.parse(bytes.fromhex(\"<my neighbor's sec pubkey>\"))\n",
    "# create the coordinator with me and my neighbor\n",
    "\n",
    "# generate my nonce share using generate_nonce_share\n",
    "\n",
    "# print the nonce share's serialization in hex and share with your neighbor\n",
    "\n",
    " neighbor_share = NoncePublicShare.parse(bytes.fromhex(\"<fill in with your neighbor's hex public nonce share>\"))\n",
    "# register my nonce share to the coordinator\n",
    "\n",
    "# register neighbor's share to the coordinator\n",
    "\n",
    "# create the signing context\n",
    "\n",
    "# sign with the context\n",
    "\n",
    "# print the partial sig in hex to share with your neighbor\n",
    "\n",
    "neighbor_sig = bytes.fromhex(\"<fill in with your neighbor's partial sig in hex>\")\n",
    "# sum the two partial sigs converted to integers and then mod by N\n",
    "\n",
    "# get the nonce point from the context\n",
    "\n",
    "# create the Schnorr Signature using the r and the s\n",
    "\n",
    "# check the validity of the schnorr signature using the group point from the context\n"
   ]
  },
  {
   "cell_type": "markdown",
   "id": "cd962100",
   "metadata": {
    "slideshow": {
     "slide_type": "slide"
    }
   },
   "source": [
    "# MuSig2 Group Point Tweaking\n",
    "* If the MuSig2 group point is the KeyPath Spend, then there is a tweak $t$\n",
    "* The group point $P$ and tweak $t$ make the external pubkey $Q=P+tG$\n",
    "* $Q$ is $x$-only, so that determines $e_i$ negation, not the $P$\n",
    "* We set $Q$ to be the group point\n"
   ]
  },
  {
   "cell_type": "code",
   "execution_count": null,
   "id": "7f16a97f",
   "metadata": {
    "slideshow": {
     "slide_type": "slide"
    }
   },
   "outputs": [],
   "source": [
    "# example of tweaking the MuSig2 group pubkey\n",
    "from ecc import G, PrivateKey\n",
    "from hash import hash_taptweak\n",
    "from helper import big_endian_to_int\n",
    "from musig import KeyAggregator\n",
    "pubkeys = [PrivateKey(i * 1000).point for i in range(1,7)]\n",
    "keyagg = KeyAggregator(pubkeys)\n",
    "merkle_root = b\"\"\n",
    "tweak = hash_taptweak(keyagg.group_point.xonly() + merkle_root)\n",
    "t = big_endian_to_int(tweak)\n",
    "keyagg.group_point = keyagg.group_point + t * G\n",
    "print(keyagg.group_point.sec().hex())"
   ]
  },
  {
   "cell_type": "markdown",
   "id": "ac12ebf5",
   "metadata": {
    "slideshow": {
     "slide_type": "slide"
    }
   },
   "source": [
    "# Partial Sig Aggregation for even/odd $Q$\n",
    "* For even $Q$: the Schnorr Signature $(R, s+td)$ will validate for the tweaked key $Q$\n",
    "* For odd $Q$: The Schnorr Signature $(R, s-td)$ will validate for the tweaked key $-Q$\n"
   ]
  },
  {
   "cell_type": "code",
   "execution_count": null,
   "id": "7975b2b0",
   "metadata": {
    "slideshow": {
     "slide_type": "slide"
    }
   },
   "outputs": [],
   "source": [
    "# example of aggregating a tweaked group pubkey\n",
    "from ecc import G, N, PrivateKey, SchnorrSignature\n",
    "from helper import big_endian_to_int\n",
    "from musig import SigningContext, MuSigParticipant, MuSigCoordinator\n",
    "participant_1 = MuSigParticipant(PrivateKey(1000))\n",
    "participant_2 = MuSigParticipant(PrivateKey(2000))\n",
    "msg = b\"Hello World!\"\n",
    "nonce_share_1 = NoncePrivateShare(3000, 4000, participant_1.point)\n",
    "nonce_share_2 = NoncePrivateShare(5000, 6000, participant_2.point)\n",
    "participant_1.nonce_private_share = nonce_share_1\n",
    "participant_2.nonce_private_share = nonce_share_2\n",
    "pubkeys = [participant_1.point, participant_2.point]\n",
    "coor = MuSigCoordinator(pubkeys)\n",
    "tweak = hash_taptweak(coor.keyagg.group_point.xonly() + b\"\")\n",
    "t = big_endian_to_int(tweak)\n",
    "coor.keyagg.group_point = coor.keyagg.group_point + t * G\n",
    "coor.register_nonce_share(participant_1.point.sec(), nonce_share_1.public_share)\n",
    "coor.register_nonce_share(participant_2.point.sec(), nonce_share_2.public_share)\n",
    "context = coor.create_signing_context(msg)\n",
    "s_1 = big_endian_to_int(participant_1.sign(context))\n",
    "s_2 = big_endian_to_int(participant_2.sign(context))\n",
    "s = (s_1 + s_2) % N\n",
    "d = context.challenge\n",
    "if context.group_point.even:\n",
    "    s = (s + d * t) % N\n",
    "else:\n",
    "    s = (s - d * t) % N\n",
    "r = context.nonce_point\n",
    "sig = SchnorrSignature(r, s)\n",
    "print(context.group_point.verify_schnorr(msg, sig))"
   ]
  },
  {
   "cell_type": "markdown",
   "id": "51187c66",
   "metadata": {
    "slideshow": {
     "slide_type": "slide"
    }
   },
   "source": [
    "### Exercise 15\n",
    "\n",
    "Sum the partial signatures, create a Schnorr Signature and verify it using the group point\n",
    "\n"
   ]
  },
  {
   "cell_type": "code",
   "execution_count": null,
   "id": "af2d3e2c",
   "metadata": {},
   "outputs": [],
   "source": [
    "# Exercise 15\n",
    "\n",
    "from ecc import G, N, PrivateKey, SchnorrSignature\n",
    "from musig import SigningContext, MuSigParticipant, MuSigCoordinator\n",
    "participant_1 = MuSigParticipant(PrivateKey(1000))\n",
    "participant_2 = MuSigParticipant(PrivateKey(2000))\n",
    "msg = b\"Hello World!\"\n",
    "nonce_share_1 = NoncePrivateShare(3000, 4000, participant_1.point)\n",
    "nonce_share_2 = NoncePrivateShare(5000, 6000, participant_2.point)\n",
    "participant_1.nonce_private_share = nonce_share_1\n",
    "participant_2.nonce_private_share = nonce_share_2\n",
    "pubkeys = [participant_1.point, participant_2.point]\n",
    "merkle_root = bytes.fromhex(\"818c9d665b78324ba673afca23f5f4f5512214ccfd0554fe82c5f99f5a29689a\")\n",
    "coor = MuSigCoordinator(pubkeys, merkle_root=merkle_root)\n",
    "t = coor.keyagg.tweak_amount\n",
    "coor.register_nonce_share(participant_1.point.sec(), nonce_share_1.public_share)\n",
    "coor.register_nonce_share(participant_2.point.sec(), nonce_share_2.public_share)\n",
    "context = coor.create_signing_context(msg)\n",
    "s_1 = 0xa23b11cb8c2120ac414f15fc27f67f4588f770b1e3a2012406a8771287410da1\n",
    "s_2 = 0x22d4db66c5a3bfecf63ac2b6402a5cba717938d33006a0ee8b1d398aee9dda1e\n",
    "# sum the two partial sigs and mod by N\n",
    "\n",
    "# get the challenge from the context\n",
    "\n",
    "# add d*t to s if group point is even, subtract d*t from s if odd\n",
    "\n",
    "\n",
    "\n",
    "\n",
    "# get the nonce point from the context\n",
    "\n",
    "# create the Schnorr Signature using the r and the s\n",
    "\n",
    "# check the validity of the schnorr signature using the group point from the context\n"
   ]
  },
  {
   "cell_type": "markdown",
   "id": "a953a3ef",
   "metadata": {
    "slideshow": {
     "slide_type": "slide"
    }
   },
   "source": [
    "### Exercise 16\n",
    "\n",
    "\n",
    "\n",
    "\n",
    "#### Make [this test](/edit/session3/musig.py) pass: `musig.py:PartialSigTest:test_compute_sig`"
   ]
  },
  {
   "cell_type": "code",
   "execution_count": null,
   "id": "10a0fc27",
   "metadata": {},
   "outputs": [],
   "source": [
    "# Exercise 16\n",
    "\n",
    "reload(musig)\n",
    "run(musig.PartialSigTest('test_compute_sig'))"
   ]
  },
  {
   "cell_type": "markdown",
   "id": "96e4c4bc",
   "metadata": {
    "slideshow": {
     "slide_type": "slide"
    }
   },
   "source": [
    "### Exercise 17\n",
    "\n",
    "Trade partial signatures with your neighbor and verify for the message from Exercise 10.\n",
    "\n"
   ]
  },
  {
   "cell_type": "code",
   "execution_count": null,
   "id": "ab2e6496",
   "metadata": {},
   "outputs": [],
   "source": [
    "# Exercise 17\n",
    "\n",
    "from ecc import N, PrivateKey\n",
    "from hash import hash_musignoncecoef\n",
    "from helper import big_endian_to_int, sha256\n",
    "from musig import NoncePrivateShare, NoncePublicShare, MuSigParticipant, MuSigCoordinator\n",
    "msg = b\"Love thy neighbor\"\n",
    "my_secret = big_endian_to_int(sha256(b\"<my email address>\"))\n",
    "me = MuSigParticipant(PrivateKey(my_secret))\n",
    "my_pubkey = me.point\n",
    "Neighbor_pubkey = S256Point.parse(bytes.fromhex(\"<my neighbor's sec pubkey>\"))\n",
    "merkle_root = bytes.fromhex(\"818c9d665b78324ba673afca23f5f4f5512214ccfd0554fe82c5f99f5a29689a\")\n",
    "# create the coordinator with my pubkey and my neighbor's pubkey with the merkle root\n",
    "\n",
    "# generate my nonce share using generate_nonce_share\n",
    "\n",
    "# print the nonce share's serialization in hex and share with your neighbor\n",
    "\n",
    "neighbor_share = NoncePublicShare.parse(bytes.fromhex(\"<fill in with your neighbor's hex public nonce share>\"))\n",
    "# register my nonce share to the coordinator\n",
    "\n",
    "# register neighbor's share to the coordinator\n",
    "\n",
    "# create the signing context\n",
    "\n",
    "# sign with the context\n",
    "\n",
    "# register my partial signature with the coordinator\n",
    "\n",
    "# print the partial sig in hex to share with your neighbor\n",
    "\n",
    "neighbor_sig = bytes.fromhex(\"<fill in with your neighbor's partial sig in hex>\")\n",
    "# register neighbor's sig with the coordinator\n",
    "\n",
    "# get the schnorr signature from the coordinator\n",
    "\n",
    "# print whether the signature verifies\n",
    "\n",
    "# print the signature, serialized in hex\n"
   ]
  },
  {
   "cell_type": "markdown",
   "id": "703dfded",
   "metadata": {
    "slideshow": {
     "slide_type": "slide"
    }
   },
   "source": [
    "### Exercise 18\n",
    "\n",
    "Make an address with your neighbor where the internal pubkey is a 2-of-2 MuSig and the single TapLeaf is also a 2-of-2 MuSig\n",
    "\n",
    "Submit your address at [this link](https://docs.google.com/spreadsheets/d/1BHqFAzgfThrf64q9pCinwTd7FitJrL5Is3HHBR3UyeI/edit?usp=sharing)\n",
    "\n",
    "\n"
   ]
  },
  {
   "cell_type": "code",
   "execution_count": null,
   "id": "72ddef43",
   "metadata": {},
   "outputs": [],
   "source": [
    "# Exercise 18\n",
    "\n",
    "from ecc import N, PrivateKey\n",
    "from hash import hash_musignoncecoef\n",
    "from helper import big_endian_to_int, sha256\n",
    "from musig import KeyAggregator, MuSigParticipant, MuSigCoordinator\n",
    "from taproot import TapLeaf, TapScript\n",
    "my_secret = big_endian_to_int(sha256(b\"<my email address>\"))\n",
    "me = MuSigParticipant(PrivateKey(my_secret))\n",
    "neighbor_pubkey = S256Point.parse(bytes.fromhex(\"<my neighbor's sec pubkey>\"))\n",
    "# collect the pubkeys in a list\n",
    "\n",
    "# use the KeyAggregator to get the pubkey\n",
    "\n",
    "# the TapScript we want is [P, 0xAC] where P is the group point in xonly, 0xAC is OP_CHECKSIG\n",
    "\n",
    "# create a TapLeaf with the single TapScript\n",
    "\n",
    "# set the merkle root to be the hash of this TapLeaf\n",
    "\n",
    "# create the coordinator with pubkeys with the merkle root\n",
    "\n",
    "# use the address method to get the p2tr address on signet\n"
   ]
  }
 ],
 "metadata": {},
 "nbformat": 4,
 "nbformat_minor": 5
}
