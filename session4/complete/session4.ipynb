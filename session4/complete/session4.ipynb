{
 "cells": [
  {
   "cell_type": "code",
   "execution_count": 1,
   "id": "904578df",
   "metadata": {
    "slideshow": {
     "slide_type": "skip"
    }
   },
   "outputs": [],
   "source": [
    "############## PLEASE RUN THIS CELL FIRST! ###################\n",
    "\n",
    "# import everything and define a test runner function\n",
    "from importlib import reload\n",
    "from helper import run\n",
    "import frost"
   ]
  },
  {
   "cell_type": "code",
   "execution_count": 2,
   "id": "25ea5b6c",
   "metadata": {
    "slideshow": {
     "slide_type": "slide"
    }
   },
   "outputs": [
    {
     "name": "stdout",
     "output_type": "stream",
     "text": [
      "02051d617f5d3cf975e3a2fae4e812927fa5d239d7a14615ecdb86b3131c520325031f7e92929762fc2f052e8085b149f96b206517886b9e01deade37eddfdd1b984\n",
      "1b61c7bc63a1c31c8e351613d55b362dd1003c31b326ca561b6c2b5cdc457a41\n",
      "True\n",
      "010000000001011c8f612982e25c8db5e4826b1f0cc4daa2cfada09edb3f136ea106e49dbb5f4b0000000000ffffffff01ac84010000000000160014f5a74a3131dedb57a092ae86aad3ee3f9b8d7214014019b2549a87ea205c5b7e2b12928aef2f242cb42dc4b626b29da209af3e1fdcfab3cb97cd4a3cf23d7926e05c847047ff2a50de6af57aadfd2c79b9066caa721600000000\n"
     ]
    }
   ],
   "source": [
    "# Example MuSig2 KeyPath Spend\n",
    "from ecc import N, PrivateKey, S256Point\n",
    "from musig import KeyAggregator, NoncePublicShare, MuSigParticipant, MuSigCoordinator\n",
    "from script import address_to_script_pubkey\n",
    "from taproot import TapScript, TapLeaf\n",
    "from tx import TxIn, TxOut, Tx\n",
    "my_secret = 21000000\n",
    "me = MuSigParticipant(PrivateKey(my_secret))\n",
    "my_pubkey = me.point\n",
    "neighbor_pubkey = S256Point.parse(bytes.fromhex(\"029addad123cfcfa19c501dd1f15ca93b74a57ef88aa34035470dd46e54b5931c6\"))\n",
    "pubkeys = [my_pubkey, neighbor_pubkey]\n",
    "keyagg = KeyAggregator(pubkeys)\n",
    "group_point = keyagg.group_point\n",
    "ts = TapScript([group_point.xonly(), 0xAC])\n",
    "leaf = TapLeaf(ts)\n",
    "merkle_root = leaf.hash()\n",
    "coor = MuSigCoordinator(pubkeys, merkle_root)\n",
    "prev_tx = bytes.fromhex(\"4b5fbb9de406a16e133fdb9ea0adcfa2dac40c1f6b82e4b58d5ce28229618f1c\")\n",
    "prev_index = 0\n",
    "fee = 500\n",
    "tx_in = TxIn(prev_tx, prev_index)\n",
    "target_amount = tx_in.value(network=\"signet\") - fee\n",
    "target_script = address_to_script_pubkey(\"tb1q7kn55vf3mmd40gyj46r245lw87dc6us5n50lrg\")\n",
    "tx_out = TxOut(target_amount, target_script)\n",
    "tx_obj = Tx(1, [tx_in], [tx_out], network=\"signet\", segwit=True)\n",
    "msg = tx_obj.sig_hash(0)\n",
    "my_nonce_share = me.generate_nonce_share(msg=msg, aggregate_pubkey=group_point, rand=b'')\n",
    "print(my_nonce_share.serialize().hex())\n",
    "neighbor_share = NoncePublicShare.parse(bytes.fromhex(\"02d8ffef7503cec7a5046d238f53d5f599e57772813aa8b4c1cbd017a453fbcd25026bc7edd0264573f8e90e2f1d6753b0004010d8d1c235f5f1c44995f5376a0e81\"))\n",
    "coor.register_nonce_share(my_pubkey.sec(), my_nonce_share)\n",
    "coor.register_nonce_share(neighbor_pubkey.sec(), neighbor_share)\n",
    "context = coor.create_signing_context(msg)\n",
    "my_partial_sig = me.sign(context)\n",
    "coor.register_partial_sig(my_pubkey.sec(), my_partial_sig)\n",
    "print(my_partial_sig.hex())\n",
    "neighbor_sig = bytes.fromhex(\"82420b4a9accb4392eb850cb1853849a03a35711f3d7ae112eff9fd3214bc538\")\n",
    "coor.register_partial_sig(neighbor_pubkey.sec(), neighbor_sig)\n",
    "sig = coor.compute_sig().serialize()\n",
    "tx_in.finalize_p2tr_keypath(sig)\n",
    "print(tx_obj.verify())\n",
    "print(tx_obj.serialize().hex())"
   ]
  },
  {
   "cell_type": "markdown",
   "id": "d5858d50",
   "metadata": {
    "slideshow": {
     "slide_type": "slide"
    }
   },
   "source": [
    "### Exercise 1\n",
    "\n",
    "You have been sent 2 UTXOs to the address you created in the last session.\n",
    "KeyPath spend one of the UTXO to <code>tb1q7kn55vf3mmd40gyj46r245lw87dc6us5n50lrg</code>. Use <a href=\"https://mempool.space/signet/tx/push to broadcast your transaction\" target=\"_mempool\">Mempool Signet</a> to broadcast your transaction.\n",
    "\n"
   ]
  },
  {
   "cell_type": "code",
   "execution_count": 3,
   "id": "7664e499",
   "metadata": {},
   "outputs": [
    {
     "name": "stdout",
     "output_type": "stream",
     "text": [
      "03afaedbbd00b36d4d0cb5e12774b3db480daa0089fb328ebc9c57d3b8c3c1322102dda103bd9ea96754e244697c0dcee76254a76b5ebd1c3d26d8374192f7dd489a\n",
      "64fc2873978844f82a70101e3765c7e8b3b8db939d4b5a7d6e315d6929ba988f\n",
      "True\n",
      "01000000000101107793f7d74254207a4f65aa074b7de9191c48f31602563ca6384a15e199467b0000000000ffffffff01ac84010000000000160014f5a74a3131dedb57a092ae86aad3ee3f9b8d721401409817763d11851ccfd50b7819a44b9ff65bbff604eacda483db6eff9096dad07aeab3311ed3a0b4064c555995b0004d5ac42eb317b59716c0fff0b1c7904e55b400000000\n"
     ]
    }
   ],
   "source": [
    "# Exercise 1\n",
    "\n",
    "from ecc import N, PrivateKey, S256Point\n",
    "from helper import big_endian_to_int, sha256\n",
    "from musig import KeyAggregator, NoncePublicShare, MuSigParticipant, MuSigCoordinator\n",
    "from script import address_to_script_pubkey\n",
    "from taproot import TapScript, TapLeaf\n",
    "from tx import TxIn, TxOut, Tx\n",
    "my_secret = big_endian_to_int(sha256(b\"jimmy@programmingblockchain.com\"))\n",
    "me = MuSigParticipant(PrivateKey(my_secret))\n",
    "my_pubkey = me.point\n",
    "neighbor_pubkey = S256Point.parse(bytes.fromhex(\"02e79c4eb45764bd015542f6779cc70fef44b7a2432f839264768288efab886291\"))\n",
    "pubkeys = [my_pubkey, neighbor_pubkey]\n",
    "keyagg = KeyAggregator(pubkeys)\n",
    "group_point = keyagg.group_point\n",
    "ts = TapScript([group_point.xonly(), 0xAC])\n",
    "leaf = TapLeaf(ts)\n",
    "merkle_root = leaf.hash()\n",
    "coor = MuSigCoordinator(pubkeys, merkle_root)\n",
    "prev_tx = bytes.fromhex(\"7b4699e1154a38a63c560216f3481c19e97d4b07aa654f7a205442d7f7937710\")\n",
    "prev_index = 0\n",
    "fee = 500\n",
    "# create a transaction input with the previous tx and index\n",
    "tx_in = TxIn(prev_tx, prev_index)\n",
    "# calculate the amount using the value in the UTXO minus the fee\n",
    "target_amount = tx_in.value(network=\"signet\") - fee\n",
    "target_address = \"tb1q7kn55vf3mmd40gyj46r245lw87dc6us5n50lrg\"\n",
    "# use the address_to_script_pubkey method to get the output script pubkey\n",
    "target_script = address_to_script_pubkey(target_address)\n",
    "# create the TxOut\n",
    "tx_out = TxOut(target_amount, target_script)\n",
    "# create the Tx (remember network=\"signet\" and segwit=True)\n",
    "tx_obj = Tx(1, [tx_in], [tx_out], network=\"signet\", segwit=True)\n",
    "# set the message to be the sig_hash on index 0\n",
    "msg = tx_obj.sig_hash(0)\n",
    "# generate a nonce\n",
    "my_nonce_share = me.generate_nonce_share(msg=msg, aggregate_pubkey=group_point, rand=b'')\n",
    "# print the nonce share serialized in hex for your neighbor\n",
    "print(my_nonce_share.serialize().hex())\n",
    "# grab your neighbor's nonce\n",
    "neighbor_share = NoncePublicShare.parse(bytes.fromhex(\"02f903cf6bd3481f7061a5f2d3d556e4415df7b8baa732c2224d14320802e4db1f02e5936ece2ad2a75665e8d1e8810089abe821f74faa10dbdc55c8481e2da90449\"))\n",
    "# register both nonces with the coordinator\n",
    "coor.register_nonce_share(me.point.sec(), my_nonce_share)\n",
    "coor.register_nonce_share(neighbor_pubkey.sec(), neighbor_share)\n",
    "# create the signing context using the message\n",
    "context = coor.create_signing_context(msg)\n",
    "# create your own partial sig using the context\n",
    "my_partial_sig = me.sign(context)\n",
    "# register the partial sig with the coordinator\n",
    "coor.register_partial_sig(me.point.sec(), my_partial_sig)\n",
    "# print the hex of the partial signature\n",
    "print(my_partial_sig.hex())\n",
    "# grab your neighbor's partial signature\n",
    "neighbor_sig = bytes.fromhex(\"0c97c1ba20e2ff12c940ca341a5947ebb8d3a2454689e6fb52ed49961e6a7c3e\")\n",
    "# register your neighbor's partial sig\n",
    "coor.register_partial_sig(neighbor_pubkey.sec(), neighbor_sig)\n",
    "# compute the schnorr signature and serialize it\n",
    "sig = coor.compute_sig().serialize()\n",
    "# use the TxIn's finalize_p2tr_keypath to insert the signature to the transaction\n",
    "tx_in.finalize_p2tr_keypath(sig)\n",
    "# check that the transaction verifies\n",
    "print(tx_obj.verify())\n",
    "# print the serialization of the tx in hex and broadcast it on https://mempool.space/signet/tx/push\n",
    "print(tx_obj.serialize().hex())"
   ]
  },
  {
   "cell_type": "markdown",
   "id": "5df3c709",
   "metadata": {
    "slideshow": {
     "slide_type": "slide"
    }
   },
   "source": [
    "### Exercise 2\n",
    "\n",
    "BONUS! Don't do this one unless you finished the previous exercise and have time. You have been sent 2 UTXOs to the address you created in the last session. ScriptPath spend the UTXO you haven't spent yet to the same address. Use <a href=\"https://mempool.space/signet/tx/push to broadcast your transaction\" target=\"_mempool\">Mempool Signet</a> to broadcast your transaction.\n",
    "\n"
   ]
  },
  {
   "cell_type": "code",
   "execution_count": 4,
   "id": "d839a412",
   "metadata": {},
   "outputs": [
    {
     "name": "stdout",
     "output_type": "stream",
     "text": [
      "03d3400f5192f10ee23b4bf548aac097602a3dc7ebfb42b6b6942f89cf118cb8c503f75a25822709e49219a486f4202d158f9dedc69a18b9c57e650a9ded6901d53f\n",
      "ddee9157385eeb894d15b547665555e5d79c12c596dc5b7e509b528d8f6c941a\n",
      "True\n",
      "01000000000101c85845e0f8941e95b701a35ffced06e65a7e3f385e94c92a2ca6e730cd10fdee0000000000ffffffff01ac84010000000000160014f5a74a3131dedb57a092ae86aad3ee3f9b8d7214034014b58fc7aa169918b19a0b0f2fd30784331c9f222f4dafa71b08aea1b70d244accea8a8408f038f2dc4d521328e6681bc2b01c94e4053d818988308c47d4d11522209eb76b0b34923d2f924716eef038cd59cb9fcf3a79841f5069e0e5503eb67838ac21c09eb76b0b34923d2f924716eef038cd59cb9fcf3a79841f5069e0e5503eb6783800000000\n"
     ]
    }
   ],
   "source": [
    "# Exercise 2\n",
    "\n",
    "from ecc import N, PrivateKey, S256Point\n",
    "from helper import big_endian_to_int, sha256\n",
    "from musig import KeyAggregator, NoncePublicShare, MuSigParticipant, MuSigCoordinator\n",
    "from script import address_to_script_pubkey\n",
    "from taproot import TapScript, TapLeaf\n",
    "from tx import TxIn, TxOut, Tx\n",
    "my_secret = big_endian_to_int(sha256(b\"jimmy@programmingblockchain.com\"))\n",
    "me = MuSigParticipant(PrivateKey(my_secret))\n",
    "my_pubkey = me.point\n",
    "neighbor_pubkey = S256Point.parse(bytes.fromhex(\"02e79c4eb45764bd015542f6779cc70fef44b7a2432f839264768288efab886291\"))\n",
    "pubkeys = [my_pubkey, neighbor_pubkey]\n",
    "keyagg = KeyAggregator(pubkeys)\n",
    "group_point = keyagg.group_point\n",
    "tap_script = TapScript([group_point.xonly(), 0xAC])\n",
    "tap_leaf = tap_script.tap_leaf()\n",
    "coor = MuSigCoordinator(pubkeys)\n",
    "prev_tx = bytes.fromhex(\"eefd10cd30e7a62c2ac9945e383f7e5ae606edfc5fa301b7951e94f8e04558c8\")\n",
    "prev_index = 0\n",
    "fee = 500\n",
    "# create a transaction input with the previous tx and index\n",
    "tx_in = TxIn(prev_tx, prev_index)\n",
    "# calculate the amount using the value in the UTXO minus the fee\n",
    "target_amount = tx_in.value(network=\"signet\") - fee\n",
    "target_address = \"tb1q7kn55vf3mmd40gyj46r245lw87dc6us5n50lrg\"\n",
    "# use the address_to_script_pubkey method to get the output script pubkey\n",
    "target_script = address_to_script_pubkey(target_address)\n",
    "# create the TxOut\n",
    "tx_out = TxOut(target_amount, target_script)\n",
    "# create the Tx (remember network=\"signet\" and segwit=True)\n",
    "tx_obj = Tx(1, [tx_in], [tx_out], network=\"signet\", segwit=True)\n",
    "# create the control block from the TapLeaf passing in the group point\n",
    "cb = tap_leaf.control_block(group_point)\n",
    "# tx_in.initialize_p2tr_scriptpath with the tap script and control block\n",
    "tx_in.initialize_p2tr_scriptpath(tap_script, cb)\n",
    "# set the message to be the sig_hash on index 0\n",
    "msg = tx_obj.sig_hash(0)\n",
    "# generate a nonce\n",
    "my_nonce_share = me.generate_nonce_share(msg=msg, aggregate_pubkey=group_point, rand=b'')\n",
    "# print the nonce share serialized in hex for your neighbor\n",
    "print(my_nonce_share.serialize().hex())\n",
    "# grab your neighbor's nonce\n",
    "neighbor_share = NoncePublicShare.parse(bytes.fromhex(\"039c025e58f3c85e8b78b31418cc3ca372285c48310f7e034da1bde6a61d3e21850295e6031d9301f1bce466dc8dc0636007882dce665f2521a76f96d403599e8e33\"))\n",
    "# register both nonces with the coordinator\n",
    "coor.register_nonce_share(me.point.sec(), my_nonce_share)\n",
    "coor.register_nonce_share(neighbor_pubkey.sec(), neighbor_share)\n",
    "# create the signing context using the message\n",
    "context = coor.create_signing_context(msg)\n",
    "# create your own partial sig using the context\n",
    "my_partial_sig = me.sign(context)\n",
    "# register the partial sig with the coordinator\n",
    "coor.register_partial_sig(me.point.sec(), my_partial_sig)\n",
    "# print the hex of the partial signature\n",
    "print(my_partial_sig.hex())\n",
    "# grab your neighbor's partial signature\n",
    "neighbor_sig = bytes.fromhex(\"eefbf92cd0914d698f379ccbc2911234a5c2e6b5fc71823ef8bf3c8b889e7e3c\")\n",
    "# register your neighbor's partial sig\n",
    "coor.register_partial_sig(neighbor_pubkey.sec(), neighbor_sig)\n",
    "# compute the schnorr signature and serialize it\n",
    "sig = coor.compute_sig().serialize()\n",
    "# finalize_p2tr_scriptpath on tx_in with the sig\n",
    "tx_in.finalize_p2tr_scriptpath(sig)\n",
    "# check that the transaction verifies\n",
    "print(tx_obj.verify())\n",
    "# print the serialization of the tx in hex and broadcast it on https://mempool.space/signet/tx/push\n",
    "print(tx_obj.serialize().hex())"
   ]
  },
  {
   "cell_type": "markdown",
   "id": "7cee094d",
   "metadata": {
    "slideshow": {
     "slide_type": "slide"
    }
   },
   "source": [
    "# Trusted Dealer Setup\n",
    "* Dealer generates a secret $e$\n",
    "* Dealer creates a degree $t-1$ polynomial with random coefficients $a_1,...,a_{t-1}$\n",
    "* The dealer creates a polynomial $f(x)=e+a_1x+a_2x^2+...+a_{t-1}x^{t-1}$\n",
    "* $f(0)=e$ so that's where the secret is\n",
    "* Signer $i$ gets dealt $f(x)=y_i \\forall{i} \\in {1,2,...,n}$\n",
    "* $y_i$ is the share of the secret\n"
   ]
  },
  {
   "cell_type": "code",
   "execution_count": 5,
   "id": "21b03f50",
   "metadata": {
    "slideshow": {
     "slide_type": "slide"
    }
   },
   "outputs": [
    {
     "name": "stdout",
     "output_type": "stream",
     "text": [
      "132111105\n"
     ]
    }
   ],
   "source": [
    "# Example 3-of-5 Shamir\n",
    "from ecc import N\n",
    "coefficients = [21000000, 11111111, 2222222]\n",
    "shares = {}\n",
    "for x in range(1, 6):\n",
    "    y_value = 0\n",
    "    for i, coef in enumerate(coefficients):\n",
    "        y_value += coef * x ** i % N\n",
    "    shares[x] = y_value % N\n",
    "print(shares[5])"
   ]
  },
  {
   "cell_type": "markdown",
   "id": "cb946acd",
   "metadata": {
    "slideshow": {
     "slide_type": "slide"
    }
   },
   "source": [
    "### Exercise 3\n",
    "\n",
    "Create 7 shares whose threshold is 4\n",
    "\n"
   ]
  },
  {
   "cell_type": "code",
   "execution_count": 6,
   "id": "ae7edd27",
   "metadata": {},
   "outputs": [
    {
     "name": "stdout",
     "output_type": "stream",
     "text": [
      "1350999874\n"
     ]
    }
   ],
   "source": [
    "# Exercise 3\n",
    "\n",
    "from ecc import N\n",
    "coefficients = [21000000, 11111111, 2222222, 3333333]\n",
    "# initialize the shares dict\n",
    "shares = {}\n",
    "# loop through 1 to 7 inclusive as the x values\n",
    "for x in range(1, 8):\n",
    "    # set the y value to be 0\n",
    "    y_value = 0\n",
    "    # loop through the coefficients with the loop index\n",
    "    for i, coef in enumerate(coefficients):\n",
    "        # add the term coef * x^i to the y value\n",
    "        y_value += coef * x ** i % N\n",
    "    # set the share of x to be the y value mod N\n",
    "    shares[x] = y_value % N\n",
    "# print the last share\n",
    "print(shares[7])"
   ]
  },
  {
   "cell_type": "markdown",
   "id": "8fa930fd",
   "metadata": {
    "slideshow": {
     "slide_type": "slide"
    }
   },
   "source": [
    "### Exercise 4\n",
    "\n",
    "\n",
    "\n",
    "\n",
    "#### Make [this test](/edit/session4/frost.py) pass: `frost.py:PrivatePolynomialTest:test_y_value`"
   ]
  },
  {
   "cell_type": "code",
   "execution_count": 7,
   "id": "67499d6c",
   "metadata": {},
   "outputs": [
    {
     "name": "stderr",
     "output_type": "stream",
     "text": [
      ".\n",
      "----------------------------------------------------------------------\n",
      "Ran 1 test in 0.023s\n",
      "\n",
      "OK\n"
     ]
    }
   ],
   "source": [
    "# Exercise 4\n",
    "\n",
    "reload(frost)\n",
    "run(frost.PrivatePolynomialTest('test_y_value'))"
   ]
  },
  {
   "cell_type": "markdown",
   "id": "3bdef5ec",
   "metadata": {
    "slideshow": {
     "slide_type": "slide"
    }
   },
   "source": [
    "# Lagrange Interpolation Polynomial\n",
    "* For a participant at $x_i$ where $X = \\{x_1, x_2, ... x_t\\}$\n",
    "* Goal is a $t-1$ degree polynomial $g_i(x)$ such that: $g_i(x_i)=1$ and $g_i(x_j)=0$ where $j\\ne i$\n",
    "* Note $g_i(x_j)=0$ if $g_i(x)=(x-x_j)h(x)$\n",
    "* Let $h_i(x)=\\prod_{j \\ne i}{(x-x_j)}$\n",
    "* Note $h_i(x)$ is degree $t-1$\n",
    "* We note $h_i(x_i) = \\prod_{j \\ne i}{(x_i-x_j)}$\n",
    "* $g_i(x) = h_i(x)/h_i(x_i)$, $g_i(x_i)=h_i(x_i)/h_i(x_i)=1$ and $g_i(x_j)=0$ where $j\\ne i$\n"
   ]
  },
  {
   "cell_type": "code",
   "execution_count": 8,
   "id": "e1761091",
   "metadata": {
    "slideshow": {
     "slide_type": "slide"
    }
   },
   "outputs": [
    {
     "name": "stdout",
     "output_type": "stream",
     "text": [
      "0 0 1 936\n"
     ]
    }
   ],
   "source": [
    "from ecc import N\n",
    "# Example LaGrange polynomial with X = {1, 3, 4} for participant 4\n",
    "def g(x):\n",
    "    participants = [1, 3, 4]\n",
    "    x_i = 4\n",
    "    product = 1\n",
    "    for x_j in participants:\n",
    "        if x_j != x_i:\n",
    "            product *= (x-x_j) * pow(x_i - x_j, -1, N) % N\n",
    "    return product\n",
    "print(g(1), g(3), g(4), g(55))"
   ]
  },
  {
   "cell_type": "markdown",
   "id": "7bad5922",
   "metadata": {
    "slideshow": {
     "slide_type": "slide"
    }
   },
   "source": [
    "### Exercise 5\n",
    "\n",
    "Create a LaGrange polynomial of degree 4 where $X=\\{2,5,8,9\\}$ for participant 8 and determine the value at $g(0)$\n",
    "\n"
   ]
  },
  {
   "cell_type": "code",
   "execution_count": 9,
   "id": "a603778b",
   "metadata": {},
   "outputs": [
    {
     "name": "stdout",
     "output_type": "stream",
     "text": [
      "0 0 1 0 5\n"
     ]
    }
   ],
   "source": [
    "# Exercise 5\n",
    "\n",
    "from ecc import N\n",
    "# define g(x) to be the LaGrange polynomial\n",
    "def g(x):\n",
    "    # define the participants to be [2, 5, 8, 9]\n",
    "    participants = [2, 5, 8, 9]\n",
    "    # define the place where we want 1 to be x_i\n",
    "    x_i = 8\n",
    "    # set the product to 1\n",
    "    product = 1\n",
    "    # loop through the participants x_j\n",
    "    for x_j in participants:\n",
    "        # if this one is not the place where it's 1, multiply the product\n",
    "        if x_j != x_i:\n",
    "            # multiply by (x - x_j) / (x_i - x_j), division needs to use field division, that is, multiply by pow(a, -1, N)\n",
    "            product *= (x-x_j) * pow(x_i - x_j, -1, N) % N\n",
    "    # return the product mod N\n",
    "    return product % N\n",
    "print(g(2), g(5), g(8), g(9), g(0))"
   ]
  },
  {
   "cell_type": "markdown",
   "id": "ab195ba9",
   "metadata": {
    "slideshow": {
     "slide_type": "slide"
    }
   },
   "source": [
    "# Using LaGrange\n",
    "* $g_i(x)$ is degree $t-1$ where $g_i(x_i)=1$ and $g_i(x_j)=0$ where $j\\ne i$\n",
    "* Let $h_i(x)=y_ig_i(x)$ notice $h_i(x_i)=y_i$ and $h_i(x_j)=0$ when $j\\ne i$\n",
    "* In other words, $h_i(x)$ is degree $t-1$ and hits the point $(x_i,y_i)$\n",
    "* Let $h(x)=\\sum{h_i(x)}$. We know $h(x_j)=y_j$ because $h_i(x_j)=0$ except $h_j(x_j)=y_j$\n",
    "* $h(x_i)=y_i \\forall x_i \\in X$, hitting $t$ points.\n",
    "* Those points define the same polynomial $h(x)=f(x)$ where $f(x)$ is the dealer's original polynoomial\n",
    "* Since $f(0)=e$, $h(0)=\\sum{h_i(0)}$ meaning we can recover the secret through participant shares and Lagrange Interpolation Polynomials.\n"
   ]
  },
  {
   "cell_type": "code",
   "execution_count": 10,
   "id": "9b51f06c",
   "metadata": {
    "slideshow": {
     "slide_type": "slide"
    }
   },
   "outputs": [
    {
     "name": "stdout",
     "output_type": "stream",
     "text": [
      "0xdeadbeefdeadbeefdeadbeefdeadbeefdeadbeefdeadbeefdeadbeefdeadbeef\n"
     ]
    }
   ],
   "source": [
    "# example of recovering the secret\n",
    "from ecc import N\n",
    "participants = [1, 3, 4]\n",
    "share_1 = 0xd40aba11bbfdda09607aa1663606e170c57d312fe30be51797b79248fd18ce02\n",
    "share_3 = 0xb4e3bfec8f3d1404a5eba45ed4052cf1aba29f351d6a73cb3c5437dff82b834\n",
    "share_4 = 0x4d34c2c9f899ad5db275f0af4d20a1ab43d68d5d6b8be375d69b7fe6b3b7d494\n",
    "g_1, g_3, g_4 = 1, 1, 1\n",
    "for x_j in participants:\n",
    "    if x_j != 1:\n",
    "        g_1 *= (-x_j) * pow(1-x_j, -1, N) % N\n",
    "    if x_j != 3:\n",
    "        g_3 *= (-x_j) * pow(3-x_j, -1, N) % N\n",
    "    if x_j != 4:\n",
    "        g_4 *= (-x_j) * pow(4-x_j, -1, N) % N\n",
    "secret = (g_1*share_1 + g_3*share_3 + g_4*share_4) % N\n",
    "print(hex(secret))"
   ]
  },
  {
   "cell_type": "markdown",
   "id": "b95910c5",
   "metadata": {
    "slideshow": {
     "slide_type": "slide"
    }
   },
   "source": [
    "### Exercise 6\n",
    "\n",
    "Recover the secret with these shares:\n",
    "\n",
    "* 1: 0x2af74354f6bb87c9daf213d08dd636ec9a8a9bea20769c04e06c9dff011fd581\n",
    "* 3: 0xcaafb3996ca0efc36cc27a7c00a4cd01f4db21a7aa4129e2a5d881dae1f3e73d\n",
    "* 5: 0xdb5aba8ec27c1ff2c83091853a3acd520b95a222df747ee0d80a43420825bf42\n",
    "* 6: 0x13813a40d12ae1ffdf27c1cb008a490862f9003fbeaf3e13af55f2df3e419b2b\n",
    "\n"
   ]
  },
  {
   "cell_type": "code",
   "execution_count": 11,
   "id": "ef18cf39",
   "metadata": {},
   "outputs": [
    {
     "name": "stdout",
     "output_type": "stream",
     "text": [
      "0xabacadaba123abacadaba123\n"
     ]
    }
   ],
   "source": [
    "# Exercise 6\n",
    "\n",
    "# example of recovering the secret\n",
    "from ecc import N\n",
    "from secrets import randbelow\n",
    "from frost import lagrange_coef\n",
    "participants = [1, 3, 5, 6]\n",
    "share_1 = 0x2af74354f6bb87c9daf213d08dd636ec9a8a9bea20769c04e06c9dff011fd581\n",
    "share_3 = 0xcaafb3996ca0efc36cc27a7c00a4cd01f4db21a7aa4129e2a5d881dae1f3e73d\n",
    "share_5 = 0xdb5aba8ec27c1ff2c83091853a3acd520b95a222df747ee0d80a43420825bf42\n",
    "share_6 = 0x13813a40d12ae1ffdf27c1cb008a490862f9003fbeaf3e13af55f2df3e419b2b\n",
    "# initialize the LaGrange values\n",
    "g_1, g_3, g_5, g_6 = 1, 1, 1, 1\n",
    "# loop through the participants\n",
    "for x_j in participants:\n",
    "    # g_i = Π(-x_j)/(x_i-x_j) for all i != j\n",
    "    if x_j != 1:\n",
    "        g_1 *= (-x_j) * pow(1-x_j, -1, N) % N\n",
    "    if x_j != 3:\n",
    "        g_3 *= (-x_j) * pow(3-x_j, -1, N) % N\n",
    "    if x_j != 5:\n",
    "        g_5 *= (-x_j) * pow(5-x_j, -1, N) % N\n",
    "    if x_j != 6:\n",
    "        g_6 *= (-x_j) * pow(6-x_j, -1, N) % N\n",
    "# calculate the secret by multiplying the value at 0 by the share for each share\n",
    "secret = (g_1*share_1 + g_3*share_3 + g_5*share_5 + g_6*share_6) % N\n",
    "# print the secret in hex\n",
    "print(hex(secret))"
   ]
  },
  {
   "cell_type": "markdown",
   "id": "8e4bd2e4",
   "metadata": {
    "slideshow": {
     "slide_type": "slide"
    }
   },
   "source": [
    "### Exercise 7\n",
    "\n",
    "\n",
    "\n",
    "\n",
    "#### Make [this test](/edit/session4/frost.py) pass: `frost.py:LaGrangeTest:test_lagrange`"
   ]
  },
  {
   "cell_type": "code",
   "execution_count": 12,
   "id": "c2fc6d8c",
   "metadata": {},
   "outputs": [
    {
     "name": "stderr",
     "output_type": "stream",
     "text": [
      ".\n",
      "----------------------------------------------------------------------\n",
      "Ran 1 test in 0.000s\n",
      "\n",
      "OK\n"
     ]
    }
   ],
   "source": [
    "# Exercise 7\n",
    "\n",
    "reload(frost)\n",
    "run(frost.LaGrangeTest('test_lagrange'))"
   ]
  },
  {
   "cell_type": "markdown",
   "id": "d4e2d576",
   "metadata": {
    "slideshow": {
     "slide_type": "slide"
    }
   },
   "source": [
    "# Dealer Key Generation\n",
    "* Exactly as Shamir Secret Sharing, a private polynomial $f(x)=e+a_1x+a_2x^2...a_{t-1}x^{t-1}$ where secret is $e$ and $a_i$ is random\n",
    "* $y$ values at each $x$ is distributed as shares to signers\n",
    "* We create a public polynomial $F(x)$ which is $f(x)$ multiplied by $G$, $F(x)=f(x)G$ $F(x)=eG+a_1xG+a_2x^2G+...+a_{t-1}x^{t-1}G$\n",
    "* Note $F(x)=P+xA_1+x^2A_2+...+x^{t-1}A_{t-1}$ where $a_iG=A_i$. Note $F(0)=P$\n",
    "* $F(x)$ is a public polynomial to the signers\n",
    "* Each signer once receiving the secret $y_i=f(x_i)$, verifies by checking $y_iG=F(x_i)$\n",
    "* This $y_iG=F(x_i)=P_i$ is public.\n"
   ]
  },
  {
   "cell_type": "code",
   "execution_count": 13,
   "id": "1822b5da",
   "metadata": {
    "slideshow": {
     "slide_type": "slide"
    }
   },
   "outputs": [
    {
     "name": "stdout",
     "output_type": "stream",
     "text": [
      "02239ebf39e132124de2f7b16de42f8c277d0e7709e2639742348102303243c417\n",
      "020ac0bb6d6a1d089d0d48967e38862194ed853b24e30103e92dec365f209da7ec\n",
      "02004c6d43152ceb4b223abf96195a63d204deabb7c5897c78e81183b447a48fcc\n",
      "02af4f5bdad51bd2cc3f49fe162701b97d3d3253b0609f8226a68eb071352a20ff\n",
      "03b3a94860f86be63486d41c824df0b103f979f43372421ef6e99c8dba56a1f03a\n"
     ]
    }
   ],
   "source": [
    "# Example of creating 3-of-5 FrostSigners\n",
    "from frost import Dealer, FrostSigner\n",
    "dealer = Dealer([21000000, 2000, 3000])\n",
    "for x in range(1, 6):\n",
    "    signer = FrostSigner(x, dealer.y_value(x), dealer.public_polynomial)\n",
    "    print(signer.point.sec().hex())"
   ]
  },
  {
   "cell_type": "markdown",
   "id": "1c5aa27a",
   "metadata": {
    "slideshow": {
     "slide_type": "slide"
    }
   },
   "source": [
    "### Exercise 8\n",
    "\n",
    "Make 7 FrostSigners whose threshold is 4.\n",
    "\n"
   ]
  },
  {
   "cell_type": "code",
   "execution_count": 14,
   "id": "f8e19e16",
   "metadata": {},
   "outputs": [
    {
     "name": "stdout",
     "output_type": "stream",
     "text": [
      "4\n"
     ]
    }
   ],
   "source": [
    "# Exercise 8\n",
    "\n",
    "from frost import Dealer, FrostSigner\n",
    "# use the generate classmethod from Dealer to create a dealer of threshold 4\n",
    "dealer = Dealer.generate(4)\n",
    "# make a list of signers whose x's are 1,2,3,...7\n",
    "signers = [FrostSigner(x, dealer.y_value(x), dealer.public_polynomial) or x in range(1, 8)]\n",
    "# print the first signer's t\n",
    "print(signers[0].t)"
   ]
  },
  {
   "cell_type": "markdown",
   "id": "718ede43",
   "metadata": {
    "slideshow": {
     "slide_type": "slide"
    }
   },
   "source": [
    "### Exercise 9\n",
    "\n",
    "\n",
    "\n",
    "\n",
    "#### Make [this test](/edit/session4/frost.py) pass: `frost.py:DealerTest:test_create_signer`"
   ]
  },
  {
   "cell_type": "code",
   "execution_count": 15,
   "id": "17de99b2",
   "metadata": {},
   "outputs": [
    {
     "name": "stderr",
     "output_type": "stream",
     "text": [
      ".\n",
      "----------------------------------------------------------------------\n",
      "Ran 1 test in 0.312s\n",
      "\n",
      "OK\n"
     ]
    }
   ],
   "source": [
    "# Exercise 9\n",
    "\n",
    "reload(frost)\n",
    "run(frost.DealerTest('test_create_signer'))"
   ]
  },
  {
   "cell_type": "code",
   "execution_count": 16,
   "id": "abdb3ee2",
   "metadata": {
    "slideshow": {
     "slide_type": "slide"
    }
   },
   "outputs": [
    {
     "name": "stdout",
     "output_type": "stream",
     "text": [
      "0x32ec8d7a6b941b80bdf97deb231a9710583e6656e32e69e7aabf00e6e81153fb\n"
     ]
    }
   ],
   "source": [
    "# Example Partial Sig Generation\n",
    "from ecc import N\n",
    "from frost import Dealer, FrostSigner, FrostCoordinator, lagrange_coef\n",
    "from helper import int_to_big_endian\n",
    "msg = b\"FROST is awesome!\"\n",
    "dealer = Dealer([21000000, 9999999, 9998888, 8887777])\n",
    "signers = {x: dealer.create_signer(x) for x in range(1, 7)}\n",
    "participants = [1, 4, 5, 6]\n",
    "coor = FrostCoordinator(participants, dealer.public_polynomial)\n",
    "for x in participants:\n",
    "    p = signers[x]\n",
    "    nonce_share = p.generate_nonce_share(msg=msg, rand=b'')\n",
    "    coor.register_nonce_share(x, nonce_share)\n",
    "context = coor.create_signing_context(msg)\n",
    "if context.nonce_point.even:\n",
    "    k = signers[1].nonce(context.nonce_coef)\n",
    "else:\n",
    "    k = N - signers[1].nonce(context.nonce_coef)\n",
    "if context.group_point.even:\n",
    "    e = signers[1].private_key.secret\n",
    "else:\n",
    "    e = N - signers[1].private_key.secret\n",
    "c = lagrange_coef(participants, 1)\n",
    "d = context.challenge\n",
    "s = (k + c * d * e) % N\n",
    "print(hex(s))"
   ]
  },
  {
   "cell_type": "markdown",
   "id": "e506a94f",
   "metadata": {
    "slideshow": {
     "slide_type": "slide"
    }
   },
   "source": [
    "# Partial Sig Verification\n",
    "* To verify a partial signature, we need from the coordinator: message $z$, nonce point $R$, participants\n",
    "* We need from the participant nonce point $R_i$ and pubkey $P_i$\n",
    "* We use these to calculate LaGrange coefficient $c_i=g_i(0)$ and challenge $d=H(R || P || z)$\n",
    "* $s_i=k_i+c_i d y_i$ so what we check is $s_i G=k_iG+c_i d y_i G=R_i+c_i d P_i$ or $R=s_i G-c_i d P_i$\n"
   ]
  },
  {
   "cell_type": "code",
   "execution_count": 17,
   "id": "09cc3ed4",
   "metadata": {
    "slideshow": {
     "slide_type": "slide"
    }
   },
   "outputs": [
    {
     "name": "stdout",
     "output_type": "stream",
     "text": [
      "True\n"
     ]
    }
   ],
   "source": [
    "# Example Partial Sig Verification\n",
    "from ecc import N, G\n",
    "from frost import Dealer, FrostSigner, FrostCoordinator, lagrange_coef\n",
    "from helper import int_to_big_endian\n",
    "msg = b\"FROST is awesome!\"\n",
    "dealer = Dealer([21000000, 9999999, 9998888, 8887777])\n",
    "signers = {x: dealer.create_signer(x) for x in range(1, 7)}\n",
    "participants = [1, 4, 5, 6]\n",
    "coor = FrostCoordinator(participants, dealer.public_polynomial)\n",
    "for x in participants:\n",
    "    p = signers[x]\n",
    "    nonce_share = p.generate_nonce_share(msg=msg, rand=b'')\n",
    "    coor.register_nonce_share(x, nonce_share)\n",
    "context = coor.create_signing_context(msg)\n",
    "nonce_public_share = coor.nonce_shares[1]\n",
    "partial_sig = bytes.fromhex(\"32ec8d7a6b941b80bdf97deb231a9710583e6656e32e69e7aabf00e6e81153fb\")\n",
    "if context.nonce_point.even:\n",
    "    r = nonce_public_share.nonce_point(context.nonce_coef)\n",
    "else:\n",
    "    r = -1 * nonce_public_share.nonce_point(context.nonce_coef)\n",
    "if context.group_point.even:\n",
    "    p = signers[1].point\n",
    "else:\n",
    "    p = -1 * signers[1].point\n",
    "c = lagrange_coef(participants, 1)\n",
    "d = context.challenge\n",
    "print(s * G == (r + c * d * p))"
   ]
  },
  {
   "cell_type": "markdown",
   "id": "b17bbb05",
   "metadata": {
    "slideshow": {
     "slide_type": "slide"
    }
   },
   "source": [
    "### Exercise 10\n",
    "\n",
    "Calculate the partial signature for participant 2:\n",
    "\n",
    "Dealer Coefficients = [12345, 67890]\n",
    "\n",
    "message: b\"Hello World!\"\n",
    "\n",
    "Participant 1's $l$ and $m$: 3000, 4000\n",
    "Participant 2's $l$ and $m$: 5000, 6000\n",
    "\n"
   ]
  },
  {
   "cell_type": "code",
   "execution_count": 18,
   "id": "87378a7c",
   "metadata": {},
   "outputs": [
    {
     "name": "stdout",
     "output_type": "stream",
     "text": [
      "0x82f5ea3360c82882a851abf95324d079392fd0c70d7e56a15e0aa8e5c3fb983f\n"
     ]
    }
   ],
   "source": [
    "# Exercise 10\n",
    "\n",
    "from ecc import N, PrivateKey\n",
    "from frost import Dealer, FrostSigner, FrostCoordinator, lagrange_coef, NoncePrivateShare\n",
    "dealer = Dealer([12345, 67890])\n",
    "msg = b\"Hello World!\"\n",
    "signers = {x: dealer.create_signer(x) for x in range(1, 4)}\n",
    "participants = [1, 2]\n",
    "coor = FrostCoordinator(participants, dealer.public_polynomial)\n",
    "participant_1 = signers[1]\n",
    "participant_2 = signers[2]\n",
    "nonce_share_1 = NoncePrivateShare(3000, 4000, participant_1.point)\n",
    "nonce_share_2 = NoncePrivateShare(5000, 6000, participant_2.point)\n",
    "participant_1.private_nonce_share = nonce_share_1\n",
    "participant_2.private_nonce_share = nonce_share_2\n",
    "coor.register_nonce_share(1, nonce_share_1.public_share)\n",
    "coor.register_nonce_share(2, nonce_share_2.public_share)\n",
    "# create the signing context\n",
    "context = coor.create_signing_context(msg)\n",
    "# determine the second participant's nonce (k_i) from the nonce point's evenness\n",
    "if context.nonce_point.even:\n",
    "    k = participant_2.nonce(context.nonce_coef)\n",
    "else:\n",
    "    k = N - participant_2.nonce(context.nonce_coef)\n",
    "# determine the second participant's secret (y_i) from the group point's evenness\n",
    "if context.group_point.even:\n",
    "    y = participant_2.private_key.secret\n",
    "else:\n",
    "    y = N - participant_2.private_key.secret\n",
    "# use the lagrange_coef function to get the lagrange coefficient (c_i = g_i(x_i))\n",
    "c = lagrange_coef(participants, 2)\n",
    "# use the context's challenge property to get the group challenge (d = H(R||P||z))\n",
    "d = context.challenge\n",
    "# now get the partial signature s_i = k + c_i * d * y_i mod N\n",
    "s = (k + c * d * y) % N\n",
    "# print the hex of the partial signature\n",
    "print(hex(s))"
   ]
  },
  {
   "cell_type": "markdown",
   "id": "b694d84e",
   "metadata": {
    "slideshow": {
     "slide_type": "slide"
    }
   },
   "source": [
    "### Exercise 11\n",
    "\n",
    "Verify the partial signature for participant 2\n",
    "\n"
   ]
  },
  {
   "cell_type": "code",
   "execution_count": 19,
   "id": "31f6a962",
   "metadata": {},
   "outputs": [
    {
     "name": "stdout",
     "output_type": "stream",
     "text": [
      "True\n"
     ]
    }
   ],
   "source": [
    "# Exercise 11\n",
    "\n",
    "from ecc import N, PrivateKey\n",
    "from frost import Dealer, FrostSigner, FrostCoordinator, lagrange_coef, NoncePrivateShare\n",
    "dealer = Dealer([12345, 67890])\n",
    "msg = b\"Hello World!\"\n",
    "signers = {x: dealer.create_signer(x) for x in range(1, 4)}\n",
    "participants = [1, 2]\n",
    "coor = FrostCoordinator(participants, dealer.public_polynomial)\n",
    "participant_1 = signers[1]\n",
    "participant_2 = signers[2]\n",
    "raw_nonce_1 = bytes.fromhex(\"03ed214e8ce499d92a2085e7e6041b4f081c7d29d8770057fc705a131d2918fcdb02609ae8d31e3b290e74483776c1c8dfc2756b87d9635d654eb9e1ca95c228b169\")\n",
    "raw_nonce_2 = bytes.fromhex(\"02ffe558e388852f0120e46af2d1b370f85854a8eb0841811ece0e3e03d282d57c02d42d696f2c343dc67d80fcd85dbbdb2edef3cac71126625d0cbcacc231a00015\")\n",
    "nonce_share_1 = NoncePublicShare.parse(raw_nonce_1)\n",
    "nonce_share_2 = NoncePublicShare.parse(raw_nonce_2)\n",
    "coor.register_nonce_share(1, nonce_share_1)\n",
    "coor.register_nonce_share(2, nonce_share_2)\n",
    "# fill in what s equals from the last exercise\n",
    "s = 0x82f5ea3360c82882a851abf95324d079392fd0c70d7e56a15e0aa8e5c3fb983f\n",
    "# create the signing context\n",
    "context = coor.create_signing_context(msg)\n",
    "# determine the second participant's nonce point (R_i) from the nonce point's evenness\n",
    "if context.nonce_point.even:\n",
    "    r = nonce_share_2.nonce_point(context.nonce_coef)\n",
    "else:\n",
    "    r = -1 * nonce_share_2.nonce_point(context.nonce_coef)\n",
    "# determine the second participant's pubkey (P_i) from the group point's evenness\n",
    "if context.group_point.even:\n",
    "    p = participant_2.point\n",
    "else:\n",
    "    p = -1 * participant_2.point\n",
    "# get the LaGrange coefficient (c_i) for the second participant\n",
    "c = lagrange_coef(participants, 2)\n",
    "# get the challenge for the group (d)\n",
    "d = context.challenge\n",
    "# check if s_i * G == R + c * d * P\n",
    "print(s * G == r + c * d * p)"
   ]
  },
  {
   "cell_type": "markdown",
   "id": "c66e821b",
   "metadata": {
    "slideshow": {
     "slide_type": "slide"
    }
   },
   "source": [
    "### Exercise 12\n",
    "\n",
    "Sum the partial signatures, create a Schnorr Signature and verify it using the group point\n",
    "\n"
   ]
  },
  {
   "cell_type": "code",
   "execution_count": 20,
   "id": "031da7c4",
   "metadata": {},
   "outputs": [
    {
     "name": "stdout",
     "output_type": "stream",
     "text": [
      "True\n"
     ]
    }
   ],
   "source": [
    "# Exercise 12\n",
    "\n",
    "from ecc import N, PrivateKey, SchnorrSignature\n",
    "from frost import Dealer, FrostSigner, FrostCoordinator, lagrange_coef, NoncePrivateShare\n",
    "dealer = Dealer([12345, 67890])\n",
    "msg = b\"Hello World!\"\n",
    "signers = {x: dealer.create_signer(x) for x in range(1, 4)}\n",
    "participants = [1, 2]\n",
    "coor = FrostCoordinator(participants, dealer.public_polynomial)\n",
    "participant_1 = signers[1]\n",
    "participant_2 = signers[2]\n",
    "raw_nonce_1 = bytes.fromhex(\"03ed214e8ce499d92a2085e7e6041b4f081c7d29d8770057fc705a131d2918fcdb02609ae8d31e3b290e74483776c1c8dfc2756b87d9635d654eb9e1ca95c228b169\")\n",
    "raw_nonce_2 = bytes.fromhex(\"02ffe558e388852f0120e46af2d1b370f85854a8eb0841811ece0e3e03d282d57c02d42d696f2c343dc67d80fcd85dbbdb2edef3cac71126625d0cbcacc231a00015\")\n",
    "nonce_share_1 = NoncePublicShare.parse(raw_nonce_1)\n",
    "nonce_share_2 = NoncePublicShare.parse(raw_nonce_2)\n",
    "coor.register_nonce_share(1, nonce_share_1)\n",
    "coor.register_nonce_share(2, nonce_share_2)\n",
    "context = coor.create_signing_context(msg)\n",
    "s_1 = 0xa9752dd83e4714576d301274b89ba1042df1c666c4db491b9ba8fb70aaaadc1f\n",
    "s_2 = 0x82f5ea3360c82882a851abf95324d079392fd0c70d7e56a15e0aa8e5c3fb983f\n",
    "# sum the two partial sigs and mod by N\n",
    "s = (s_1 + s_2) % N\n",
    "# get the nonce point from the context\n",
    "r = context.nonce_point\n",
    "# create the Schnorr Signature using the r and the s\n",
    "sig = SchnorrSignature(r, s)\n",
    "# check the validity of the schnorr signature using the group point from the context\n",
    "print(coor.group_point.verify_schnorr(msg, sig))"
   ]
  },
  {
   "cell_type": "markdown",
   "id": "a6f50e57",
   "metadata": {
    "slideshow": {
     "slide_type": "slide"
    }
   },
   "source": [
    "### Exercise 13\n",
    "\n",
    "\n",
    "\n",
    "\n",
    "#### Make [this test](/edit/session4/frost.py) pass: `frost.py:PartialSigTest:test_verify`"
   ]
  },
  {
   "cell_type": "code",
   "execution_count": 21,
   "id": "f72ca1b8",
   "metadata": {},
   "outputs": [
    {
     "name": "stderr",
     "output_type": "stream",
     "text": [
      ".\n",
      "----------------------------------------------------------------------\n",
      "Ran 1 test in 0.618s\n",
      "\n",
      "OK\n"
     ]
    }
   ],
   "source": [
    "# Exercise 13\n",
    "\n",
    "reload(frost)\n",
    "run(frost.PartialSigTest('test_verify'))"
   ]
  },
  {
   "cell_type": "markdown",
   "id": "99c2c038",
   "metadata": {
    "slideshow": {
     "slide_type": "slide"
    }
   },
   "source": [
    "### Exercise 14\n",
    "\n",
    "\n",
    "\n",
    "\n",
    "#### Make [this test](/edit/session4/frost.py) pass: `frost.py:PartialSigTest:test_sign`"
   ]
  },
  {
   "cell_type": "code",
   "execution_count": 22,
   "id": "97ea3f40",
   "metadata": {},
   "outputs": [
    {
     "name": "stderr",
     "output_type": "stream",
     "text": [
      ".\n",
      "----------------------------------------------------------------------\n",
      "Ran 1 test in 4.443s\n",
      "\n",
      "OK\n"
     ]
    }
   ],
   "source": [
    "# Exercise 14\n",
    "\n",
    "reload(frost)\n",
    "run(frost.PartialSigTest('test_sign'))"
   ]
  },
  {
   "cell_type": "markdown",
   "id": "0376bdd6",
   "metadata": {
    "slideshow": {
     "slide_type": "slide"
    }
   },
   "source": [
    "# FROST Group Point Tweaking\n",
    "* If the FROST group point is the KeyPath Spend, then there is a tweak $t$\n",
    "* The group point $P$ and tweak $t$ make the external pubkey $Q=P+tG$\n",
    "* $Q$ is $x$-only, so that determines $y_i$ negation, not the $P$\n",
    "* We set $Q$ to be the group point\n"
   ]
  },
  {
   "cell_type": "code",
   "execution_count": 23,
   "id": "2f8fb7fe",
   "metadata": {
    "slideshow": {
     "slide_type": "slide"
    }
   },
   "outputs": [
    {
     "name": "stdout",
     "output_type": "stream",
     "text": [
      "026c45b3bf6705f29302e0f5b911aa5cb84128576f765723ca955c2d6f7916d3a2\n"
     ]
    }
   ],
   "source": [
    "# example of tweaking the FROST group pubkey\n",
    "from frost import Dealer, FrostCoordinator\n",
    "dealer = Dealer([21000000, 12345, 67890])\n",
    "signers = {x: dealer.create_signer(x) for x in range(1, 7)}\n",
    "merkle_root = b\"\"\n",
    "participants = [1, 3, 6]\n",
    "coor = FrostCoordinator(participants, dealer.public_polynomial, merkle_root=merkle_root)\n",
    "for x in participants:\n",
    "    p = signers[x]\n",
    "    nonce_share = p.generate_nonce_share(msg=msg, rand=b'')\n",
    "    coor.register_nonce_share(x, nonce_share)\n",
    "context = coor.create_signing_context(msg)\n",
    "print(context.group_point.sec().hex())"
   ]
  },
  {
   "cell_type": "markdown",
   "id": "b1d7fed6",
   "metadata": {
    "slideshow": {
     "slide_type": "slide"
    }
   },
   "source": [
    "# Partial Sig Aggregation for even/odd $Q$\n",
    "* For even $Q$: the Schnorr Signature $(R, s+td)$ will validate for the tweaked key $Q$\n",
    "* For odd $Q$: The Schnorr Signature $(R, s-td)$ will validate for the tweaked key $-Q$\n"
   ]
  },
  {
   "cell_type": "code",
   "execution_count": 24,
   "id": "89b03f13",
   "metadata": {
    "slideshow": {
     "slide_type": "slide"
    }
   },
   "outputs": [
    {
     "name": "stdout",
     "output_type": "stream",
     "text": [
      "0aebd63a6cd3863a2a104a03ccfb88f958274050380a9e230f288c18fc834177\n",
      "True\n",
      "True\n",
      "01000000000101fa285af43b89301ed47a13031b18403cd7188bf109da36522f93995d4a67783c0000000000ffffffff01ac84010000000000160014f5a74a3131dedb57a092ae86aad3ee3f9b8d7214014062418375ee48647598819439a947b5afe31865bd382ce422540299045a2f474db65f4de60b6b3529966dc7b62cc9c03ce5f6f41571123a47a6cf78d77cc96c6f00000000\n"
     ]
    }
   ],
   "source": [
    "# Example FROST KeyPath Spend\n",
    "from ecc import N, PrivateKey, S256Point\n",
    "from frost import Dealer, FrostSigner, FrostCoordinator\n",
    "from script import address_to_script_pubkey\n",
    "from tx import TxIn, TxOut, Tx\n",
    "prev_tx = bytes.fromhex(\"3c78674a5d99932f5236da09f18b18d73c40181b03137ad41e30893bf45a28fa\")\n",
    "prev_index = 0\n",
    "fee = 500\n",
    "tx_in = TxIn(prev_tx, prev_index)\n",
    "target_amount = tx_in.value(network=\"signet\") - fee\n",
    "target_script = address_to_script_pubkey(\"tb1q7kn55vf3mmd40gyj46r245lw87dc6us5n50lrg\")\n",
    "tx_out = TxOut(target_amount, target_script)\n",
    "tx_obj = Tx(1, [tx_in], [tx_out], network=\"signet\", segwit=True)\n",
    "msg = tx_obj.sig_hash(0)\n",
    "dealer = Dealer([21000000, 1234567890])\n",
    "signers = {x: dealer.create_signer(x) for x in range(1, 4)}\n",
    "merkle_root = b\"\"\n",
    "participants = [1, 3]\n",
    "coor = FrostCoordinator(participants, dealer.public_polynomial, merkle_root=merkle_root)\n",
    "for x in participants:\n",
    "    p = signers[x]\n",
    "    nonce_share = p.generate_nonce_share(msg=msg, rand=b'')\n",
    "    coor.register_nonce_share(x, nonce_share)\n",
    "me = signers[1]\n",
    "context = coor.create_signing_context(msg)\n",
    "my_partial_sig = me.sign(context)\n",
    "coor.register_partial_sig(1, my_partial_sig)\n",
    "print(my_partial_sig.hex())\n",
    "neighbor_sig = bytes.fromhex(\"6a8ef5084dcaa656f7ef5ed52867f12a9420425703500dc7d09c3bd3a3d22933\")\n",
    "coor.register_partial_sig(3, neighbor_sig)\n",
    "s_1 = big_endian_to_int(my_partial_sig)\n",
    "s_2 = big_endian_to_int(neighbor_sig)\n",
    "s = (s_1 + s_2) % N\n",
    "d = context.challenge\n",
    "t = coor.tweak_amount\n",
    "if context.group_point.even:\n",
    "    s = (s + d * t) % N\n",
    "else:\n",
    "    s = (s - d * t) % N\n",
    "r = context.nonce_point\n",
    "sig = SchnorrSignature(r, s)\n",
    "print(context.group_point.verify_schnorr(msg, sig))\n",
    "tx_in.finalize_p2tr_keypath(sig.serialize())\n",
    "print(tx_obj.verify())\n",
    "print(tx_obj.serialize().hex())"
   ]
  },
  {
   "cell_type": "markdown",
   "id": "2b732270",
   "metadata": {
    "slideshow": {
     "slide_type": "slide"
    }
   },
   "source": [
    "### Exercise 15\n",
    "\n",
    "\n",
    "\n",
    "\n",
    "#### Make [this test](/edit/session4/frost.py) pass: `frost.py:PartialSigTest:test_compute_sig`"
   ]
  },
  {
   "cell_type": "code",
   "execution_count": 25,
   "id": "f78c720e",
   "metadata": {},
   "outputs": [
    {
     "name": "stderr",
     "output_type": "stream",
     "text": [
      ".\n",
      "----------------------------------------------------------------------\n",
      "Ran 1 test in 1.663s\n",
      "\n",
      "OK\n"
     ]
    }
   ],
   "source": [
    "# Exercise 15\n",
    "\n",
    "reload(frost)\n",
    "run(frost.PartialSigTest('test_compute_sig'))"
   ]
  }
 ],
 "metadata": {
  "kernelspec": {
   "display_name": "Python 3 (ipykernel)",
   "language": "python",
   "name": "python3"
  },
  "language_info": {
   "codemirror_mode": {
    "name": "ipython",
    "version": 3
   },
   "file_extension": ".py",
   "mimetype": "text/x-python",
   "name": "python",
   "nbconvert_exporter": "python",
   "pygments_lexer": "ipython3",
   "version": "3.11.5"
  }
 },
 "nbformat": 4,
 "nbformat_minor": 5
}
