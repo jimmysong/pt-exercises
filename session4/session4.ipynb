{
 "cells": [
  {
   "cell_type": "code",
   "execution_count": null,
   "id": "63abc270",
   "metadata": {
    "slideshow": {
     "slide_type": "skip"
    }
   },
   "outputs": [],
   "source": [
    "############## PLEASE RUN THIS CELL FIRST! ###################\n",
    "\n",
    "# import everything and define a test runner function\n",
    "from importlib import reload\n",
    "from helper import run\n",
    "import frost"
   ]
  },
  {
   "cell_type": "code",
   "execution_count": null,
   "id": "a99aed5c",
   "metadata": {
    "slideshow": {
     "slide_type": "slide"
    }
   },
   "outputs": [],
   "source": [
    "# Example MuSig2 KeyPath Spend\n",
    "from ecc import N, PrivateKey, S256Point\n",
    "from musig import KeyAggregator, NoncePublicShare, MuSigParticipant, MuSigCoordinator\n",
    "from script import address_to_script_pubkey\n",
    "from taproot import TapScript, TapLeaf\n",
    "from tx import TxIn, TxOut, Tx\n",
    "my_secret = 21000000\n",
    "me = MuSigParticipant(PrivateKey(my_secret))\n",
    "my_pubkey = me.point\n",
    "neighbor_pubkey = S256Point.parse(bytes.fromhex(\"029addad123cfcfa19c501dd1f15ca93b74a57ef88aa34035470dd46e54b5931c6\"))\n",
    "pubkeys = [my_pubkey, neighbor_pubkey]\n",
    "keyagg = KeyAggregator(pubkeys)\n",
    "group_point = keyagg.group_point\n",
    "ts = TapScript([group_point.xonly(), 0xAC])\n",
    "leaf = TapLeaf(ts)\n",
    "merkle_root = leaf.hash()\n",
    "coor = MuSigCoordinator(pubkeys, merkle_root)\n",
    "prev_tx = bytes.fromhex(\"4b5fbb9de406a16e133fdb9ea0adcfa2dac40c1f6b82e4b58d5ce28229618f1c\")\n",
    "prev_index = 0\n",
    "fee = 500\n",
    "tx_in = TxIn(prev_tx, prev_index)\n",
    "target_amount = tx_in.value(network=\"signet\") - fee\n",
    "target_script = address_to_script_pubkey(\"tb1q7kn55vf3mmd40gyj46r245lw87dc6us5n50lrg\")\n",
    "tx_out = TxOut(target_amount, target_script)\n",
    "tx_obj = Tx(1, [tx_in], [tx_out], network=\"signet\", segwit=True)\n",
    "msg = tx_obj.sig_hash(0)\n",
    "my_nonce_share = me.generate_nonce_share(msg=msg, aggregate_pubkey=group_point, rand=b'')\n",
    "print(my_nonce_share.serialize().hex())\n",
    "neighbor_share = NoncePublicShare.parse(bytes.fromhex(\"02d8ffef7503cec7a5046d238f53d5f599e57772813aa8b4c1cbd017a453fbcd25026bc7edd0264573f8e90e2f1d6753b0004010d8d1c235f5f1c44995f5376a0e81\"))\n",
    "coor.register_nonce_share(my_pubkey.sec(), my_nonce_share)\n",
    "coor.register_nonce_share(neighbor_pubkey.sec(), neighbor_share)\n",
    "context = coor.create_signing_context(msg)\n",
    "my_partial_sig = me.sign(context)\n",
    "coor.register_partial_sig(my_pubkey.sec(), my_partial_sig)\n",
    "print(my_partial_sig.hex())\n",
    "neighbor_sig = bytes.fromhex(\"82420b4a9accb4392eb850cb1853849a03a35711f3d7ae112eff9fd3214bc538\")\n",
    "coor.register_partial_sig(neighbor_pubkey.sec(), neighbor_sig)\n",
    "sig = coor.compute_sig().serialize()\n",
    "tx_in.finalize_p2tr_keypath(sig)\n",
    "print(tx_obj.verify())\n",
    "print(tx_obj.serialize().hex())"
   ]
  },
  {
   "cell_type": "markdown",
   "id": "89af7a67",
   "metadata": {
    "slideshow": {
     "slide_type": "slide"
    }
   },
   "source": [
    "### Exercise 1\n",
    "\n",
    "You have been sent 2 UTXOs to the address you created in the last session.\n",
    "KeyPath spend one of the UTXO to <code>tb1q7kn55vf3mmd40gyj46r245lw87dc6us5n50lrg</code>. Use <a href=\"https://mempool.space/signet/tx/push to broadcast your transaction\" target=\"_mempool\">Mempool Signet</a> to broadcast your transaction.\n",
    "\n"
   ]
  },
  {
   "cell_type": "code",
   "execution_count": null,
   "id": "5f0b40ee",
   "metadata": {},
   "outputs": [],
   "source": [
    "# Exercise 1\n",
    "\n",
    "from ecc import N, PrivateKey, S256Point\n",
    "from helper import big_endian_to_int, sha256\n",
    "from musig import KeyAggregator, NoncePublicShare, MuSigParticipant, MuSigCoordinator\n",
    "from script import address_to_script_pubkey\n",
    "from taproot import TapScript, TapLeaf\n",
    "from tx import TxIn, TxOut, Tx\n",
    "from witness import Witness\n",
    "my_secret = big_endian_to_int(sha256(b\"<my email address>\"))\n",
    "me = MuSigParticipant(PrivateKey(my_secret))\n",
    "neighbor_pubkey = S256Point.parse(bytes.fromhex(\"<my neighbor's sec pubkey>\"))\n",
    "pubkeys = [me.point, neighbor_pubkey]\n",
    "keyagg = KeyAggregator(pubkeys)\n",
    "group_point = keyagg.group_point\n",
    "ts = TapScript([group_point.xonly(), 0xAC])\n",
    "leaf = TapLeaf(ts)\n",
    "merkle_root = leaf.hash()\n",
    "coor = MuSigCoordinator(pubkeys, merkle_root)\n",
    "prev_tx = bytes.fromhex(\"<fiil me in>\")\n",
    "prev_index = -1  # change me!\n",
    "fee = 500\n",
    "# create a transaction input with the previous tx and index\n",
    "\n",
    "# calculate the amount using the value in the UTXO minus the fee\n",
    "\n",
    "target_address = \"tb1q7kn55vf3mmd40gyj46r245lw87dc6us5n50lrg\"\n",
    "# use the address_to_script_pubkey method to get the output script pubkey\n",
    "\n",
    "# create the TxOut\n",
    "\n",
    "# create the Tx (remember network=\"signet\" and segwit=True)\n",
    "\n",
    "# set the message to be the sig_hash on index 0\n",
    "\n",
    "# generate a nonce\n",
    "\n",
    "# print the nonce share serialized in hex for your neighbor\n",
    "\n",
    "# grab your neighbor's nonce\n",
    "neighbor_share = NoncePublicShare.parse(bytes.fromhex(\"<fill in>\"))\n",
    "# register both nonces with the coordinator\n",
    "\n",
    "\n",
    "# create the signing context using the message\n",
    "\n",
    "# create your own partial sig using the context\n",
    "\n",
    "# register the partial sig with the coordinator\n",
    "\n",
    "# print the hex of the partial signature\n",
    "\n",
    "# grab your neighbor's partial signature\n",
    "neighbor_sig = bytes.fromhex(\"<fill in>\")\n",
    "# register your neighbor's partial sig\n",
    "\n",
    "# compute the schnorr signature and serialize it\n",
    "\n",
    "# use the TxIn's finalize_p2tr_keypath to insert the signature to the transaction\n",
    "\n",
    "# check that the transaction verifies\n",
    "\n",
    "# print the serialization of the tx in hex and broadcast it on https://mempool.space/signet/tx/push\n"
   ]
  },
  {
   "cell_type": "markdown",
   "id": "c41600f0",
   "metadata": {
    "slideshow": {
     "slide_type": "slide"
    }
   },
   "source": [
    "### Exercise 2\n",
    "\n",
    "BONUS! Don't do this one unless you finished the previous exercise and have time. You have been sent 2 UTXOs to the address you created in the last session. ScriptPath spend the UTXO you haven't spent yet to the same address. Use <a href=\"https://mempool.space/signet/tx/push to broadcast your transaction\" target=\"_mempool\">Mempool Signet</a> to broadcast your transaction.\n",
    "\n"
   ]
  },
  {
   "cell_type": "code",
   "execution_count": null,
   "id": "5b1a5fd8",
   "metadata": {},
   "outputs": [],
   "source": [
    "# Exercise 2\n",
    "\n",
    "from ecc import N, PrivateKey, S256Point\n",
    "from helper import big_endian_to_int, sha256\n",
    "from musig import KeyAggregator, NoncePublicShare, MuSigParticipant, MuSigCoordinator\n",
    "from script import address_to_script_pubkey\n",
    "from taproot import TapScript, TapLeaf\n",
    "from tx import TxIn, TxOut, Tx\n",
    "from witness import Witness\n",
    "my_secret = big_endian_to_int(sha256(b\"<my email address>\"))\n",
    "me = MuSigParticipant(PrivateKey(my_secret))\n",
    "my_pubkey = me.point\n",
    "neighbor_pubkey = S256Point.parse(bytes.fromhex(\"<my neighbor's sec pubkey>\"))\n",
    "pubkeys = [my_pubkey, neighbor_pubkey]\n",
    "keyagg = KeyAggregator(pubkeys)\n",
    "group_point = keyagg.group_point\n",
    "tap_script = TapScript([group_point.xonly(), 0xAC])\n",
    "tap_leaf = tap_script.tap_leaf()\n",
    "coor = MuSigCoordinator(pubkeys)\n",
    "prev_tx = bytes.fromhex(\"<fiil me in>\")\n",
    "prev_index = -1  # change me!\n",
    "fee = 500\n",
    "# create a transaction input with the previous tx and index\n",
    "\n",
    "# calculate the amount using the value in the UTXO minus the fee\n",
    "\n",
    "target_address = \"tb1q7kn55vf3mmd40gyj46r245lw87dc6us5n50lrg\"\n",
    "# use the address_to_script_pubkey method to get the output script pubkey\n",
    "\n",
    "# create the TxOut\n",
    "\n",
    "# create the Tx (remember network=\"signet\" and segwit=True)\n",
    "\n",
    "# create the control block from the TapLeaf passing in the group point\n",
    "\n",
    "# set the tx_in's witness to be a new witness with two elements, the tap_script raw serialized and the control block serialized\n",
    "\n",
    "# set the message to be the sig_hash on index 0\n",
    "\n",
    "# generate a nonce\n",
    "\n",
    "# print the nonce share serialized in hex for your neighbor\n",
    "\n",
    "# grab your neighbor's nonce\n",
    "neighbor_share = NoncePublicShare.parse(bytes.fromhex(\"<fill in>\"))\n",
    "# register both nonces with the coordinator\n",
    "\n",
    "\n",
    "# create the signing context using the message\n",
    "\n",
    "# create your own partial sig using the context\n",
    "\n",
    "# register the partial sig with the coordinator\n",
    "\n",
    "# print the hex of the partial signature\n",
    "\n",
    "# grab your neighbor's partial signature\n",
    "neighbor_sig = bytes.fromhex(\"<fill in>\")\n",
    "# register your neighbor's partial sig\n",
    "\n",
    "# compute the schnorr signature and serialize it\n",
    "\n",
    "# insert the sig in front of the other elements in the witness using tx_in.witness.items.insert\n",
    "\n",
    "# check that the transaction verifies\n",
    "\n",
    "# print the serialization of the tx in hex and broadcast it on https://mempool.space/signet/tx/push\n"
   ]
  },
  {
   "cell_type": "markdown",
   "id": "b0b1663f",
   "metadata": {
    "slideshow": {
     "slide_type": "slide"
    }
   },
   "source": [
    "# Trusted Dealer Setup\n",
    "* Dealer generates a secret $e$\n",
    "* Dealer creates a degree $t-1$ polynomial with random coefficients $a_1,...,a_{t-1}$\n",
    "* The dealer creates a polynomial $f(x)=e+a_1x+a_2x^2+...+a_{t-1}x^{t-1}$\n",
    "* $f(0)=e$ so that's where the secret is\n",
    "* Signer $i$ gets dealt $f(x)=y_i \\forall{i} \\in {1,2,...,n}$\n",
    "* $y_i$ is the share of the secret\n"
   ]
  },
  {
   "cell_type": "code",
   "execution_count": null,
   "id": "e455735b",
   "metadata": {
    "slideshow": {
     "slide_type": "slide"
    }
   },
   "outputs": [],
   "source": [
    "# Example 3-of-5 Shamir\n",
    "from ecc import N\n",
    "coefficients = [21000000, 11111111, 2222222]\n",
    "shares = {}\n",
    "for x in range(1, 6):\n",
    "    y_value = 0\n",
    "    for i, coef in enumerate(coefficients):\n",
    "        y_value += coef * x ** i % N\n",
    "    shares[x] = y_value % N\n",
    "print(shares[5])"
   ]
  },
  {
   "cell_type": "markdown",
   "id": "32d3b35c",
   "metadata": {
    "slideshow": {
     "slide_type": "slide"
    }
   },
   "source": [
    "### Exercise 3\n",
    "\n",
    "Create 7 shares whose threshold is 4\n",
    "\n"
   ]
  },
  {
   "cell_type": "code",
   "execution_count": null,
   "id": "205e1d75",
   "metadata": {},
   "outputs": [],
   "source": [
    "# Exercise 3\n",
    "\n",
    "from ecc import N\n",
    "coefficients = [21000000, 11111111, 2222222, 3333333]\n",
    "# initialize the shares dict\n",
    "\n",
    "# loop through 1 to 7 inclusive as the x values\n",
    "\n",
    "   # set the y value to be 0\n",
    "\n",
    "   # loop through the coefficients with the loop index\n",
    "\n",
    "       # add the term coef * x^i to the y value\n",
    "\n",
    "   # set the share of x to be the y value mod N\n",
    "\n",
    "# print the last share\n",
    "print(shares[7])"
   ]
  },
  {
   "cell_type": "markdown",
   "id": "6f0fac7e",
   "metadata": {
    "slideshow": {
     "slide_type": "slide"
    }
   },
   "source": [
    "### Exercise 4\n",
    "\n",
    "\n",
    "\n",
    "\n",
    "#### Make [this test](/edit/session4/frost.py) pass: `frost.py:PrivatePolynomialTest:test_y_value`"
   ]
  },
  {
   "cell_type": "code",
   "execution_count": null,
   "id": "cb629d96",
   "metadata": {},
   "outputs": [],
   "source": [
    "# Exercise 4\n",
    "\n",
    "reload(frost)\n",
    "run(frost.PrivatePolynomialTest('test_y_value'))"
   ]
  },
  {
   "cell_type": "markdown",
   "id": "903869cb",
   "metadata": {
    "slideshow": {
     "slide_type": "slide"
    }
   },
   "source": [
    "# Lagrange Interpolation Polynomial\n",
    "* For a participant at $x_i$ where $X = \\{x_1, x_2, ... x_t\\}$\n",
    "* Goal is a $t-1$ degree polynomial $g_i(x)$ such that: $g_i(x_i)=1$ and $g_i(x_j)=0$ where $j\\ne i$\n",
    "* Note $g_i(x_j)=0$ if $g_i(x)=(x-x_j)h(x)$\n",
    "* Let $h_i(x)=\\prod_{j \\ne i}{(x-x_j)}$\n",
    "* Note $h_i(x)$ is degree $t-1$\n",
    "* We note $h_i(x_i) = \\prod_{j \\ne i}{(x_i-x_j)}$\n",
    "* $g_i(x) = h_i(x)/h_i(x_i)$, $g_i(x_i)=h_i(x_i)/h_i(x_i)=1$ and $g_i(x_j)=0$ where $j\\ne i$\n"
   ]
  },
  {
   "cell_type": "code",
   "execution_count": null,
   "id": "987481b6",
   "metadata": {
    "slideshow": {
     "slide_type": "slide"
    }
   },
   "outputs": [],
   "source": [
    "from ecc import N\n",
    "# Example LaGrange polynomial with X = {1, 3, 4} for participant 4\n",
    "def g(x):\n",
    "    participants = [1, 3, 4]\n",
    "    x_i = 4\n",
    "    product = 1\n",
    "    for x_j in participants:\n",
    "        if x_j != x_i:\n",
    "            product *= (x-x_j) * pow(x_i - x_j, -1, N) % N\n",
    "    return product\n",
    "print(g(1), g(3), g(4), g(55))"
   ]
  },
  {
   "cell_type": "markdown",
   "id": "5f47a0de",
   "metadata": {
    "slideshow": {
     "slide_type": "slide"
    }
   },
   "source": [
    "### Exercise 5\n",
    "\n",
    "Create a LaGrange polynomial of degree 4 where $X=\\{2,5,8,9\\}$ for participant 8 and determine the value at $g(0)$\n",
    "\n"
   ]
  },
  {
   "cell_type": "code",
   "execution_count": null,
   "id": "3b59571d",
   "metadata": {},
   "outputs": [],
   "source": [
    "# Exercise 5\n",
    "\n",
    "from ecc import N\n",
    "# define g(x) to be the LaGrange polynomial\n",
    "\n",
    "    # define the participants to be [2, 5, 8, 9]\n",
    "\n",
    "    # define the place where we want 1 to be x_i\n",
    "\n",
    "    # set the product to 1\n",
    "\n",
    "    # loop through the participants x_j\n",
    "\n",
    "        # if this one is not the place where it's 1, multiply the product\n",
    "\n",
    "            # multiply by (x - x_j) / (x_i - x_j), division needs to use field division, that is, multiply by pow(a, -1, N)\n",
    "\n",
    "    # return the product mod N\n",
    "    return product % N\n",
    "print(g(2), g(5), g(8), g(9), g(0))"
   ]
  },
  {
   "cell_type": "markdown",
   "id": "b800fc46",
   "metadata": {
    "slideshow": {
     "slide_type": "slide"
    }
   },
   "source": [
    "# Using LaGrange\n",
    "* $g_i(x)$ is degree $t-1$ where $g_i(x_i)=1$ and $g_i(x_j)=0$ where $j\\ne i$\n",
    "* Let $h_i(x)=y_ig_i(x)$ notice $h_i(x_i)=y_i$ and $h_i(x_j)=0$ when $j\\ne i$\n",
    "* In other words, $h_i(x)$ is degree $t-1$ and hits the point $(x_i,y_i)$\n",
    "* Let $h(x)=\\sum{h_i(x)}$. We know $h(x_j)=y_j$ because $h_i(x_j)=0$ except $h_j(x_j)=y_j$\n",
    "* $h(x_i)=y_i \\forall x_i \\in X$, hitting $t$ points.\n",
    "* Those points define the same polynomial $h(x)=f(x)$ where $f(x)$ is the dealer's original polynoomial\n",
    "* Since $f(0)=e$, $h(0)=\\sum{h_i(0)}$ meaning we can recover the secret through participant shares and Lagrange Interpolation Polynomials.\n"
   ]
  },
  {
   "cell_type": "code",
   "execution_count": null,
   "id": "9cce0124",
   "metadata": {
    "slideshow": {
     "slide_type": "slide"
    }
   },
   "outputs": [],
   "source": [
    "# example of recovering the secret\n",
    "from ecc import N\n",
    "participants = [1, 3, 4]\n",
    "share_1 = 0xd40aba11bbfdda09607aa1663606e170c57d312fe30be51797b79248fd18ce02\n",
    "share_3 = 0xb4e3bfec8f3d1404a5eba45ed4052cf1aba29f351d6a73cb3c5437dff82b834\n",
    "share_4 = 0x4d34c2c9f899ad5db275f0af4d20a1ab43d68d5d6b8be375d69b7fe6b3b7d494\n",
    "g_1, g_3, g_4 = 1, 1, 1\n",
    "for x_j in participants:\n",
    "    if x_j != 1:\n",
    "        g_1 *= (-x_j) * pow(1-x_j, -1, N) % N\n",
    "    if x_j != 3:\n",
    "        g_3 *= (-x_j) * pow(3-x_j, -1, N) % N\n",
    "    if x_j != 4:\n",
    "        g_4 *= (-x_j) * pow(4-x_j, -1, N) % N\n",
    "secret = (g_1*share_1 + g_3*share_3 + g_4*share_4) % N\n",
    "print(hex(secret))"
   ]
  },
  {
   "cell_type": "markdown",
   "id": "d06a6087",
   "metadata": {
    "slideshow": {
     "slide_type": "slide"
    }
   },
   "source": [
    "### Exercise 6\n",
    "\n",
    "Participants are $X=\\{1,3,5,6\\}$\n",
    "Participant 1 has $y_1=1913$\n",
    "Participant 3 has $y_3=1971$\n",
    "Participant 5 has $y_5=2009$\n",
    "Participant 6 has $y_6=2024$\n",
    "\n",
    "Recover the secret\n",
    "\n"
   ]
  },
  {
   "cell_type": "code",
   "execution_count": null,
   "id": "cab585fa",
   "metadata": {},
   "outputs": [],
   "source": [
    "# Exercise 6\n",
    "\n",
    "# example of recovering the secret\n",
    "from ecc import N\n",
    "from secrets import randbelow\n",
    "from frost import lagrange_coef\n",
    "participants = [1, 3, 5, 6]\n",
    "share_1 = 1913\n",
    "share_3 = 1971\n",
    "share_5 = 2009\n",
    "share_6 = 2024\n",
    "# initialize the LaGrange values\n",
    "\n",
    "# loop through the participants\n",
    "\n",
    "    # g_i = Π(-x_j)/(x_i-x_j) for all i != j\n",
    "\n",
    "\n",
    "\n",
    "\n",
    "\n",
    "\n",
    "\n",
    "\n",
    "# calculate the secret by multiplying the value at 0 by the share for each share\n",
    "\n",
    "# print the secret in hex\n"
   ]
  },
  {
   "cell_type": "markdown",
   "id": "7f590d9a",
   "metadata": {
    "slideshow": {
     "slide_type": "slide"
    }
   },
   "source": [
    "### Exercise 7\n",
    "\n",
    "\n",
    "\n",
    "\n",
    "#### Make [this test](/edit/session4/frost.py) pass: `frost.py:LaGrangeTest:test_lagrange`"
   ]
  },
  {
   "cell_type": "code",
   "execution_count": null,
   "id": "d9ed7cee",
   "metadata": {},
   "outputs": [],
   "source": [
    "# Exercise 7\n",
    "\n",
    "reload(frost)\n",
    "run(frost.LaGrangeTest('test_lagrange'))"
   ]
  },
  {
   "cell_type": "markdown",
   "id": "d37f10ed",
   "metadata": {
    "slideshow": {
     "slide_type": "slide"
    }
   },
   "source": [
    "# Dealer Key Generation\n",
    "* Exactly as Shamir Secret Sharing, a private polynomial $f(x)=e+a_1x+a_2x^2...a_{t-1}x^{t-1}$ where secret is $e$ and $a_i$ is random\n",
    "* $y$ values at each $x$ is distributed as shares to signers\n",
    "* We create a public polynomial $F(x)$ which is $f(x)$ multiplied by $G$, $F(x)=f(x)G$ $F(x)=eG+a_1xG+a_2x^2G+...+a_{t-1}x^{t-1}G$\n",
    "* Note $F(x)=P+xA_1+x^2A_2+...+x^{t-1}A_{t-1}$ where $a_iG=A_i$. Note $F(0)=P$\n",
    "* $F(x)$ is a public polynomial to the signers\n",
    "* Each signer once receiving the secret $y_i=f(x_i)$, verifies by checking $y_iG=F(x_i)$\n",
    "* This $y_iG=F(x_i)=P_i$ is public.\n"
   ]
  },
  {
   "cell_type": "code",
   "execution_count": null,
   "id": "cfb337a4",
   "metadata": {
    "slideshow": {
     "slide_type": "slide"
    }
   },
   "outputs": [],
   "source": [
    "# Example of creating 3-of-5 FrostSigners\n",
    "from frost import Dealer, FrostSigner\n",
    "dealer = Dealer([21000000, 2000, 3000])\n",
    "signer_1 = FrostSigner(1, dealer.y_value(1), dealer.public_polynomial)\n",
    "print(signer_1.point.sec().hex())"
   ]
  },
  {
   "cell_type": "markdown",
   "id": "76e21967",
   "metadata": {
    "slideshow": {
     "slide_type": "slide"
    }
   },
   "source": [
    "### Exercise 8\n",
    "\n",
    "Make 7 FrostSigners whose threshold is 4.\n",
    "\n"
   ]
  },
  {
   "cell_type": "code",
   "execution_count": null,
   "id": "2eb6fd62",
   "metadata": {},
   "outputs": [],
   "source": [
    "# Exercise 8\n",
    "\n",
    "from frost import Dealer, FrostSigner\n",
    "# use the generate classmethod from Dealer to create a dealer of threshold 4\n",
    "\n",
    "# make a list of signers whose x's are 1,2,3,...7\n",
    "\n",
    "# print the first signer's t\n"
   ]
  },
  {
   "cell_type": "markdown",
   "id": "98db3fcc",
   "metadata": {
    "slideshow": {
     "slide_type": "slide"
    }
   },
   "source": [
    "### Exercise 9\n",
    "\n",
    "\n",
    "\n",
    "\n",
    "#### Make [this test](/edit/session4/frost.py) pass: `frost.py:DealerTest:test_create_signer`"
   ]
  },
  {
   "cell_type": "code",
   "execution_count": null,
   "id": "89b33f11",
   "metadata": {},
   "outputs": [],
   "source": [
    "# Exercise 9\n",
    "\n",
    "reload(frost)\n",
    "run(frost.DealerTest('test_create_signer'))"
   ]
  },
  {
   "cell_type": "code",
   "execution_count": null,
   "id": "bc7c3fa5",
   "metadata": {
    "slideshow": {
     "slide_type": "slide"
    }
   },
   "outputs": [],
   "source": [
    "# Example Partial Sig Generation\n",
    "from ecc import N\n",
    "from frost import Dealer, FrostSigner, FrostCoordinator, lagrange_coef\n",
    "from helper import int_to_big_endian\n",
    "msg = b\"FROST is awesome!\"\n",
    "dealer = Dealer([21000000, 9999999, 9998888, 8887777])\n",
    "signers = {x: dealer.create_signer(x) for x in range(1, 7)}\n",
    "participants = [1, 4, 5, 6]\n",
    "coor = FrostCoordinator(participants, dealer.public_polynomial)\n",
    "for x in participants:\n",
    "    p = signers[x]\n",
    "    nonce_share = p.generate_nonce_share(msg=msg, rand=b'')\n",
    "    coor.register_nonce_share(x, nonce_share)\n",
    "context = coor.create_signing_context(msg)\n",
    "if context.nonce_point.even:\n",
    "    k = signers[1].nonce(context.nonce_coef)\n",
    "else:\n",
    "    k = N - signers[1].nonce(context.nonce_coef)\n",
    "if context.group_point.even:\n",
    "    e = signers[1].private_key.secret\n",
    "else:\n",
    "    e = N - signers[1].private_key.secret\n",
    "c = lagrange_coef(participants, 1)\n",
    "d = context.challenge\n",
    "s = (k + c * d * e) % N\n",
    "print(hex(s))"
   ]
  },
  {
   "cell_type": "markdown",
   "id": "b8a1c945",
   "metadata": {
    "slideshow": {
     "slide_type": "slide"
    }
   },
   "source": [
    "# Partial Sig Verification\n",
    "* To verify a partial signature, we need from the coordinator: message $z$, nonce point $R$, participants\n",
    "* We need from the participant nonce point $R_i$ and pubkey $P_i$\n",
    "* We use these to calculate LaGrange coefficient $c_i=g_i(0)$ and challenge $d=H(R || P || z)$\n",
    "* $s_i=k_i+c_i d y_i$ so what we check is $s_i G=k_iG+c_i d y_i G=R_i+c_i d P_i$ or $R=s_i G-c_i d P_i$\n"
   ]
  },
  {
   "cell_type": "code",
   "execution_count": null,
   "id": "40d4d147",
   "metadata": {
    "slideshow": {
     "slide_type": "slide"
    }
   },
   "outputs": [],
   "source": [
    "# Example Partial Sig Verification\n",
    "from ecc import N, G\n",
    "from frost import Dealer, FrostSigner, FrostCoordinator, lagrange_coef\n",
    "from helper import int_to_big_endian\n",
    "msg = b\"FROST is awesome!\"\n",
    "dealer = Dealer([21000000, 9999999, 9998888, 8887777])\n",
    "signers = {x: dealer.create_signer(x) for x in range(1, 7)}\n",
    "participants = [1, 4, 5, 6]\n",
    "coor = FrostCoordinator(participants, dealer.public_polynomial)\n",
    "for x in participants:\n",
    "    p = signers[x]\n",
    "    nonce_share = p.generate_nonce_share(msg=msg, rand=b'')\n",
    "    coor.register_nonce_share(x, nonce_share)\n",
    "context = coor.create_signing_context(msg)\n",
    "nonce_public_share = coor.nonce_shares[1]\n",
    "partial_sig = bytes.fromhex(\"32ec8d7a6b941b80bdf97deb231a9710583e6656e32e69e7aabf00e6e81153fb\")\n",
    "if context.nonce_point.even:\n",
    "    r = nonce_public_share.nonce_point(context.nonce_coef)\n",
    "else:\n",
    "    r = -1 * nonce_public_share.nonce_point(context.nonce_coef)\n",
    "if context.group_point.even:\n",
    "    p = signers[1].point\n",
    "else:\n",
    "    p = -1 * signers[1].point\n",
    "c = lagrange_coef(participants, 1)\n",
    "d = context.challenge\n",
    "print(s * G == (r + c * d * p))"
   ]
  },
  {
   "cell_type": "markdown",
   "id": "9252421f",
   "metadata": {
    "slideshow": {
     "slide_type": "slide"
    }
   },
   "source": [
    "### Exercise 10\n",
    "\n",
    "Calculate the partial signature for participant 2:\n",
    "\n",
    "Dealer Coefficients = [12345, 67890]\n",
    "\n",
    "message: b\"Hello World!\"\n",
    "\n",
    "Participant 1's $l$ and $m$: 3000, 4000\n",
    "Participant 2's $l$ and $m$: 5000, 6000\n",
    "\n"
   ]
  },
  {
   "cell_type": "code",
   "execution_count": null,
   "id": "86ee5814",
   "metadata": {},
   "outputs": [],
   "source": [
    "# Exercise 10\n",
    "\n",
    "from ecc import N, PrivateKey\n",
    "from frost import Dealer, FrostSigner, FrostCoordinator, lagrange_coef, NoncePrivateShare\n",
    "dealer = Dealer([12345, 67890])\n",
    "msg = b\"Hello World!\"\n",
    "signers = {x: dealer.create_signer(x) for x in range(1, 4)}\n",
    "participants = [1, 2]\n",
    "coor = FrostCoordinator(participants, dealer.public_polynomial)\n",
    "participant_1 = signers[1]\n",
    "participant_2 = signers[2]\n",
    "nonce_share_1 = NoncePrivateShare(3000, 4000, participant_1.point)\n",
    "nonce_share_2 = NoncePrivateShare(5000, 6000, participant_2.point)\n",
    "participant_1.private_nonce_share = nonce_share_1\n",
    "participant_2.private_nonce_share = nonce_share_2\n",
    "coor.register_nonce_share(1, nonce_share_1.public_share)\n",
    "coor.register_nonce_share(2, nonce_share_2.public_share)\n",
    "# create the signing context\n",
    "\n",
    "# determine the second participant's nonce (k_i) from the nonce point's evenness\n",
    "\n",
    "\n",
    "\n",
    "\n",
    "# determine the second participant's secret (y_i) from the group point's evenness\n",
    "\n",
    "\n",
    "\n",
    "\n",
    "# use the lagrange_coef function to get the lagrange coefficient (c_i = g_i(x_i))\n",
    "\n",
    "# use the context's challenge method to get the group challenge (d = H(R||P||z))\n",
    "\n",
    "# now get the partial signature s_i = k + c_i * d * y_i mod N\n",
    "\n",
    "# print the hex of the partial signature\n"
   ]
  },
  {
   "cell_type": "markdown",
   "id": "c21301e3",
   "metadata": {
    "slideshow": {
     "slide_type": "slide"
    }
   },
   "source": [
    "### Exercise 11\n",
    "\n",
    "Verify the partial signature for participant 2\n",
    "\n"
   ]
  },
  {
   "cell_type": "code",
   "execution_count": null,
   "id": "b519e94d",
   "metadata": {},
   "outputs": [],
   "source": [
    "# Exercise 11\n",
    "\n",
    "from ecc import N, PrivateKey\n",
    "from frost import Dealer, FrostSigner, FrostCoordinator, lagrange_coef, NoncePrivateShare\n",
    "dealer = Dealer([12345, 67890])\n",
    "msg = b\"Hello World!\"\n",
    "signers = {x: dealer.create_signer(x) for x in range(1, 4)}\n",
    "participants = [1, 2]\n",
    "coor = FrostCoordinator(participants, dealer.public_polynomial)\n",
    "participant_1 = signers[1]\n",
    "participant_2 = signers[2]\n",
    "raw_nonce_1 = bytes.fromhex(\"03ed214e8ce499d92a2085e7e6041b4f081c7d29d8770057fc705a131d2918fcdb02609ae8d31e3b290e74483776c1c8dfc2756b87d9635d654eb9e1ca95c228b169\")\n",
    "raw_nonce_2 = bytes.fromhex(\"02ffe558e388852f0120e46af2d1b370f85854a8eb0841811ece0e3e03d282d57c02d42d696f2c343dc67d80fcd85dbbdb2edef3cac71126625d0cbcacc231a00015\")\n",
    "nonce_share_1 = NoncePublicShare.parse(raw_nonce_1)\n",
    "nonce_share_2 = NoncePublicShare.parse(raw_nonce_2)\n",
    "coor.register_nonce_share(1, nonce_share_1)\n",
    "coor.register_nonce_share(2, nonce_share_2)\n",
    "# fill in what s equals from the last exercise\n",
    "\n",
    "# create the signing context, which should aggregate the points\n",
    "\n",
    "# determine the second participant's nonce point (R_i) from the nonce point's evenness\n",
    "\n",
    "\n",
    "\n",
    "\n",
    "# determine the second participant's pubkey (P_i) from the group point's evenness\n",
    "\n",
    "\n",
    "\n",
    "\n",
    "# get the LaGrange coefficient (c_i) for the second participant\n",
    "\n",
    "# get the challenge for the group (d)\n",
    "\n",
    "# check if s_i * G == R + c * d * P\n"
   ]
  },
  {
   "cell_type": "markdown",
   "id": "bfad1112",
   "metadata": {
    "slideshow": {
     "slide_type": "slide"
    }
   },
   "source": [
    "### Exercise 12\n",
    "\n",
    "Sum the partial signatures, create a Schnorr Signature and verify it using the group point\n",
    "\n"
   ]
  },
  {
   "cell_type": "code",
   "execution_count": null,
   "id": "17d35f6d",
   "metadata": {},
   "outputs": [],
   "source": [
    "# Exercise 12\n",
    "\n",
    "from ecc import N, PrivateKey, SchnorrSignature\n",
    "from frost import Dealer, FrostSigner, FrostCoordinator, lagrange_coef, NoncePrivateShare\n",
    "dealer = Dealer([12345, 67890])\n",
    "msg = b\"Hello World!\"\n",
    "signers = {x: dealer.create_signer(x) for x in range(1, 4)}\n",
    "participants = [1, 2]\n",
    "coor = FrostCoordinator(participants, dealer.public_polynomial)\n",
    "participant_1 = signers[1]\n",
    "participant_2 = signers[2]\n",
    "raw_nonce_1 = bytes.fromhex(\"03ed214e8ce499d92a2085e7e6041b4f081c7d29d8770057fc705a131d2918fcdb02609ae8d31e3b290e74483776c1c8dfc2756b87d9635d654eb9e1ca95c228b169\")\n",
    "raw_nonce_2 = bytes.fromhex(\"02ffe558e388852f0120e46af2d1b370f85854a8eb0841811ece0e3e03d282d57c02d42d696f2c343dc67d80fcd85dbbdb2edef3cac71126625d0cbcacc231a00015\")\n",
    "nonce_share_1 = NoncePublicShare.parse(raw_nonce_1)\n",
    "nonce_share_2 = NoncePublicShare.parse(raw_nonce_2)\n",
    "coor.register_nonce_share(1, nonce_share_1)\n",
    "coor.register_nonce_share(2, nonce_share_2)\n",
    "context = coor.create_signing_context(msg)\n",
    "s_1 = 0xa9752dd83e4714576d301274b89ba1042df1c666c4db491b9ba8fb70aaaadc1f\n",
    "s_2 = 0x82f5ea3360c82882a851abf95324d079392fd0c70d7e56a15e0aa8e5c3fb983f\n",
    "# sum the two partial sigs and mod by N\n",
    "\n",
    "# get the nonce point from the context\n",
    "\n",
    "# create the Schnorr Signature using the r and the s\n",
    "\n",
    "# check the validity of the schnorr signature using the group point from the context\n"
   ]
  },
  {
   "cell_type": "markdown",
   "id": "518c7bc6",
   "metadata": {
    "slideshow": {
     "slide_type": "slide"
    }
   },
   "source": [
    "### Exercise 13\n",
    "\n",
    "\n",
    "\n",
    "\n",
    "#### Make [this test](/edit/session4/frost.py) pass: `frost.py:PartialSigTest:test_verify`"
   ]
  },
  {
   "cell_type": "code",
   "execution_count": null,
   "id": "c674f781",
   "metadata": {},
   "outputs": [],
   "source": [
    "# Exercise 13\n",
    "\n",
    "reload(frost)\n",
    "run(frost.PartialSigTest('test_verify'))"
   ]
  },
  {
   "cell_type": "markdown",
   "id": "eb397186",
   "metadata": {
    "slideshow": {
     "slide_type": "slide"
    }
   },
   "source": [
    "### Exercise 14\n",
    "\n",
    "\n",
    "\n",
    "\n",
    "#### Make [this test](/edit/session4/frost.py) pass: `frost.py:PartialSigTest:test_sign`"
   ]
  },
  {
   "cell_type": "code",
   "execution_count": null,
   "id": "5c8e03fc",
   "metadata": {},
   "outputs": [],
   "source": [
    "# Exercise 14\n",
    "\n",
    "reload(frost)\n",
    "run(frost.PartialSigTest('test_sign'))"
   ]
  },
  {
   "cell_type": "markdown",
   "id": "982451f0",
   "metadata": {
    "slideshow": {
     "slide_type": "slide"
    }
   },
   "source": [
    "# FROST Group Point Tweaking\n",
    "* If the FROST group point is the KeyPath Spend, then there is a tweak $t$\n",
    "* The group point $P$ and tweak $t$ make the external pubkey $Q=P+tG$\n",
    "* $Q$ is $x$-only, so that determines $y_i$ negation, not the $P$\n",
    "* We set $Q$ to be the group point\n"
   ]
  },
  {
   "cell_type": "code",
   "execution_count": null,
   "id": "c1ea2ef7",
   "metadata": {
    "slideshow": {
     "slide_type": "slide"
    }
   },
   "outputs": [],
   "source": [
    "# example of tweaking the FROST group pubkey\n",
    "from frost import Dealer, FrostCoordinator\n",
    "dealer = Dealer([21000000, 12345, 67890])\n",
    "signers = {x: dealer.create_signer(x) for x in range(1, 7)}\n",
    "merkle_root = b\"\"\n",
    "participants = [1, 3, 6]\n",
    "coor = FrostCoordinator(participants, dealer.public_polynomial, merkle_root=merkle_root)\n",
    "for x in participants:\n",
    "    p = signers[x]\n",
    "    nonce_share = p.generate_nonce_share(msg=msg, rand=b'')\n",
    "    coor.register_nonce_share(x, nonce_share)\n",
    "context = coor.create_signing_context(msg)\n",
    "print(context.group_point.sec().hex())"
   ]
  },
  {
   "cell_type": "markdown",
   "id": "4e69d678",
   "metadata": {
    "slideshow": {
     "slide_type": "slide"
    }
   },
   "source": [
    "# Partial Sig Aggregation for even/odd $Q$\n",
    "* For even $Q$: the Schnorr Signature $(R, s+td)$ will validate for the tweaked key $Q$\n",
    "* For odd $Q$: The Schnorr Signature $(R, s-td)$ will validate for the tweaked key $-Q$\n"
   ]
  },
  {
   "cell_type": "code",
   "execution_count": null,
   "id": "21c116e9",
   "metadata": {
    "slideshow": {
     "slide_type": "slide"
    }
   },
   "outputs": [],
   "source": [
    "# Example FROST KeyPath Spend\n",
    "from ecc import N, PrivateKey, S256Point\n",
    "from frost import Dealer, FrostSigner, FrostCoordinator\n",
    "from script import address_to_script_pubkey\n",
    "from tx import TxIn, TxOut, Tx\n",
    "prev_tx = bytes.fromhex(\"3c78674a5d99932f5236da09f18b18d73c40181b03137ad41e30893bf45a28fa\")\n",
    "prev_index = 0\n",
    "fee = 500\n",
    "tx_in = TxIn(prev_tx, prev_index)\n",
    "target_amount = tx_in.value(network=\"signet\") - fee\n",
    "target_script = address_to_script_pubkey(\"tb1q7kn55vf3mmd40gyj46r245lw87dc6us5n50lrg\")\n",
    "tx_out = TxOut(target_amount, target_script)\n",
    "tx_obj = Tx(1, [tx_in], [tx_out], network=\"signet\", segwit=True)\n",
    "msg = tx_obj.sig_hash(0)\n",
    "dealer = Dealer([21000000, 1234567890])\n",
    "signers = {x: dealer.create_signer(x) for x in range(1, 4)}\n",
    "merkle_root = b\"\"\n",
    "participants = [1, 3]\n",
    "coor = FrostCoordinator(participants, dealer.public_polynomial, merkle_root=merkle_root)\n",
    "for x in participants:\n",
    "    p = signers[x]\n",
    "    nonce_share = p.generate_nonce_share(msg=msg, rand=b'')\n",
    "    coor.register_nonce_share(x, nonce_share)\n",
    "me = signers[1]\n",
    "context = coor.create_signing_context(msg)\n",
    "my_partial_sig = me.sign(context)\n",
    "coor.register_partial_sig(1, my_partial_sig)\n",
    "print(my_partial_sig.hex())\n",
    "neighbor_sig = bytes.fromhex(\"6a8ef5084dcaa656f7ef5ed52867f12a9420425703500dc7d09c3bd3a3d22933\")\n",
    "coor.register_partial_sig(3, neighbor_sig)\n",
    "s_1 = big_endian_to_int(my_partial_sig)\n",
    "s_2 = big_endian_to_int(neighbor_sig)\n",
    "s = (s_1 + s_2) % N\n",
    "d = context.challenge\n",
    "t = coor.tweak_amount\n",
    "if context.group_point.even:\n",
    "    s = (s + d * t) % N\n",
    "else:\n",
    "    s = (s - d * t) % N\n",
    "r = context.nonce_point\n",
    "sig = SchnorrSignature(r, s)\n",
    "print(context.group_point.verify_schnorr(msg, sig))\n",
    "tx_in.finalize_p2tr_keypath(sig.serialize())\n",
    "print(tx_obj.verify())\n",
    "print(tx_obj.serialize().hex())"
   ]
  },
  {
   "cell_type": "markdown",
   "id": "941fd712",
   "metadata": {
    "slideshow": {
     "slide_type": "slide"
    }
   },
   "source": [
    "### Exercise 15\n",
    "\n",
    "\n",
    "\n",
    "\n",
    "#### Make [this test](/edit/session4/frost.py) pass: `frost.py:PartialSigTest:test_compute_sig`"
   ]
  },
  {
   "cell_type": "code",
   "execution_count": null,
   "id": "7d2570d3",
   "metadata": {},
   "outputs": [],
   "source": [
    "# Exercise 15\n",
    "\n",
    "reload(frost)\n",
    "run(frost.PartialSigTest('test_compute_sig'))"
   ]
  }
 ],
 "metadata": {},
 "nbformat": 4,
 "nbformat_minor": 5
}
