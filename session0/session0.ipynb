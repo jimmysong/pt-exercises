{
 "cells": [
  {
   "cell_type": "code",
   "execution_count": null,
   "id": "f4b08d2d",
   "metadata": {
    "slideshow": {
     "slide_type": "skip"
    }
   },
   "outputs": [],
   "source": [
    "############## PLEASE RUN THIS CELL FIRST! ###################\n",
    "\n",
    "# import everything and define a test runner function\n",
    "from importlib import reload\n",
    "from helper import run\n",
    "import ecc, hash"
   ]
  },
  {
   "cell_type": "markdown",
   "id": "7589f8b7",
   "metadata": {
    "slideshow": {
     "slide_type": "slide"
    }
   },
   "source": [
    "# Welcome!\n",
    "\n",
    "Thank you for getting everything set up for the Programming Taproot Course. This Jupyter Notebook is a way for you to re-familiarize yourself with the system and practice solving problems. \n",
    "\n",
    "The two concepts that you'll learn here are tagged hashes and x-only pubkeys. These are new as part of the Taproot upgrade and a critical part of understanding Taproot, so please take the time to do all of the exercises.\n",
    "\n"
   ]
  },
  {
   "cell_type": "markdown",
   "id": "21144b7b",
   "metadata": {
    "slideshow": {
     "slide_type": "slide"
    }
   },
   "source": [
    "# Tagged Hashes - Motivation\n",
    "* We want to use different hash functions so we don't get unnecessary hash collisions\n",
    "* We don't want to create a brand new hash functions, so we use sha256\n",
    "* We use a different tagged hash function for each context and we define each tagged hash function.\n",
    "\n"
   ]
  },
  {
   "cell_type": "markdown",
   "id": "c4fbccec",
   "metadata": {
    "slideshow": {
     "slide_type": "slide"
    }
   },
   "source": [
    "# Tagged Hashes - Implementation\n",
    "* A Tagged Hash uses two rounds of SHA256\n",
    "* The first round of SHA256 is a hash of a tag (e.g. \"BIP0340/aux\")\n",
    "* The second round of SHA256 uses the resulting hash twice and also the message\n",
    "* `H_aux(x) = SHA256(SHA256(\"BIP0340/aux\") + SHA256(\"BIP0340/aux\") + x)`\n",
    "\n"
   ]
  },
  {
   "cell_type": "code",
   "execution_count": null,
   "id": "40a8278c",
   "metadata": {
    "slideshow": {
     "slide_type": "slide"
    }
   },
   "outputs": [],
   "source": [
    "# Example Tagged Hashes\n",
    "from hash import sha256\n",
    "challenge_tag = b\"BIP0340/challenge\"\n",
    "msg = b\"some message\"\n",
    "challenge_hash = sha256(challenge_tag)\n",
    "hash_challenge = sha256(challenge_hash + challenge_hash + msg)\n",
    "print(hash_challenge.hex())"
   ]
  },
  {
   "cell_type": "markdown",
   "id": "d79de375",
   "metadata": {
    "slideshow": {
     "slide_type": "slide"
    }
   },
   "source": [
    "### Exercise 1\n",
    "\n",
    "What is the tagged hash \"BIP0340/aux\" of \"hello world\"?\n",
    "\n"
   ]
  },
  {
   "cell_type": "code",
   "execution_count": null,
   "id": "798d70d2",
   "metadata": {},
   "outputs": [],
   "source": [
    "# Exercise 1\n",
    "\n",
    "from hash import sha256\n",
    "# define the aux tag and the message as bytes (use b\"\")\n",
    "\n",
    "\n",
    "# calculate the aux tag hash using sha256\n",
    "\n",
    "# calculate the hash of the aux sha256 of (aux hash + aux hash + msg)\n",
    "\n",
    "# print the hash's hex\n"
   ]
  },
  {
   "cell_type": "markdown",
   "id": "14dbbc8d",
   "metadata": {
    "slideshow": {
     "slide_type": "slide"
    }
   },
   "source": [
    "### Exercise 2\n",
    "\n",
    "\n",
    "\n",
    "\n",
    "#### Make [this test](/edit/session0/hash.py) pass: `hash.py:HashTest:test_tagged_hash`"
   ]
  },
  {
   "cell_type": "code",
   "execution_count": null,
   "id": "38477cd6",
   "metadata": {},
   "outputs": [],
   "source": [
    "# Exercise 2\n",
    "\n",
    "reload(hash)\n",
    "run(hash.HashTest('test_tagged_hash'))"
   ]
  },
  {
   "cell_type": "markdown",
   "id": "99376457",
   "metadata": {
    "slideshow": {
     "slide_type": "slide"
    }
   },
   "source": [
    "# Tagged Hashes - Observations\n",
    "* Each hash is different so that hashes cannot feasibly be re-used in different contexts\n",
    "* There are many different contexts, each essentially having its own hash function\n",
    "* The idea is that each tagged hash is different, though underneath, they all depend on the security of SHA256\n"
   ]
  },
  {
   "cell_type": "markdown",
   "id": "9e317b67",
   "metadata": {
    "slideshow": {
     "slide_type": "slide"
    }
   },
   "source": [
    "# $x$-only keys - Motivation\n",
    "* Compressed SEC format is 33 bytes, we can save 1 byte in the serialization by using $x$-only keys\n",
    "* As Schnorr Signatures have a point for the first part, we can reduce the size of signatures from 72-73 bytes (DER-encoded ECDSA) to 64 bytes\n",
    "* The ScriptPubKeys for pay-to-taproot also save a byte to be 34 bytes\n"
   ]
  },
  {
   "cell_type": "markdown",
   "id": "7ea8a8e3",
   "metadata": {
    "slideshow": {
     "slide_type": "slide"
    }
   },
   "source": [
    "# $x$-only keys - Implementation\n",
    "* To get down to 32-bytes, we simply assume that $y$ is even.\n",
    "* This would be the same as the Compressed SEC format, but without the initial byte that lets us know whether the $y$ is even or odd.\n",
    "* If the secret is $e$ and the point is $eG=P=(x,y)$ and the resulting $y$ is odd, we can still sign for the flipped public key.\n",
    "* Note that an $x$-only pubkey in the case where y is odd means that we have to sign for $-P$ and not $P$\n",
    "* The private key $e$ is negated to $N-e$ if $y$ is odd.\n",
    "* $eG=P=(x,y)$ means $(N-e)G=0-eG=-P=(x,-y)$. Since we're in a finite field and the finite field prime $p$ is a prime number greater than 2, $-y=p-y$ is guaranteed to be even (odd minus odd)\n",
    "* We thus sign messages with $N-e$ for $-P$\n"
   ]
  },
  {
   "cell_type": "code",
   "execution_count": null,
   "id": "bc2c06da",
   "metadata": {
    "slideshow": {
     "slide_type": "slide"
    }
   },
   "outputs": [],
   "source": [
    "# Example X-only pubkey\n",
    "from ecc import PrivateKey, S256Point\n",
    "from helper import int_to_big_endian\n",
    "pubkey = PrivateKey(12345).point\n",
    "xonly = int_to_big_endian(pubkey.x.num, 32)\n",
    "print(xonly.hex())\n",
    "pubkey2 = S256Point.parse(xonly)\n",
    "print(pubkey.x == pubkey2.x)"
   ]
  },
  {
   "cell_type": "markdown",
   "id": "761065e4",
   "metadata": {
    "slideshow": {
     "slide_type": "slide"
    }
   },
   "source": [
    "### Exercise 3\n",
    "Find the $x$-only pubkey format for the private key with the secret 21,000,000\n",
    "\n"
   ]
  },
  {
   "cell_type": "code",
   "execution_count": null,
   "id": "d9ac6164",
   "metadata": {},
   "outputs": [],
   "source": [
    "# Exercise 3\n",
    "\n",
    "from ecc import PrivateKey\n",
    "from helper import int_to_big_endian\n",
    "secret = 21000000\n",
    "# create a private key with the secret\n",
    "\n",
    "# get the public point for the private key\n",
    "\n",
    "# convert the x coordinate to a big-endian integer 32 bytes\n",
    "\n",
    "# print the hex of the xonly representation\n"
   ]
  },
  {
   "cell_type": "markdown",
   "id": "c82bd27c",
   "metadata": {
    "slideshow": {
     "slide_type": "slide"
    }
   },
   "source": [
    "### Exercise 4\n",
    "\n",
    "\n",
    "\n",
    "\n",
    "#### Make [this test](/edit/session0/ecc.py) pass: `ecc.py:XOnlyTest:test_xonly`"
   ]
  },
  {
   "cell_type": "code",
   "execution_count": null,
   "id": "523c56ec",
   "metadata": {},
   "outputs": [],
   "source": [
    "# Exercise 4\n",
    "\n",
    "reload(ecc)\n",
    "run(ecc.XOnlyTest('test_xonly'))"
   ]
  },
  {
   "cell_type": "markdown",
   "id": "70879e92",
   "metadata": {
    "slideshow": {
     "slide_type": "slide"
    }
   },
   "source": [
    "# $x$-only keys - Observations\n",
    "* The savings for $x$-only keys is 1 byte for pubkeys, which trickles to a lot of other serializations (Schnorr Signatures, pay-to-taproot ScriptPubKeys, etc)\n",
    "* However, there's now a bigger burden on the developer to negate the private key if the public key is odd.\n",
    "* This also ends up being challenging to account for, especially with respect to aggregated signatures and aggregated pubkeys.\n",
    "* The way to think about this is that the pubkey $P$ being odd means that we're really signing for $-P$ and use the negated private key to compensate.\n",
    "\n",
    "Let's make a useful private-key flipping method in `PrivateKey` and a point flipping method in `S256Point`\n"
   ]
  },
  {
   "cell_type": "markdown",
   "id": "2aba8d9f",
   "metadata": {
    "slideshow": {
     "slide_type": "slide"
    }
   },
   "source": [
    "### Exercise 5\n",
    "\n",
    "\n",
    "\n",
    "\n",
    "#### Make [this test](/edit/session0/ecc.py) pass: `ecc.py:XOnlyTest:test_even_methods`"
   ]
  },
  {
   "cell_type": "code",
   "execution_count": null,
   "id": "0cd58b84",
   "metadata": {},
   "outputs": [],
   "source": [
    "# Exercise 5\n",
    "\n",
    "reload(ecc)\n",
    "run(ecc.XOnlyTest('test_even_methods'))"
   ]
  }
 ],
 "metadata": {},
 "nbformat": 4,
 "nbformat_minor": 5
}
