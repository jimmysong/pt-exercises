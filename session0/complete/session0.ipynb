{
 "cells": [
  {
   "cell_type": "code",
   "execution_count": 1,
   "id": "9cda2995",
   "metadata": {
    "slideshow": {
     "slide_type": "skip"
    }
   },
   "outputs": [],
   "source": [
    "############## PLEASE RUN THIS CELL FIRST! ###################\n",
    "\n",
    "# import everything and define a test runner function\n",
    "from importlib import reload\n",
    "from helper import run\n",
    "import ecc, hash"
   ]
  },
  {
   "cell_type": "markdown",
   "id": "213e00a7",
   "metadata": {
    "slideshow": {
     "slide_type": "slide"
    }
   },
   "source": [
    "# Welcome!\n",
    "\n",
    "Thank you for getting everything set up for the Programming Taproot Course. This Jupyter Notebook is a way for you to re-familiarize yourself with the system and practice solving problems. \n",
    "\n",
    "The two concepts that you'll learn here are tagged hashes and x-only pubkeys. These are new as part of the Taproot upgrade and a critical part of understanding Taproot, so please take the time to do all of the exercises.\n",
    "\n"
   ]
  },
  {
   "cell_type": "markdown",
   "id": "00b9ed41",
   "metadata": {
    "slideshow": {
     "slide_type": "slide"
    }
   },
   "source": [
    "# Tagged Hashes - Motivation\n",
    "* We want to use different hash functions so we don't get unnecessary Hash reuse\n",
    "* We don't want to create a brand new hash functions, so we use sha256\n",
    "* We use a different hash function for each context and we define each hash function like this.\n",
    "\n"
   ]
  },
  {
   "cell_type": "markdown",
   "id": "e0f2bddf",
   "metadata": {
    "slideshow": {
     "slide_type": "slide"
    }
   },
   "source": [
    "# Tagged Hashes - Implementation\n",
    "* A Tagged Hash uses two rounds of SHA256\n",
    "* The first round of SHA256 is a hash of a tag (e.g. \"BIP0340/aux\")\n",
    "* The second round of SHA256 uses the resulting hash twice and also the message\n",
    "* H_aux(x) = SHA256(SHA256(\"BIP0340/aux\") + SHA256(\"BIP0340/aux\") + x)\n",
    "\n"
   ]
  },
  {
   "cell_type": "code",
   "execution_count": 2,
   "id": "15eace88",
   "metadata": {
    "slideshow": {
     "slide_type": "slide"
    }
   },
   "outputs": [
    {
     "name": "stdout",
     "output_type": "stream",
     "text": [
      "233a1e9353c5f782c96c1c08323fe9fca47ad161ee69d008846b68625c221113\n"
     ]
    }
   ],
   "source": [
    "# Example Tagged Hashes\n",
    "from hash import sha256\n",
    "challenge_tag = b\"BIP0340/challenge\"\n",
    "msg = b\"some message\"\n",
    "challenge_hash = sha256(challenge_tag)\n",
    "hash_challenge = sha256(challenge_hash + challenge_hash + msg)\n",
    "print(hash_challenge.hex())"
   ]
  },
  {
   "cell_type": "markdown",
   "id": "0b262800",
   "metadata": {
    "slideshow": {
     "slide_type": "slide"
    }
   },
   "source": [
    "### Exercise 1\n",
    "\n",
    "What is the tagged hash \"BIP0340/aux\" of \"hello world\"?\n",
    "\n"
   ]
  },
  {
   "cell_type": "code",
   "execution_count": 3,
   "id": "2e3e29df",
   "metadata": {},
   "outputs": [
    {
     "name": "stdout",
     "output_type": "stream",
     "text": [
      "1d721a19d161e978e7436d9e73bb810a0a32cbdffc7a9b29e11713b1940a4126\n"
     ]
    }
   ],
   "source": [
    "# Exercise 1\n",
    "\n",
    "from hash import sha256\n",
    "# define the aux tag and the message as bytes (use b\"\")\n",
    "aux_tag = b\"BIP0340/aux\"\n",
    "msg = b\"hello world\"\n",
    "# calculate the aux tag hash using sha256\n",
    "aux_tag_hash = sha256(aux_tag)\n",
    "# calculate the hash of the aux sha256 of (aux hash + aux hash + msg)\n",
    "hash_aux = sha256(aux_tag_hash + aux_tag_hash + msg)\n",
    "# print the hash's hex\n",
    "print(hash_aux.hex())"
   ]
  },
  {
   "cell_type": "markdown",
   "id": "40f0a966",
   "metadata": {
    "slideshow": {
     "slide_type": "slide"
    }
   },
   "source": [
    "### Exercise 2\n",
    "\n",
    "\n",
    "\n",
    "\n",
    "#### Make [this test](/edit/session0/hash.py) pass: `hash.py:HashTest:test_tagged_hash`"
   ]
  },
  {
   "cell_type": "code",
   "execution_count": 4,
   "id": "b7fd65b6",
   "metadata": {},
   "outputs": [
    {
     "name": "stderr",
     "output_type": "stream",
     "text": [
      ".\n",
      "----------------------------------------------------------------------\n",
      "Ran 1 test in 0.000s\n",
      "\n",
      "OK\n"
     ]
    }
   ],
   "source": [
    "# Exercise 2\n",
    "\n",
    "reload(hash)\n",
    "run(hash.HashTest('test_tagged_hash'))"
   ]
  },
  {
   "cell_type": "markdown",
   "id": "972b6638",
   "metadata": {
    "slideshow": {
     "slide_type": "slide"
    }
   },
   "source": [
    "# Tagged Hashes - Observations\n",
    "* Each hash is different so that hashes cannot feasibly be re-used in different contexts\n",
    "* There are 10 different contexts, each essentially having its own hash function\n",
    "* The idea is that each tagged hash is different, though underneath, they all depend on the security of SHA256\n"
   ]
  },
  {
   "cell_type": "markdown",
   "id": "dca3d96f",
   "metadata": {
    "slideshow": {
     "slide_type": "slide"
    }
   },
   "source": [
    "# $x$-only keys - Motivation\n",
    "* Compressed SEC format is 33 bytes, we can Save 1 byte by using $x$-only keys\n",
    "* As Schnorr Signatures define a point, we can reduce the size of of those from 72-73 bytes (DER-encoded ECDSA) to 64 bytes\n",
    "* The ScriptPubKeys for pay-to-taproot also save a byte to be 34 bytes\n"
   ]
  },
  {
   "cell_type": "markdown",
   "id": "25aa7b43",
   "metadata": {
    "slideshow": {
     "slide_type": "slide"
    }
   },
   "source": [
    "# $x$-only keys - Implementation\n",
    "* To get down to 32-bytes, we simply assume that $y$ is even.\n",
    "* This would be the same as the Compressed SEC format, but without the initial byte that lets us know whether the $y$ is even or odd.\n",
    "* If the secret is $e$ and the point is $eG=P=(x,y)$ and the resulting $y$ is odd, here's what we do.\n",
    "* The private key $e$ is flipped to $N-e$ if $y$ is odd\n",
    "* $eG=P=(x,y)$ means $(N-e)G=0-eG=-P=(x,-y)$. Since we're in a finite field and the finite field prime $p$ is a prime number greater than 2, $-y=p-y$ is guaranteed to be even (odd minus odd)\n"
   ]
  },
  {
   "cell_type": "code",
   "execution_count": 5,
   "id": "0e2ba900",
   "metadata": {
    "slideshow": {
     "slide_type": "slide"
    }
   },
   "outputs": [
    {
     "name": "stdout",
     "output_type": "stream",
     "text": [
      "f01d6b9018ab421dd410404cb869072065522bf85734008f105cf385a023a80f\n",
      "True\n"
     ]
    }
   ],
   "source": [
    "# Example X-only pubkey\n",
    "from ecc import PrivateKey, S256Point\n",
    "from helper import int_to_big_endian\n",
    "pubkey = PrivateKey(12345).point\n",
    "xonly = int_to_big_endian(pubkey.x.num, 32)\n",
    "print(xonly.hex())\n",
    "pubkey2 = S256Point.parse(xonly)\n",
    "print(pubkey.x == pubkey2.x)"
   ]
  },
  {
   "cell_type": "markdown",
   "id": "46caaef9",
   "metadata": {
    "slideshow": {
     "slide_type": "slide"
    }
   },
   "source": [
    "### Exercise 3\n",
    "Find the $x$-only pubkey format for the private key with the secret 21,000,000\n",
    "\n"
   ]
  },
  {
   "cell_type": "code",
   "execution_count": 6,
   "id": "27bf0df0",
   "metadata": {},
   "outputs": [
    {
     "name": "stdout",
     "output_type": "stream",
     "text": [
      "e79c4eb45764bd015542f6779cc70fef44b7a2432f839264768288efab886291\n"
     ]
    }
   ],
   "source": [
    "# Exercise 3\n",
    "\n",
    "from ecc import PrivateKey\n",
    "from helper import int_to_big_endian\n",
    "secret = 21000000\n",
    "# create a private key with the secret\n",
    "priv = PrivateKey(secret)\n",
    "# get the public point for the private key\n",
    "point = priv.point\n",
    "# convert the x coordinate to a big-endian integer 32 bytes\n",
    "xonly = int_to_big_endian(point.x.num, 32)\n",
    "# print the hex of the xonly representation\n",
    "print(xonly.hex())"
   ]
  },
  {
   "cell_type": "markdown",
   "id": "7bb4817c",
   "metadata": {
    "slideshow": {
     "slide_type": "slide"
    }
   },
   "source": [
    "### Exercise 4\n",
    "\n",
    "\n",
    "\n",
    "\n",
    "#### Make [this test](/edit/session0/ecc.py) pass: `ecc.py:XOnlyTest:test_xonly`"
   ]
  },
  {
   "cell_type": "code",
   "execution_count": 7,
   "id": "6b315cd6",
   "metadata": {},
   "outputs": [
    {
     "name": "stderr",
     "output_type": "stream",
     "text": [
      ".\n",
      "----------------------------------------------------------------------\n",
      "Ran 1 test in 0.000s\n",
      "\n",
      "OK\n"
     ]
    }
   ],
   "source": [
    "# Exercise 4\n",
    "\n",
    "reload(ecc)\n",
    "run(ecc.XOnlyTest('test_xonly'))"
   ]
  },
  {
   "cell_type": "markdown",
   "id": "791d5c9b",
   "metadata": {
    "slideshow": {
     "slide_type": "slide"
    }
   },
   "source": [
    "# $x$-only keys - Observations\n",
    "* The savings for $x$-only keys is 1 byte for pubkeys, which trickles to a lot of other serializations (Schnorr Signatures, pay-to-taproot ScriptPubKeys, etc)\n",
    "* However, there's now a bigger burden on the developer to \"flip\" the private key if the public key has an odd $y$\n",
    "* This also ends up being challenging to account for, especially with respect to aggregated signatures and aggregated pubkeys.\n",
    "\n",
    "Let's make a useful private-key flipping method in `PrivateKey` and a point flipping method in S256Point\n"
   ]
  },
  {
   "cell_type": "markdown",
   "id": "fba7f7e2",
   "metadata": {
    "slideshow": {
     "slide_type": "slide"
    }
   },
   "source": [
    "### Exercise 5\n",
    "\n",
    "\n",
    "\n",
    "\n",
    "#### Make [this test](/edit/session0/ecc.py) pass: `ecc.py:XOnlyTest:test_even_methods`"
   ]
  },
  {
   "cell_type": "code",
   "execution_count": 8,
   "id": "d73d21bd",
   "metadata": {},
   "outputs": [
    {
     "name": "stderr",
     "output_type": "stream",
     "text": [
      ".\n",
      "----------------------------------------------------------------------\n",
      "Ran 1 test in 0.132s\n",
      "\n",
      "OK\n"
     ]
    }
   ],
   "source": [
    "# Exercise 5\n",
    "\n",
    "reload(ecc)\n",
    "run(ecc.XOnlyTest('test_even_methods'))"
   ]
  }
 ],
 "metadata": {
  "kernelspec": {
   "display_name": "Python 3 (ipykernel)",
   "language": "python",
   "name": "python3"
  },
  "language_info": {
   "codemirror_mode": {
    "name": "ipython",
    "version": 3
   },
   "file_extension": ".py",
   "mimetype": "text/x-python",
   "name": "python",
   "nbconvert_exporter": "python",
   "pygments_lexer": "ipython3",
   "version": "3.11.5"
  }
 },
 "nbformat": 4,
 "nbformat_minor": 5
}
